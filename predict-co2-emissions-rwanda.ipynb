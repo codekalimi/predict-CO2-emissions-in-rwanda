{
 "cells": [
  {
   "cell_type": "code",
   "execution_count": 1,
   "id": "6874e6bc",
   "metadata": {
    "_cell_guid": "b1076dfc-b9ad-4769-8c92-a6c4dae69d19",
    "_uuid": "8f2839f25d086af736a60e9eeb907d3b93b6e0e5",
    "execution": {
     "iopub.execute_input": "2023-08-14T21:19:15.421870Z",
     "iopub.status.busy": "2023-08-14T21:19:15.421464Z",
     "iopub.status.idle": "2023-08-14T21:19:15.436980Z",
     "shell.execute_reply": "2023-08-14T21:19:15.435931Z"
    },
    "papermill": {
     "duration": 0.037878,
     "end_time": "2023-08-14T21:19:15.439914",
     "exception": false,
     "start_time": "2023-08-14T21:19:15.402036",
     "status": "completed"
    },
    "tags": []
   },
   "outputs": [
    {
     "name": "stdout",
     "output_type": "stream",
     "text": [
      "/kaggle/input/playground-series-s3e20/sample_submission.csv\n",
      "/kaggle/input/playground-series-s3e20/train.csv\n",
      "/kaggle/input/playground-series-s3e20/test.csv\n"
     ]
    }
   ],
   "source": [
    "# This Python 3 environment comes with many helpful analytics libraries installed\n",
    "# It is defined by the kaggle/python Docker image: https://github.com/kaggle/docker-python\n",
    "# For example, here's several helpful packages to load\n",
    "\n",
    "import numpy as np # linear algebra\n",
    "import pandas as pd # data processing, CSV file I/O (e.g. pd.read_csv)\n",
    "\n",
    "# Input data files are available in the read-only \"../input/\" directory\n",
    "# For example, running this (by clicking run or pressing Shift+Enter) will list all files under the input directory\n",
    "\n",
    "import os\n",
    "for dirname, _, filenames in os.walk('/kaggle/input'):\n",
    "    for filename in filenames:\n",
    "        print(os.path.join(dirname, filename))\n",
    "\n",
    "# You can write up to 20GB to the current directory (/kaggle/working/) that gets preserved as output when you create a version using \"Save & Run All\" \n",
    "# You can also write temporary files to /kaggle/temp/, but they won't be saved outside of the current session"
   ]
  },
  {
   "cell_type": "markdown",
   "id": "c367bd43",
   "metadata": {
    "papermill": {
     "duration": 0.01693,
     "end_time": "2023-08-14T21:19:15.474817",
     "exception": false,
     "start_time": "2023-08-14T21:19:15.457887",
     "status": "completed"
    },
    "tags": []
   },
   "source": [
    "# Get Insight from the data"
   ]
  },
  {
   "cell_type": "code",
   "execution_count": 2,
   "id": "f5f2bc72",
   "metadata": {
    "execution": {
     "iopub.execute_input": "2023-08-14T21:19:15.511711Z",
     "iopub.status.busy": "2023-08-14T21:19:15.511266Z",
     "iopub.status.idle": "2023-08-14T21:19:18.260109Z",
     "shell.execute_reply": "2023-08-14T21:19:18.258613Z"
    },
    "papermill": {
     "duration": 2.770322,
     "end_time": "2023-08-14T21:19:18.263063",
     "exception": false,
     "start_time": "2023-08-14T21:19:15.492741",
     "status": "completed"
    },
    "tags": []
   },
   "outputs": [
    {
     "data": {
      "text/html": [
       "<div>\n",
       "<style scoped>\n",
       "    .dataframe tbody tr th:only-of-type {\n",
       "        vertical-align: middle;\n",
       "    }\n",
       "\n",
       "    .dataframe tbody tr th {\n",
       "        vertical-align: top;\n",
       "    }\n",
       "\n",
       "    .dataframe thead th {\n",
       "        text-align: right;\n",
       "    }\n",
       "</style>\n",
       "<table border=\"1\" class=\"dataframe\">\n",
       "  <thead>\n",
       "    <tr style=\"text-align: right;\">\n",
       "      <th></th>\n",
       "      <th>ID_LAT_LON_YEAR_WEEK</th>\n",
       "      <th>latitude</th>\n",
       "      <th>longitude</th>\n",
       "      <th>year</th>\n",
       "      <th>week_no</th>\n",
       "      <th>SulphurDioxide_SO2_column_number_density</th>\n",
       "      <th>SulphurDioxide_SO2_column_number_density_amf</th>\n",
       "      <th>SulphurDioxide_SO2_slant_column_number_density</th>\n",
       "      <th>SulphurDioxide_cloud_fraction</th>\n",
       "      <th>SulphurDioxide_sensor_azimuth_angle</th>\n",
       "      <th>...</th>\n",
       "      <th>Cloud_cloud_top_height</th>\n",
       "      <th>Cloud_cloud_base_pressure</th>\n",
       "      <th>Cloud_cloud_base_height</th>\n",
       "      <th>Cloud_cloud_optical_depth</th>\n",
       "      <th>Cloud_surface_albedo</th>\n",
       "      <th>Cloud_sensor_azimuth_angle</th>\n",
       "      <th>Cloud_sensor_zenith_angle</th>\n",
       "      <th>Cloud_solar_azimuth_angle</th>\n",
       "      <th>Cloud_solar_zenith_angle</th>\n",
       "      <th>emission</th>\n",
       "    </tr>\n",
       "  </thead>\n",
       "  <tbody>\n",
       "    <tr>\n",
       "      <th>0</th>\n",
       "      <td>ID_-0.510_29.290_2019_00</td>\n",
       "      <td>-0.51</td>\n",
       "      <td>29.29</td>\n",
       "      <td>2019</td>\n",
       "      <td>0</td>\n",
       "      <td>-0.000108</td>\n",
       "      <td>0.603019</td>\n",
       "      <td>-0.000065</td>\n",
       "      <td>0.255668</td>\n",
       "      <td>-98.593887</td>\n",
       "      <td>...</td>\n",
       "      <td>3664.436218</td>\n",
       "      <td>61085.809570</td>\n",
       "      <td>2615.120483</td>\n",
       "      <td>15.568533</td>\n",
       "      <td>0.272292</td>\n",
       "      <td>-12.628986</td>\n",
       "      <td>35.632416</td>\n",
       "      <td>-138.786423</td>\n",
       "      <td>30.752140</td>\n",
       "      <td>3.750994</td>\n",
       "    </tr>\n",
       "    <tr>\n",
       "      <th>1</th>\n",
       "      <td>ID_-0.510_29.290_2019_01</td>\n",
       "      <td>-0.51</td>\n",
       "      <td>29.29</td>\n",
       "      <td>2019</td>\n",
       "      <td>1</td>\n",
       "      <td>0.000021</td>\n",
       "      <td>0.728214</td>\n",
       "      <td>0.000014</td>\n",
       "      <td>0.130988</td>\n",
       "      <td>16.592861</td>\n",
       "      <td>...</td>\n",
       "      <td>3651.190311</td>\n",
       "      <td>66969.478735</td>\n",
       "      <td>3174.572424</td>\n",
       "      <td>8.690601</td>\n",
       "      <td>0.256830</td>\n",
       "      <td>30.359375</td>\n",
       "      <td>39.557633</td>\n",
       "      <td>-145.183930</td>\n",
       "      <td>27.251779</td>\n",
       "      <td>4.025176</td>\n",
       "    </tr>\n",
       "    <tr>\n",
       "      <th>2</th>\n",
       "      <td>ID_-0.510_29.290_2019_02</td>\n",
       "      <td>-0.51</td>\n",
       "      <td>29.29</td>\n",
       "      <td>2019</td>\n",
       "      <td>2</td>\n",
       "      <td>0.000514</td>\n",
       "      <td>0.748199</td>\n",
       "      <td>0.000385</td>\n",
       "      <td>0.110018</td>\n",
       "      <td>72.795837</td>\n",
       "      <td>...</td>\n",
       "      <td>4216.986492</td>\n",
       "      <td>60068.894448</td>\n",
       "      <td>3516.282669</td>\n",
       "      <td>21.103410</td>\n",
       "      <td>0.251101</td>\n",
       "      <td>15.377883</td>\n",
       "      <td>30.401823</td>\n",
       "      <td>-142.519545</td>\n",
       "      <td>26.193296</td>\n",
       "      <td>4.231381</td>\n",
       "    </tr>\n",
       "    <tr>\n",
       "      <th>3</th>\n",
       "      <td>ID_-0.510_29.290_2019_03</td>\n",
       "      <td>-0.51</td>\n",
       "      <td>29.29</td>\n",
       "      <td>2019</td>\n",
       "      <td>3</td>\n",
       "      <td>NaN</td>\n",
       "      <td>NaN</td>\n",
       "      <td>NaN</td>\n",
       "      <td>NaN</td>\n",
       "      <td>NaN</td>\n",
       "      <td>...</td>\n",
       "      <td>5228.507736</td>\n",
       "      <td>51064.547339</td>\n",
       "      <td>4180.973322</td>\n",
       "      <td>15.386899</td>\n",
       "      <td>0.262043</td>\n",
       "      <td>-11.293399</td>\n",
       "      <td>24.380357</td>\n",
       "      <td>-132.665828</td>\n",
       "      <td>28.829155</td>\n",
       "      <td>4.305286</td>\n",
       "    </tr>\n",
       "    <tr>\n",
       "      <th>4</th>\n",
       "      <td>ID_-0.510_29.290_2019_04</td>\n",
       "      <td>-0.51</td>\n",
       "      <td>29.29</td>\n",
       "      <td>2019</td>\n",
       "      <td>4</td>\n",
       "      <td>-0.000079</td>\n",
       "      <td>0.676296</td>\n",
       "      <td>-0.000048</td>\n",
       "      <td>0.121164</td>\n",
       "      <td>4.121269</td>\n",
       "      <td>...</td>\n",
       "      <td>3980.598120</td>\n",
       "      <td>63751.125781</td>\n",
       "      <td>3355.710107</td>\n",
       "      <td>8.114694</td>\n",
       "      <td>0.235847</td>\n",
       "      <td>38.532263</td>\n",
       "      <td>37.392979</td>\n",
       "      <td>-141.509805</td>\n",
       "      <td>22.204612</td>\n",
       "      <td>4.347317</td>\n",
       "    </tr>\n",
       "  </tbody>\n",
       "</table>\n",
       "<p>5 rows × 76 columns</p>\n",
       "</div>"
      ],
      "text/plain": [
       "       ID_LAT_LON_YEAR_WEEK  latitude  longitude  year  week_no  \\\n",
       "0  ID_-0.510_29.290_2019_00     -0.51      29.29  2019        0   \n",
       "1  ID_-0.510_29.290_2019_01     -0.51      29.29  2019        1   \n",
       "2  ID_-0.510_29.290_2019_02     -0.51      29.29  2019        2   \n",
       "3  ID_-0.510_29.290_2019_03     -0.51      29.29  2019        3   \n",
       "4  ID_-0.510_29.290_2019_04     -0.51      29.29  2019        4   \n",
       "\n",
       "   SulphurDioxide_SO2_column_number_density  \\\n",
       "0                                 -0.000108   \n",
       "1                                  0.000021   \n",
       "2                                  0.000514   \n",
       "3                                       NaN   \n",
       "4                                 -0.000079   \n",
       "\n",
       "   SulphurDioxide_SO2_column_number_density_amf  \\\n",
       "0                                      0.603019   \n",
       "1                                      0.728214   \n",
       "2                                      0.748199   \n",
       "3                                           NaN   \n",
       "4                                      0.676296   \n",
       "\n",
       "   SulphurDioxide_SO2_slant_column_number_density  \\\n",
       "0                                       -0.000065   \n",
       "1                                        0.000014   \n",
       "2                                        0.000385   \n",
       "3                                             NaN   \n",
       "4                                       -0.000048   \n",
       "\n",
       "   SulphurDioxide_cloud_fraction  SulphurDioxide_sensor_azimuth_angle  ...  \\\n",
       "0                       0.255668                           -98.593887  ...   \n",
       "1                       0.130988                            16.592861  ...   \n",
       "2                       0.110018                            72.795837  ...   \n",
       "3                            NaN                                  NaN  ...   \n",
       "4                       0.121164                             4.121269  ...   \n",
       "\n",
       "   Cloud_cloud_top_height  Cloud_cloud_base_pressure  Cloud_cloud_base_height  \\\n",
       "0             3664.436218               61085.809570              2615.120483   \n",
       "1             3651.190311               66969.478735              3174.572424   \n",
       "2             4216.986492               60068.894448              3516.282669   \n",
       "3             5228.507736               51064.547339              4180.973322   \n",
       "4             3980.598120               63751.125781              3355.710107   \n",
       "\n",
       "   Cloud_cloud_optical_depth  Cloud_surface_albedo  \\\n",
       "0                  15.568533              0.272292   \n",
       "1                   8.690601              0.256830   \n",
       "2                  21.103410              0.251101   \n",
       "3                  15.386899              0.262043   \n",
       "4                   8.114694              0.235847   \n",
       "\n",
       "   Cloud_sensor_azimuth_angle  Cloud_sensor_zenith_angle  \\\n",
       "0                  -12.628986                  35.632416   \n",
       "1                   30.359375                  39.557633   \n",
       "2                   15.377883                  30.401823   \n",
       "3                  -11.293399                  24.380357   \n",
       "4                   38.532263                  37.392979   \n",
       "\n",
       "   Cloud_solar_azimuth_angle  Cloud_solar_zenith_angle  emission  \n",
       "0                -138.786423                 30.752140  3.750994  \n",
       "1                -145.183930                 27.251779  4.025176  \n",
       "2                -142.519545                 26.193296  4.231381  \n",
       "3                -132.665828                 28.829155  4.305286  \n",
       "4                -141.509805                 22.204612  4.347317  \n",
       "\n",
       "[5 rows x 76 columns]"
      ]
     },
     "execution_count": 2,
     "metadata": {},
     "output_type": "execute_result"
    }
   ],
   "source": [
    "train = pd.read_csv(\"/kaggle/input/playground-series-s3e20/train.csv\")\n",
    "train.head()"
   ]
  },
  {
   "cell_type": "code",
   "execution_count": 3,
   "id": "21e80fb2",
   "metadata": {
    "execution": {
     "iopub.execute_input": "2023-08-14T21:19:18.303983Z",
     "iopub.status.busy": "2023-08-14T21:19:18.303592Z",
     "iopub.status.idle": "2023-08-14T21:19:18.328787Z",
     "shell.execute_reply": "2023-08-14T21:19:18.327570Z"
    },
    "papermill": {
     "duration": 0.049765,
     "end_time": "2023-08-14T21:19:18.332246",
     "exception": false,
     "start_time": "2023-08-14T21:19:18.282481",
     "status": "completed"
    },
    "tags": []
   },
   "outputs": [],
   "source": [
    "train_base = train.copy()"
   ]
  },
  {
   "cell_type": "code",
   "execution_count": 4,
   "id": "ac1fd54f",
   "metadata": {
    "execution": {
     "iopub.execute_input": "2023-08-14T21:19:18.372138Z",
     "iopub.status.busy": "2023-08-14T21:19:18.370355Z",
     "iopub.status.idle": "2023-08-14T21:19:18.967040Z",
     "shell.execute_reply": "2023-08-14T21:19:18.965248Z"
    },
    "papermill": {
     "duration": 0.619994,
     "end_time": "2023-08-14T21:19:18.970369",
     "exception": false,
     "start_time": "2023-08-14T21:19:18.350375",
     "status": "completed"
    },
    "tags": []
   },
   "outputs": [
    {
     "data": {
      "text/html": [
       "<div>\n",
       "<style scoped>\n",
       "    .dataframe tbody tr th:only-of-type {\n",
       "        vertical-align: middle;\n",
       "    }\n",
       "\n",
       "    .dataframe tbody tr th {\n",
       "        vertical-align: top;\n",
       "    }\n",
       "\n",
       "    .dataframe thead th {\n",
       "        text-align: right;\n",
       "    }\n",
       "</style>\n",
       "<table border=\"1\" class=\"dataframe\">\n",
       "  <thead>\n",
       "    <tr style=\"text-align: right;\">\n",
       "      <th></th>\n",
       "      <th>latitude</th>\n",
       "      <th>longitude</th>\n",
       "      <th>year</th>\n",
       "      <th>week_no</th>\n",
       "      <th>SulphurDioxide_SO2_column_number_density</th>\n",
       "      <th>SulphurDioxide_SO2_column_number_density_amf</th>\n",
       "      <th>SulphurDioxide_SO2_slant_column_number_density</th>\n",
       "      <th>SulphurDioxide_cloud_fraction</th>\n",
       "      <th>SulphurDioxide_sensor_azimuth_angle</th>\n",
       "      <th>SulphurDioxide_sensor_zenith_angle</th>\n",
       "      <th>...</th>\n",
       "      <th>Cloud_cloud_top_height</th>\n",
       "      <th>Cloud_cloud_base_pressure</th>\n",
       "      <th>Cloud_cloud_base_height</th>\n",
       "      <th>Cloud_cloud_optical_depth</th>\n",
       "      <th>Cloud_surface_albedo</th>\n",
       "      <th>Cloud_sensor_azimuth_angle</th>\n",
       "      <th>Cloud_sensor_zenith_angle</th>\n",
       "      <th>Cloud_solar_azimuth_angle</th>\n",
       "      <th>Cloud_solar_zenith_angle</th>\n",
       "      <th>emission</th>\n",
       "    </tr>\n",
       "  </thead>\n",
       "  <tbody>\n",
       "    <tr>\n",
       "      <th>count</th>\n",
       "      <td>79023.000000</td>\n",
       "      <td>79023.000000</td>\n",
       "      <td>79023.000000</td>\n",
       "      <td>79023.000000</td>\n",
       "      <td>64414.000000</td>\n",
       "      <td>64414.000000</td>\n",
       "      <td>64414.000000</td>\n",
       "      <td>64414.000000</td>\n",
       "      <td>64414.000000</td>\n",
       "      <td>64414.000000</td>\n",
       "      <td>...</td>\n",
       "      <td>78539.000000</td>\n",
       "      <td>78539.000000</td>\n",
       "      <td>78539.000000</td>\n",
       "      <td>78539.000000</td>\n",
       "      <td>78539.000000</td>\n",
       "      <td>78539.000000</td>\n",
       "      <td>78539.000000</td>\n",
       "      <td>78539.000000</td>\n",
       "      <td>78539.000000</td>\n",
       "      <td>79023.000000</td>\n",
       "    </tr>\n",
       "    <tr>\n",
       "      <th>mean</th>\n",
       "      <td>-1.891072</td>\n",
       "      <td>29.880155</td>\n",
       "      <td>2020.000000</td>\n",
       "      <td>26.000000</td>\n",
       "      <td>0.000048</td>\n",
       "      <td>0.834848</td>\n",
       "      <td>0.000035</td>\n",
       "      <td>0.158418</td>\n",
       "      <td>-7.925870</td>\n",
       "      <td>37.436189</td>\n",
       "      <td>...</td>\n",
       "      <td>5592.377478</td>\n",
       "      <td>59420.297456</td>\n",
       "      <td>4670.430869</td>\n",
       "      <td>19.139241</td>\n",
       "      <td>0.271460</td>\n",
       "      <td>-10.784832</td>\n",
       "      <td>40.436976</td>\n",
       "      <td>-86.800583</td>\n",
       "      <td>27.925981</td>\n",
       "      <td>81.940552</td>\n",
       "    </tr>\n",
       "    <tr>\n",
       "      <th>std</th>\n",
       "      <td>0.694522</td>\n",
       "      <td>0.810375</td>\n",
       "      <td>0.816502</td>\n",
       "      <td>15.297155</td>\n",
       "      <td>0.000272</td>\n",
       "      <td>0.185382</td>\n",
       "      <td>0.000206</td>\n",
       "      <td>0.071364</td>\n",
       "      <td>64.263368</td>\n",
       "      <td>14.149950</td>\n",
       "      <td>...</td>\n",
       "      <td>1428.503002</td>\n",
       "      <td>9051.163609</td>\n",
       "      <td>1359.251583</td>\n",
       "      <td>13.547047</td>\n",
       "      <td>0.049434</td>\n",
       "      <td>30.374462</td>\n",
       "      <td>6.428216</td>\n",
       "      <td>37.837269</td>\n",
       "      <td>4.403835</td>\n",
       "      <td>144.299648</td>\n",
       "    </tr>\n",
       "    <tr>\n",
       "      <th>min</th>\n",
       "      <td>-3.299000</td>\n",
       "      <td>28.228000</td>\n",
       "      <td>2019.000000</td>\n",
       "      <td>0.000000</td>\n",
       "      <td>-0.000996</td>\n",
       "      <td>0.241822</td>\n",
       "      <td>-0.000887</td>\n",
       "      <td>0.000000</td>\n",
       "      <td>-179.537059</td>\n",
       "      <td>0.099237</td>\n",
       "      <td>...</td>\n",
       "      <td>1050.661782</td>\n",
       "      <td>24779.033704</td>\n",
       "      <td>1050.496816</td>\n",
       "      <td>1.844529</td>\n",
       "      <td>0.017697</td>\n",
       "      <td>-102.739731</td>\n",
       "      <td>2.998873</td>\n",
       "      <td>-153.464211</td>\n",
       "      <td>10.818288</td>\n",
       "      <td>0.000000</td>\n",
       "    </tr>\n",
       "    <tr>\n",
       "      <th>25%</th>\n",
       "      <td>-2.451000</td>\n",
       "      <td>29.262000</td>\n",
       "      <td>2019.000000</td>\n",
       "      <td>13.000000</td>\n",
       "      <td>-0.000096</td>\n",
       "      <td>0.705817</td>\n",
       "      <td>-0.000078</td>\n",
       "      <td>0.110535</td>\n",
       "      <td>-56.782383</td>\n",
       "      <td>28.844520</td>\n",
       "      <td>...</td>\n",
       "      <td>4595.400519</td>\n",
       "      <td>53175.779928</td>\n",
       "      <td>3680.856344</td>\n",
       "      <td>9.974574</td>\n",
       "      <td>0.241453</td>\n",
       "      <td>-30.309170</td>\n",
       "      <td>35.829907</td>\n",
       "      <td>-125.991158</td>\n",
       "      <td>24.686763</td>\n",
       "      <td>9.797995</td>\n",
       "    </tr>\n",
       "    <tr>\n",
       "      <th>50%</th>\n",
       "      <td>-1.882000</td>\n",
       "      <td>29.883000</td>\n",
       "      <td>2020.000000</td>\n",
       "      <td>26.000000</td>\n",
       "      <td>0.000024</td>\n",
       "      <td>0.809118</td>\n",
       "      <td>0.000019</td>\n",
       "      <td>0.161855</td>\n",
       "      <td>-12.441726</td>\n",
       "      <td>37.784299</td>\n",
       "      <td>...</td>\n",
       "      <td>5573.854309</td>\n",
       "      <td>59332.532548</td>\n",
       "      <td>4621.755170</td>\n",
       "      <td>15.130688</td>\n",
       "      <td>0.272747</td>\n",
       "      <td>-12.673914</td>\n",
       "      <td>41.119630</td>\n",
       "      <td>-84.644352</td>\n",
       "      <td>28.333630</td>\n",
       "      <td>45.593445</td>\n",
       "    </tr>\n",
       "    <tr>\n",
       "      <th>75%</th>\n",
       "      <td>-1.303000</td>\n",
       "      <td>30.471000</td>\n",
       "      <td>2021.000000</td>\n",
       "      <td>39.000000</td>\n",
       "      <td>0.000153</td>\n",
       "      <td>0.942792</td>\n",
       "      <td>0.000121</td>\n",
       "      <td>0.211824</td>\n",
       "      <td>72.059990</td>\n",
       "      <td>47.634875</td>\n",
       "      <td>...</td>\n",
       "      <td>6542.303642</td>\n",
       "      <td>65663.842684</td>\n",
       "      <td>5572.983223</td>\n",
       "      <td>23.785030</td>\n",
       "      <td>0.302892</td>\n",
       "      <td>9.402202</td>\n",
       "      <td>44.446272</td>\n",
       "      <td>-48.132701</td>\n",
       "      <td>31.499883</td>\n",
       "      <td>109.549595</td>\n",
       "    </tr>\n",
       "    <tr>\n",
       "      <th>max</th>\n",
       "      <td>-0.510000</td>\n",
       "      <td>31.532000</td>\n",
       "      <td>2021.000000</td>\n",
       "      <td>52.000000</td>\n",
       "      <td>0.004191</td>\n",
       "      <td>1.885239</td>\n",
       "      <td>0.004236</td>\n",
       "      <td>0.299998</td>\n",
       "      <td>122.095200</td>\n",
       "      <td>66.242012</td>\n",
       "      <td>...</td>\n",
       "      <td>12384.239458</td>\n",
       "      <td>89291.615576</td>\n",
       "      <td>11384.239458</td>\n",
       "      <td>250.000000</td>\n",
       "      <td>0.736514</td>\n",
       "      <td>78.223037</td>\n",
       "      <td>65.951248</td>\n",
       "      <td>-22.653170</td>\n",
       "      <td>42.060436</td>\n",
       "      <td>3167.768000</td>\n",
       "    </tr>\n",
       "  </tbody>\n",
       "</table>\n",
       "<p>8 rows × 75 columns</p>\n",
       "</div>"
      ],
      "text/plain": [
       "           latitude     longitude          year       week_no  \\\n",
       "count  79023.000000  79023.000000  79023.000000  79023.000000   \n",
       "mean      -1.891072     29.880155   2020.000000     26.000000   \n",
       "std        0.694522      0.810375      0.816502     15.297155   \n",
       "min       -3.299000     28.228000   2019.000000      0.000000   \n",
       "25%       -2.451000     29.262000   2019.000000     13.000000   \n",
       "50%       -1.882000     29.883000   2020.000000     26.000000   \n",
       "75%       -1.303000     30.471000   2021.000000     39.000000   \n",
       "max       -0.510000     31.532000   2021.000000     52.000000   \n",
       "\n",
       "       SulphurDioxide_SO2_column_number_density  \\\n",
       "count                              64414.000000   \n",
       "mean                                   0.000048   \n",
       "std                                    0.000272   \n",
       "min                                   -0.000996   \n",
       "25%                                   -0.000096   \n",
       "50%                                    0.000024   \n",
       "75%                                    0.000153   \n",
       "max                                    0.004191   \n",
       "\n",
       "       SulphurDioxide_SO2_column_number_density_amf  \\\n",
       "count                                  64414.000000   \n",
       "mean                                       0.834848   \n",
       "std                                        0.185382   \n",
       "min                                        0.241822   \n",
       "25%                                        0.705817   \n",
       "50%                                        0.809118   \n",
       "75%                                        0.942792   \n",
       "max                                        1.885239   \n",
       "\n",
       "       SulphurDioxide_SO2_slant_column_number_density  \\\n",
       "count                                    64414.000000   \n",
       "mean                                         0.000035   \n",
       "std                                          0.000206   \n",
       "min                                         -0.000887   \n",
       "25%                                         -0.000078   \n",
       "50%                                          0.000019   \n",
       "75%                                          0.000121   \n",
       "max                                          0.004236   \n",
       "\n",
       "       SulphurDioxide_cloud_fraction  SulphurDioxide_sensor_azimuth_angle  \\\n",
       "count                   64414.000000                         64414.000000   \n",
       "mean                        0.158418                            -7.925870   \n",
       "std                         0.071364                            64.263368   \n",
       "min                         0.000000                          -179.537059   \n",
       "25%                         0.110535                           -56.782383   \n",
       "50%                         0.161855                           -12.441726   \n",
       "75%                         0.211824                            72.059990   \n",
       "max                         0.299998                           122.095200   \n",
       "\n",
       "       SulphurDioxide_sensor_zenith_angle  ...  Cloud_cloud_top_height  \\\n",
       "count                        64414.000000  ...            78539.000000   \n",
       "mean                            37.436189  ...             5592.377478   \n",
       "std                             14.149950  ...             1428.503002   \n",
       "min                              0.099237  ...             1050.661782   \n",
       "25%                             28.844520  ...             4595.400519   \n",
       "50%                             37.784299  ...             5573.854309   \n",
       "75%                             47.634875  ...             6542.303642   \n",
       "max                             66.242012  ...            12384.239458   \n",
       "\n",
       "       Cloud_cloud_base_pressure  Cloud_cloud_base_height  \\\n",
       "count               78539.000000             78539.000000   \n",
       "mean                59420.297456              4670.430869   \n",
       "std                  9051.163609              1359.251583   \n",
       "min                 24779.033704              1050.496816   \n",
       "25%                 53175.779928              3680.856344   \n",
       "50%                 59332.532548              4621.755170   \n",
       "75%                 65663.842684              5572.983223   \n",
       "max                 89291.615576             11384.239458   \n",
       "\n",
       "       Cloud_cloud_optical_depth  Cloud_surface_albedo  \\\n",
       "count               78539.000000          78539.000000   \n",
       "mean                   19.139241              0.271460   \n",
       "std                    13.547047              0.049434   \n",
       "min                     1.844529              0.017697   \n",
       "25%                     9.974574              0.241453   \n",
       "50%                    15.130688              0.272747   \n",
       "75%                    23.785030              0.302892   \n",
       "max                   250.000000              0.736514   \n",
       "\n",
       "       Cloud_sensor_azimuth_angle  Cloud_sensor_zenith_angle  \\\n",
       "count                78539.000000               78539.000000   \n",
       "mean                   -10.784832                  40.436976   \n",
       "std                     30.374462                   6.428216   \n",
       "min                   -102.739731                   2.998873   \n",
       "25%                    -30.309170                  35.829907   \n",
       "50%                    -12.673914                  41.119630   \n",
       "75%                      9.402202                  44.446272   \n",
       "max                     78.223037                  65.951248   \n",
       "\n",
       "       Cloud_solar_azimuth_angle  Cloud_solar_zenith_angle      emission  \n",
       "count               78539.000000              78539.000000  79023.000000  \n",
       "mean                  -86.800583                 27.925981     81.940552  \n",
       "std                    37.837269                  4.403835    144.299648  \n",
       "min                  -153.464211                 10.818288      0.000000  \n",
       "25%                  -125.991158                 24.686763      9.797995  \n",
       "50%                   -84.644352                 28.333630     45.593445  \n",
       "75%                   -48.132701                 31.499883    109.549595  \n",
       "max                   -22.653170                 42.060436   3167.768000  \n",
       "\n",
       "[8 rows x 75 columns]"
      ]
     },
     "execution_count": 4,
     "metadata": {},
     "output_type": "execute_result"
    }
   ],
   "source": [
    "train.describe()"
   ]
  },
  {
   "cell_type": "code",
   "execution_count": 5,
   "id": "ac189841",
   "metadata": {
    "execution": {
     "iopub.execute_input": "2023-08-14T21:19:19.008158Z",
     "iopub.status.busy": "2023-08-14T21:19:19.007764Z",
     "iopub.status.idle": "2023-08-14T21:19:19.076732Z",
     "shell.execute_reply": "2023-08-14T21:19:19.074646Z"
    },
    "papermill": {
     "duration": 0.092389,
     "end_time": "2023-08-14T21:19:19.080766",
     "exception": false,
     "start_time": "2023-08-14T21:19:18.988377",
     "status": "completed"
    },
    "tags": []
   },
   "outputs": [
    {
     "name": "stdout",
     "output_type": "stream",
     "text": [
      "<class 'pandas.core.frame.DataFrame'>\n",
      "RangeIndex: 79023 entries, 0 to 79022\n",
      "Data columns (total 76 columns):\n",
      " #   Column                                                    Non-Null Count  Dtype  \n",
      "---  ------                                                    --------------  -----  \n",
      " 0   ID_LAT_LON_YEAR_WEEK                                      79023 non-null  object \n",
      " 1   latitude                                                  79023 non-null  float64\n",
      " 2   longitude                                                 79023 non-null  float64\n",
      " 3   year                                                      79023 non-null  int64  \n",
      " 4   week_no                                                   79023 non-null  int64  \n",
      " 5   SulphurDioxide_SO2_column_number_density                  64414 non-null  float64\n",
      " 6   SulphurDioxide_SO2_column_number_density_amf              64414 non-null  float64\n",
      " 7   SulphurDioxide_SO2_slant_column_number_density            64414 non-null  float64\n",
      " 8   SulphurDioxide_cloud_fraction                             64414 non-null  float64\n",
      " 9   SulphurDioxide_sensor_azimuth_angle                       64414 non-null  float64\n",
      " 10  SulphurDioxide_sensor_zenith_angle                        64414 non-null  float64\n",
      " 11  SulphurDioxide_solar_azimuth_angle                        64414 non-null  float64\n",
      " 12  SulphurDioxide_solar_zenith_angle                         64414 non-null  float64\n",
      " 13  SulphurDioxide_SO2_column_number_density_15km             64414 non-null  float64\n",
      " 14  CarbonMonoxide_CO_column_number_density                   76901 non-null  float64\n",
      " 15  CarbonMonoxide_H2O_column_number_density                  76901 non-null  float64\n",
      " 16  CarbonMonoxide_cloud_height                               76901 non-null  float64\n",
      " 17  CarbonMonoxide_sensor_altitude                            76901 non-null  float64\n",
      " 18  CarbonMonoxide_sensor_azimuth_angle                       76901 non-null  float64\n",
      " 19  CarbonMonoxide_sensor_zenith_angle                        76901 non-null  float64\n",
      " 20  CarbonMonoxide_solar_azimuth_angle                        76901 non-null  float64\n",
      " 21  CarbonMonoxide_solar_zenith_angle                         76901 non-null  float64\n",
      " 22  NitrogenDioxide_NO2_column_number_density                 60703 non-null  float64\n",
      " 23  NitrogenDioxide_tropospheric_NO2_column_number_density    60703 non-null  float64\n",
      " 24  NitrogenDioxide_stratospheric_NO2_column_number_density   60703 non-null  float64\n",
      " 25  NitrogenDioxide_NO2_slant_column_number_density           60703 non-null  float64\n",
      " 26  NitrogenDioxide_tropopause_pressure                       60703 non-null  float64\n",
      " 27  NitrogenDioxide_absorbing_aerosol_index                   60703 non-null  float64\n",
      " 28  NitrogenDioxide_cloud_fraction                            60703 non-null  float64\n",
      " 29  NitrogenDioxide_sensor_altitude                           60703 non-null  float64\n",
      " 30  NitrogenDioxide_sensor_azimuth_angle                      60703 non-null  float64\n",
      " 31  NitrogenDioxide_sensor_zenith_angle                       60703 non-null  float64\n",
      " 32  NitrogenDioxide_solar_azimuth_angle                       60703 non-null  float64\n",
      " 33  NitrogenDioxide_solar_zenith_angle                        60703 non-null  float64\n",
      " 34  Formaldehyde_tropospheric_HCHO_column_number_density      71746 non-null  float64\n",
      " 35  Formaldehyde_tropospheric_HCHO_column_number_density_amf  71746 non-null  float64\n",
      " 36  Formaldehyde_HCHO_slant_column_number_density             71746 non-null  float64\n",
      " 37  Formaldehyde_cloud_fraction                               71746 non-null  float64\n",
      " 38  Formaldehyde_solar_zenith_angle                           71746 non-null  float64\n",
      " 39  Formaldehyde_solar_azimuth_angle                          71746 non-null  float64\n",
      " 40  Formaldehyde_sensor_zenith_angle                          71746 non-null  float64\n",
      " 41  Formaldehyde_sensor_azimuth_angle                         71746 non-null  float64\n",
      " 42  UvAerosolIndex_absorbing_aerosol_index                    78484 non-null  float64\n",
      " 43  UvAerosolIndex_sensor_altitude                            78484 non-null  float64\n",
      " 44  UvAerosolIndex_sensor_azimuth_angle                       78484 non-null  float64\n",
      " 45  UvAerosolIndex_sensor_zenith_angle                        78484 non-null  float64\n",
      " 46  UvAerosolIndex_solar_azimuth_angle                        78484 non-null  float64\n",
      " 47  UvAerosolIndex_solar_zenith_angle                         78484 non-null  float64\n",
      " 48  Ozone_O3_column_number_density                            78475 non-null  float64\n",
      " 49  Ozone_O3_column_number_density_amf                        78475 non-null  float64\n",
      " 50  Ozone_O3_slant_column_number_density                      78475 non-null  float64\n",
      " 51  Ozone_O3_effective_temperature                            78475 non-null  float64\n",
      " 52  Ozone_cloud_fraction                                      78475 non-null  float64\n",
      " 53  Ozone_sensor_azimuth_angle                                78475 non-null  float64\n",
      " 54  Ozone_sensor_zenith_angle                                 78475 non-null  float64\n",
      " 55  Ozone_solar_azimuth_angle                                 78475 non-null  float64\n",
      " 56  Ozone_solar_zenith_angle                                  78475 non-null  float64\n",
      " 57  UvAerosolLayerHeight_aerosol_height                       439 non-null    float64\n",
      " 58  UvAerosolLayerHeight_aerosol_pressure                     439 non-null    float64\n",
      " 59  UvAerosolLayerHeight_aerosol_optical_depth                439 non-null    float64\n",
      " 60  UvAerosolLayerHeight_sensor_zenith_angle                  439 non-null    float64\n",
      " 61  UvAerosolLayerHeight_sensor_azimuth_angle                 439 non-null    float64\n",
      " 62  UvAerosolLayerHeight_solar_azimuth_angle                  439 non-null    float64\n",
      " 63  UvAerosolLayerHeight_solar_zenith_angle                   439 non-null    float64\n",
      " 64  Cloud_cloud_fraction                                      78539 non-null  float64\n",
      " 65  Cloud_cloud_top_pressure                                  78539 non-null  float64\n",
      " 66  Cloud_cloud_top_height                                    78539 non-null  float64\n",
      " 67  Cloud_cloud_base_pressure                                 78539 non-null  float64\n",
      " 68  Cloud_cloud_base_height                                   78539 non-null  float64\n",
      " 69  Cloud_cloud_optical_depth                                 78539 non-null  float64\n",
      " 70  Cloud_surface_albedo                                      78539 non-null  float64\n",
      " 71  Cloud_sensor_azimuth_angle                                78539 non-null  float64\n",
      " 72  Cloud_sensor_zenith_angle                                 78539 non-null  float64\n",
      " 73  Cloud_solar_azimuth_angle                                 78539 non-null  float64\n",
      " 74  Cloud_solar_zenith_angle                                  78539 non-null  float64\n",
      " 75  emission                                                  79023 non-null  float64\n",
      "dtypes: float64(73), int64(2), object(1)\n",
      "memory usage: 45.8+ MB\n"
     ]
    }
   ],
   "source": [
    "train.info()"
   ]
  },
  {
   "cell_type": "code",
   "execution_count": 6,
   "id": "06178e42",
   "metadata": {
    "execution": {
     "iopub.execute_input": "2023-08-14T21:19:19.119965Z",
     "iopub.status.busy": "2023-08-14T21:19:19.119355Z",
     "iopub.status.idle": "2023-08-14T21:19:19.129324Z",
     "shell.execute_reply": "2023-08-14T21:19:19.128240Z"
    },
    "papermill": {
     "duration": 0.032251,
     "end_time": "2023-08-14T21:19:19.131947",
     "exception": false,
     "start_time": "2023-08-14T21:19:19.099696",
     "status": "completed"
    },
    "tags": []
   },
   "outputs": [
    {
     "data": {
      "text/plain": [
       "2019    26341\n",
       "2020    26341\n",
       "2021    26341\n",
       "Name: year, dtype: int64"
      ]
     },
     "execution_count": 6,
     "metadata": {},
     "output_type": "execute_result"
    }
   ],
   "source": [
    "# get the year base data\n",
    "train['year'].value_counts()"
   ]
  },
  {
   "cell_type": "code",
   "execution_count": 7,
   "id": "aed22b3c",
   "metadata": {
    "execution": {
     "iopub.execute_input": "2023-08-14T21:19:19.171000Z",
     "iopub.status.busy": "2023-08-14T21:19:19.170524Z",
     "iopub.status.idle": "2023-08-14T21:19:19.594578Z",
     "shell.execute_reply": "2023-08-14T21:19:19.593220Z"
    },
    "papermill": {
     "duration": 0.447498,
     "end_time": "2023-08-14T21:19:19.598219",
     "exception": false,
     "start_time": "2023-08-14T21:19:19.150721",
     "status": "completed"
    },
    "tags": []
   },
   "outputs": [
    {
     "data": {
      "image/png": "[encoded data removed]",
      "text/plain": [
       "<Figure size 1000x500 with 1 Axes>"
      ]
     },
     "metadata": {},
     "output_type": "display_data"
    }
   ],
   "source": [
    "# visaulize Year, Week on emission\n",
    "import matplotlib.pyplot as plt\n",
    "plt.figure(figsize=(10,5))\n",
    "plt.xlabel(\"Year\")\n",
    "plt.ylabel(\"Week\")\n",
    "plt.plot(train['emission']);"
   ]
  },
  {
   "cell_type": "code",
   "execution_count": 8,
   "id": "07e0d71c",
   "metadata": {
    "execution": {
     "iopub.execute_input": "2023-08-14T21:19:19.638744Z",
     "iopub.status.busy": "2023-08-14T21:19:19.638296Z",
     "iopub.status.idle": "2023-08-14T21:19:19.700594Z",
     "shell.execute_reply": "2023-08-14T21:19:19.699764Z"
    },
    "papermill": {
     "duration": 0.086017,
     "end_time": "2023-08-14T21:19:19.703218",
     "exception": false,
     "start_time": "2023-08-14T21:19:19.617201",
     "status": "completed"
    },
    "tags": []
   },
   "outputs": [
    {
     "data": {
      "text/html": [
       "<div>\n",
       "<style scoped>\n",
       "    .dataframe tbody tr th:only-of-type {\n",
       "        vertical-align: middle;\n",
       "    }\n",
       "\n",
       "    .dataframe tbody tr th {\n",
       "        vertical-align: top;\n",
       "    }\n",
       "\n",
       "    .dataframe thead th {\n",
       "        text-align: right;\n",
       "    }\n",
       "</style>\n",
       "<table border=\"1\" class=\"dataframe\">\n",
       "  <thead>\n",
       "    <tr style=\"text-align: right;\">\n",
       "      <th></th>\n",
       "      <th>emission</th>\n",
       "      <th>mavg12</th>\n",
       "    </tr>\n",
       "  </thead>\n",
       "  <tbody>\n",
       "    <tr>\n",
       "      <th>0</th>\n",
       "      <td>3.75</td>\n",
       "      <td>NaN</td>\n",
       "    </tr>\n",
       "    <tr>\n",
       "      <th>1</th>\n",
       "      <td>4.03</td>\n",
       "      <td>NaN</td>\n",
       "    </tr>\n",
       "    <tr>\n",
       "      <th>2</th>\n",
       "      <td>4.23</td>\n",
       "      <td>NaN</td>\n",
       "    </tr>\n",
       "    <tr>\n",
       "      <th>3</th>\n",
       "      <td>4.31</td>\n",
       "      <td>NaN</td>\n",
       "    </tr>\n",
       "    <tr>\n",
       "      <th>4</th>\n",
       "      <td>4.35</td>\n",
       "      <td>NaN</td>\n",
       "    </tr>\n",
       "    <tr>\n",
       "      <th>...</th>\n",
       "      <td>...</td>\n",
       "      <td>...</td>\n",
       "    </tr>\n",
       "    <tr>\n",
       "      <th>79018</th>\n",
       "      <td>29.40</td>\n",
       "      <td>29.63</td>\n",
       "    </tr>\n",
       "    <tr>\n",
       "      <th>79019</th>\n",
       "      <td>29.19</td>\n",
       "      <td>29.63</td>\n",
       "    </tr>\n",
       "    <tr>\n",
       "      <th>79020</th>\n",
       "      <td>29.13</td>\n",
       "      <td>29.54</td>\n",
       "    </tr>\n",
       "    <tr>\n",
       "      <th>79021</th>\n",
       "      <td>28.13</td>\n",
       "      <td>29.42</td>\n",
       "    </tr>\n",
       "    <tr>\n",
       "      <th>79022</th>\n",
       "      <td>27.24</td>\n",
       "      <td>29.37</td>\n",
       "    </tr>\n",
       "  </tbody>\n",
       "</table>\n",
       "<p>79023 rows × 2 columns</p>\n",
       "</div>"
      ],
      "text/plain": [
       "       emission  mavg12\n",
       "0          3.75     NaN\n",
       "1          4.03     NaN\n",
       "2          4.23     NaN\n",
       "3          4.31     NaN\n",
       "4          4.35     NaN\n",
       "...         ...     ...\n",
       "79018     29.40   29.63\n",
       "79019     29.19   29.63\n",
       "79020     29.13   29.54\n",
       "79021     28.13   29.42\n",
       "79022     27.24   29.37\n",
       "\n",
       "[79023 rows x 2 columns]"
      ]
     },
     "execution_count": 8,
     "metadata": {},
     "output_type": "execute_result"
    }
   ],
   "source": [
    "train['mavg12'] = train['emission'].rolling(window=12).mean().shift(1) \n",
    "pd.set_option('display.float_format', lambda x: '%.2f' % x) \n",
    "train[['emission', 'mavg12']][0:] "
   ]
  },
  {
   "cell_type": "code",
   "execution_count": 9,
   "id": "48d264f9",
   "metadata": {
    "execution": {
     "iopub.execute_input": "2023-08-14T21:19:19.745066Z",
     "iopub.status.busy": "2023-08-14T21:19:19.744690Z",
     "iopub.status.idle": "2023-08-14T21:19:20.407630Z",
     "shell.execute_reply": "2023-08-14T21:19:20.405860Z"
    },
    "papermill": {
     "duration": 0.687646,
     "end_time": "2023-08-14T21:19:20.410623",
     "exception": false,
     "start_time": "2023-08-14T21:19:19.722977",
     "status": "completed"
    },
    "tags": []
   },
   "outputs": [
    {
     "data": {
      "image/png": "[encoded data removed]",
      "text/plain": [
       "<Figure size 1000x500 with 1 Axes>"
      ]
     },
     "metadata": {},
     "output_type": "display_data"
    }
   ],
   "source": [
    "plt.figure( figsize=(10,5)) \n",
    "plt.xlabel( \"Year\" ) \n",
    "plt.ylabel( \"Week\" ) \n",
    "plt.plot( train['emission'][12:] ); \n",
    "plt.plot( train['mavg12'][12:], '.' ); \n",
    "plt.legend();"
   ]
  },
  {
   "cell_type": "code",
   "execution_count": 10,
   "id": "b3ce3f66",
   "metadata": {
    "execution": {
     "iopub.execute_input": "2023-08-14T21:19:20.457080Z",
     "iopub.status.busy": "2023-08-14T21:19:20.456018Z",
     "iopub.status.idle": "2023-08-14T21:19:20.470856Z",
     "shell.execute_reply": "2023-08-14T21:19:20.468929Z"
    },
    "papermill": {
     "duration": 0.041426,
     "end_time": "2023-08-14T21:19:20.473633",
     "exception": false,
     "start_time": "2023-08-14T21:19:20.432207",
     "status": "completed"
    },
    "tags": []
   },
   "outputs": [
    {
     "data": {
      "text/plain": [
       "60.56"
      ]
     },
     "execution_count": 10,
     "metadata": {},
     "output_type": "execute_result"
    }
   ],
   "source": [
    "def get_mape(actual , predicted):\n",
    "    y_true , y_pred = np.array(actual) , np.array(predicted)\n",
    "    return np.round(np.mean(np.abs((actual - predicted)/(actual+1)))*100 , 2)\n",
    "\n",
    "get_mape(train['emission'][36:].values , train['mavg12'][36:].values)"
   ]
  },
  {
   "cell_type": "code",
   "execution_count": 11,
   "id": "8d67d960",
   "metadata": {
    "execution": {
     "iopub.execute_input": "2023-08-14T21:19:20.516246Z",
     "iopub.status.busy": "2023-08-14T21:19:20.515751Z",
     "iopub.status.idle": "2023-08-14T21:19:20.521876Z",
     "shell.execute_reply": "2023-08-14T21:19:20.520519Z"
    },
    "papermill": {
     "duration": 0.031448,
     "end_time": "2023-08-14T21:19:20.525130",
     "exception": false,
     "start_time": "2023-08-14T21:19:20.493682",
     "status": "completed"
    },
    "tags": []
   },
   "outputs": [],
   "source": [
    "import warnings\n",
    "warnings.filterwarnings(\"ignore\")"
   ]
  },
  {
   "cell_type": "code",
   "execution_count": 12,
   "id": "86cec505",
   "metadata": {
    "execution": {
     "iopub.execute_input": "2023-08-14T21:19:20.570835Z",
     "iopub.status.busy": "2023-08-14T21:19:20.569292Z",
     "iopub.status.idle": "2023-08-14T21:19:22.087217Z",
     "shell.execute_reply": "2023-08-14T21:19:22.085419Z"
    },
    "papermill": {
     "duration": 1.542574,
     "end_time": "2023-08-14T21:19:22.090197",
     "exception": false,
     "start_time": "2023-08-14T21:19:20.547623",
     "status": "completed"
    },
    "tags": []
   },
   "outputs": [
    {
     "data": {
      "text/plain": [
       "57.15238785923444"
      ]
     },
     "execution_count": 12,
     "metadata": {},
     "output_type": "execute_result"
    }
   ],
   "source": [
    "from sklearn.metrics import mean_squared_error\n",
    "\n",
    "np.sqrt(mean_squared_error(train['emission'][36:].values , train['mavg12'][36:].values))"
   ]
  },
  {
   "cell_type": "markdown",
   "id": "a5c7c409",
   "metadata": {
    "papermill": {
     "duration": 0.021016,
     "end_time": "2023-08-14T21:19:22.132073",
     "exception": false,
     "start_time": "2023-08-14T21:19:22.111057",
     "status": "completed"
    },
    "tags": []
   },
   "source": [
    "## Exponential Smoothing"
   ]
  },
  {
   "cell_type": "code",
   "execution_count": 13,
   "id": "ac7610a8",
   "metadata": {
    "execution": {
     "iopub.execute_input": "2023-08-14T21:19:22.176761Z",
     "iopub.status.busy": "2023-08-14T21:19:22.176324Z",
     "iopub.status.idle": "2023-08-14T21:19:22.241985Z",
     "shell.execute_reply": "2023-08-14T21:19:22.240787Z"
    },
    "papermill": {
     "duration": 0.091526,
     "end_time": "2023-08-14T21:19:22.244613",
     "exception": false,
     "start_time": "2023-08-14T21:19:22.153087",
     "status": "completed"
    },
    "tags": []
   },
   "outputs": [
    {
     "data": {
      "text/html": [
       "<div>\n",
       "<style scoped>\n",
       "    .dataframe tbody tr th:only-of-type {\n",
       "        vertical-align: middle;\n",
       "    }\n",
       "\n",
       "    .dataframe tbody tr th {\n",
       "        vertical-align: top;\n",
       "    }\n",
       "\n",
       "    .dataframe thead th {\n",
       "        text-align: right;\n",
       "    }\n",
       "</style>\n",
       "<table border=\"1\" class=\"dataframe\">\n",
       "  <thead>\n",
       "    <tr style=\"text-align: right;\">\n",
       "      <th></th>\n",
       "      <th>emission</th>\n",
       "      <th>ewm</th>\n",
       "    </tr>\n",
       "  </thead>\n",
       "  <tbody>\n",
       "    <tr>\n",
       "      <th>0</th>\n",
       "      <td>3.75</td>\n",
       "      <td>3.75</td>\n",
       "    </tr>\n",
       "    <tr>\n",
       "      <th>1</th>\n",
       "      <td>4.03</td>\n",
       "      <td>3.90</td>\n",
       "    </tr>\n",
       "    <tr>\n",
       "      <th>2</th>\n",
       "      <td>4.23</td>\n",
       "      <td>4.04</td>\n",
       "    </tr>\n",
       "    <tr>\n",
       "      <th>3</th>\n",
       "      <td>4.31</td>\n",
       "      <td>4.13</td>\n",
       "    </tr>\n",
       "    <tr>\n",
       "      <th>4</th>\n",
       "      <td>4.35</td>\n",
       "      <td>4.19</td>\n",
       "    </tr>\n",
       "    <tr>\n",
       "      <th>...</th>\n",
       "      <td>...</td>\n",
       "      <td>...</td>\n",
       "    </tr>\n",
       "    <tr>\n",
       "      <th>79018</th>\n",
       "      <td>29.40</td>\n",
       "      <td>29.52</td>\n",
       "    </tr>\n",
       "    <tr>\n",
       "      <th>79019</th>\n",
       "      <td>29.19</td>\n",
       "      <td>29.45</td>\n",
       "    </tr>\n",
       "    <tr>\n",
       "      <th>79020</th>\n",
       "      <td>29.13</td>\n",
       "      <td>29.39</td>\n",
       "    </tr>\n",
       "    <tr>\n",
       "      <th>79021</th>\n",
       "      <td>28.13</td>\n",
       "      <td>29.14</td>\n",
       "    </tr>\n",
       "    <tr>\n",
       "      <th>79022</th>\n",
       "      <td>27.24</td>\n",
       "      <td>28.76</td>\n",
       "    </tr>\n",
       "  </tbody>\n",
       "</table>\n",
       "<p>79023 rows × 2 columns</p>\n",
       "</div>"
      ],
      "text/plain": [
       "       emission   ewm\n",
       "0          3.75  3.75\n",
       "1          4.03  3.90\n",
       "2          4.23  4.04\n",
       "3          4.31  4.13\n",
       "4          4.35  4.19\n",
       "...         ...   ...\n",
       "79018     29.40 29.52\n",
       "79019     29.19 29.45\n",
       "79020     29.13 29.39\n",
       "79021     28.13 29.14\n",
       "79022     27.24 28.76\n",
       "\n",
       "[79023 rows x 2 columns]"
      ]
     },
     "execution_count": 13,
     "metadata": {},
     "output_type": "execute_result"
    }
   ],
   "source": [
    "train['ewm'] = train['emission'].ewm(alpha = 0.2).mean()\n",
    "pd.set_option('display.float_format', lambda x: '%.2f' % x) \n",
    "train[['emission', 'ewm']][0:] "
   ]
  },
  {
   "cell_type": "code",
   "execution_count": 14,
   "id": "c413f4ca",
   "metadata": {
    "execution": {
     "iopub.execute_input": "2023-08-14T21:19:22.289803Z",
     "iopub.status.busy": "2023-08-14T21:19:22.289380Z",
     "iopub.status.idle": "2023-08-14T21:19:22.956702Z",
     "shell.execute_reply": "2023-08-14T21:19:22.955721Z"
    },
    "papermill": {
     "duration": 0.692436,
     "end_time": "2023-08-14T21:19:22.959061",
     "exception": false,
     "start_time": "2023-08-14T21:19:22.266625",
     "status": "completed"
    },
    "tags": []
   },
   "outputs": [
    {
     "data": {
      "image/png": "[encoded data removed]",
      "text/plain": [
       "<Figure size 1000x600 with 1 Axes>"
      ]
     },
     "metadata": {},
     "output_type": "display_data"
    }
   ],
   "source": [
    "plt.figure( figsize=(10,6)) \n",
    "plt.xlabel( \"Year\" ) \n",
    "plt.ylabel( \"Week\" ) \n",
    "plt.plot( train['emission'][0:] ); \n",
    "plt.plot( train['ewm'][0:], '.' ); \n",
    "plt.legend();"
   ]
  },
  {
   "cell_type": "code",
   "execution_count": 15,
   "id": "03a2db36",
   "metadata": {
    "execution": {
     "iopub.execute_input": "2023-08-14T21:19:23.007212Z",
     "iopub.status.busy": "2023-08-14T21:19:23.006475Z",
     "iopub.status.idle": "2023-08-14T21:19:23.016911Z",
     "shell.execute_reply": "2023-08-14T21:19:23.015971Z"
    },
    "papermill": {
     "duration": 0.038207,
     "end_time": "2023-08-14T21:19:23.019343",
     "exception": false,
     "start_time": "2023-08-14T21:19:22.981136",
     "status": "completed"
    },
    "tags": []
   },
   "outputs": [
    {
     "data": {
      "text/plain": [
       "37.11"
      ]
     },
     "execution_count": 15,
     "metadata": {},
     "output_type": "execute_result"
    }
   ],
   "source": [
    "get_mape(train['emission'][1:].values , train['ewm'][1:].values)"
   ]
  },
  {
   "cell_type": "code",
   "execution_count": 16,
   "id": "fed70454",
   "metadata": {
    "execution": {
     "iopub.execute_input": "2023-08-14T21:19:23.068025Z",
     "iopub.status.busy": "2023-08-14T21:19:23.067062Z",
     "iopub.status.idle": "2023-08-14T21:19:23.075906Z",
     "shell.execute_reply": "2023-08-14T21:19:23.074719Z"
    },
    "papermill": {
     "duration": 0.036618,
     "end_time": "2023-08-14T21:19:23.078526",
     "exception": false,
     "start_time": "2023-08-14T21:19:23.041908",
     "status": "completed"
    },
    "tags": []
   },
   "outputs": [
    {
     "data": {
      "text/plain": [
       "36.264506358315224"
      ]
     },
     "execution_count": 16,
     "metadata": {},
     "output_type": "execute_result"
    }
   ],
   "source": [
    "np.sqrt(mean_squared_error(train['emission'][1:].values , train['ewm'][1:].values))"
   ]
  },
  {
   "cell_type": "markdown",
   "id": "a367d86f",
   "metadata": {
    "papermill": {
     "duration": 0.021275,
     "end_time": "2023-08-14T21:19:23.121707",
     "exception": false,
     "start_time": "2023-08-14T21:19:23.100432",
     "status": "completed"
    },
    "tags": []
   },
   "source": [
    "## Import models from `arima`"
   ]
  },
  {
   "cell_type": "code",
   "execution_count": 17,
   "id": "a970bd61",
   "metadata": {
    "execution": {
     "iopub.execute_input": "2023-08-14T21:19:23.168651Z",
     "iopub.status.busy": "2023-08-14T21:19:23.168070Z",
     "iopub.status.idle": "2023-08-14T21:19:26.495739Z",
     "shell.execute_reply": "2023-08-14T21:19:26.493899Z"
    },
    "papermill": {
     "duration": 3.357732,
     "end_time": "2023-08-14T21:19:26.500396",
     "exception": false,
     "start_time": "2023-08-14T21:19:23.142664",
     "status": "completed"
    },
    "tags": []
   },
   "outputs": [],
   "source": [
    "from statsmodels.tsa.arima.model import ARIMA\n",
    "\n",
    "ar_model=ARIMA(train.emission,order=(1,0,0)).fit()"
   ]
  },
  {
   "cell_type": "code",
   "execution_count": 18,
   "id": "352c8d68",
   "metadata": {
    "execution": {
     "iopub.execute_input": "2023-08-14T21:19:26.593673Z",
     "iopub.status.busy": "2023-08-14T21:19:26.592559Z",
     "iopub.status.idle": "2023-08-14T21:19:26.616077Z",
     "shell.execute_reply": "2023-08-14T21:19:26.614829Z"
    },
    "papermill": {
     "duration": 0.07478,
     "end_time": "2023-08-14T21:19:26.620300",
     "exception": false,
     "start_time": "2023-08-14T21:19:26.545520",
     "status": "completed"
    },
    "tags": []
   },
   "outputs": [
    {
     "data": {
      "text/plain": [
       "0       81.94\n",
       "1        5.45\n",
       "2        5.71\n",
       "3        5.92\n",
       "4        5.99\n",
       "         ... \n",
       "79019   30.54\n",
       "79020   30.33\n",
       "79021   30.28\n",
       "79022   29.29\n",
       "79023   28.43\n",
       "Name: predicted_mean, Length: 79024, dtype: float64"
      ]
     },
     "execution_count": 18,
     "metadata": {},
     "output_type": "execute_result"
    }
   ],
   "source": [
    "forecast = ar_model.predict(0,79023)\n",
    "forecast"
   ]
  },
  {
   "cell_type": "code",
   "execution_count": 19,
   "id": "3dd7051c",
   "metadata": {
    "execution": {
     "iopub.execute_input": "2023-08-14T21:19:26.718375Z",
     "iopub.status.busy": "2023-08-14T21:19:26.717007Z",
     "iopub.status.idle": "2023-08-14T21:19:26.730201Z",
     "shell.execute_reply": "2023-08-14T21:19:26.729120Z"
    },
    "papermill": {
     "duration": 0.066781,
     "end_time": "2023-08-14T21:19:26.733347",
     "exception": false,
     "start_time": "2023-08-14T21:19:26.666566",
     "status": "completed"
    },
    "tags": []
   },
   "outputs": [],
   "source": [
    "train['ar'] = forecast"
   ]
  },
  {
   "cell_type": "code",
   "execution_count": 20,
   "id": "2c4d0612",
   "metadata": {
    "execution": {
     "iopub.execute_input": "2023-08-14T21:19:26.778286Z",
     "iopub.status.busy": "2023-08-14T21:19:26.777442Z",
     "iopub.status.idle": "2023-08-14T21:19:26.803257Z",
     "shell.execute_reply": "2023-08-14T21:19:26.802035Z"
    },
    "papermill": {
     "duration": 0.051088,
     "end_time": "2023-08-14T21:19:26.805876",
     "exception": false,
     "start_time": "2023-08-14T21:19:26.754788",
     "status": "completed"
    },
    "tags": []
   },
   "outputs": [
    {
     "data": {
      "text/plain": [
       "34.0"
      ]
     },
     "execution_count": 20,
     "metadata": {},
     "output_type": "execute_result"
    }
   ],
   "source": [
    "get_mape(train.emission[0:79023] , forecast)\n"
   ]
  },
  {
   "cell_type": "code",
   "execution_count": 21,
   "id": "ca78d483",
   "metadata": {
    "execution": {
     "iopub.execute_input": "2023-08-14T21:19:26.851344Z",
     "iopub.status.busy": "2023-08-14T21:19:26.850554Z",
     "iopub.status.idle": "2023-08-14T21:19:27.519517Z",
     "shell.execute_reply": "2023-08-14T21:19:27.518344Z"
    },
    "papermill": {
     "duration": 0.694898,
     "end_time": "2023-08-14T21:19:27.522177",
     "exception": false,
     "start_time": "2023-08-14T21:19:26.827279",
     "status": "completed"
    },
    "tags": []
   },
   "outputs": [
    {
     "data": {
      "image/png": "[encoded data removed]",
      "text/plain": [
       "<Figure size 1000x500 with 1 Axes>"
      ]
     },
     "metadata": {},
     "output_type": "display_data"
    }
   ],
   "source": [
    "plt.figure( figsize=(10,5)) \n",
    "plt.xlabel( \"Year\" ) \n",
    "plt.ylabel( \"Week\" ) \n",
    "plt.plot( train['emission'][0:] ); \n",
    "plt.plot( forecast, '.' ); \n",
    "plt.legend();"
   ]
  },
  {
   "cell_type": "code",
   "execution_count": 22,
   "id": "706cad38",
   "metadata": {
    "execution": {
     "iopub.execute_input": "2023-08-14T21:19:27.568723Z",
     "iopub.status.busy": "2023-08-14T21:19:27.567905Z",
     "iopub.status.idle": "2023-08-14T21:19:47.515528Z",
     "shell.execute_reply": "2023-08-14T21:19:47.513344Z"
    },
    "papermill": {
     "duration": 19.976907,
     "end_time": "2023-08-14T21:19:47.521041",
     "exception": false,
     "start_time": "2023-08-14T21:19:27.544134",
     "status": "completed"
    },
    "tags": []
   },
   "outputs": [],
   "source": [
    "ma_model=ARIMA(train.emission,order=(0,0,1)).fit()"
   ]
  },
  {
   "cell_type": "code",
   "execution_count": 23,
   "id": "5c47a8a9",
   "metadata": {
    "execution": {
     "iopub.execute_input": "2023-08-14T21:19:47.603954Z",
     "iopub.status.busy": "2023-08-14T21:19:47.603551Z",
     "iopub.status.idle": "2023-08-14T21:19:47.656599Z",
     "shell.execute_reply": "2023-08-14T21:19:47.655055Z"
    },
    "papermill": {
     "duration": 0.086755,
     "end_time": "2023-08-14T21:19:47.660392",
     "exception": false,
     "start_time": "2023-08-14T21:19:47.573637",
     "status": "completed"
    },
    "tags": []
   },
   "outputs": [
    {
     "data": {
      "text/plain": [
       "591.93"
      ]
     },
     "execution_count": 23,
     "metadata": {},
     "output_type": "execute_result"
    }
   ],
   "source": [
    "forecast = ma_model.predict(0,79023)\n",
    "get_mape(train.emission[0:79023] , forecast)"
   ]
  },
  {
   "cell_type": "code",
   "execution_count": 24,
   "id": "dc378803",
   "metadata": {
    "execution": {
     "iopub.execute_input": "2023-08-14T21:19:47.749972Z",
     "iopub.status.busy": "2023-08-14T21:19:47.749241Z",
     "iopub.status.idle": "2023-08-14T21:19:48.456455Z",
     "shell.execute_reply": "2023-08-14T21:19:48.455293Z"
    },
    "papermill": {
     "duration": 0.747409,
     "end_time": "2023-08-14T21:19:48.459539",
     "exception": false,
     "start_time": "2023-08-14T21:19:47.712130",
     "status": "completed"
    },
    "tags": []
   },
   "outputs": [
    {
     "data": {
      "image/png": "[encoded data removed]",
      "text/plain": [
       "<Figure size 1000x500 with 1 Axes>"
      ]
     },
     "metadata": {},
     "output_type": "display_data"
    }
   ],
   "source": [
    "plt.figure( figsize=(10,5)) \n",
    "plt.xlabel( \"Year\" ) \n",
    "plt.ylabel( \"Week\" ) \n",
    "plt.plot( train['emission'][1:] ); \n",
    "plt.plot( forecast, '.' ); \n",
    "plt.legend();"
   ]
  },
  {
   "cell_type": "code",
   "execution_count": 25,
   "id": "ed3f3767",
   "metadata": {
    "execution": {
     "iopub.execute_input": "2023-08-14T21:19:48.512195Z",
     "iopub.status.busy": "2023-08-14T21:19:48.511769Z",
     "iopub.status.idle": "2023-08-14T21:19:54.282321Z",
     "shell.execute_reply": "2023-08-14T21:19:54.280692Z"
    },
    "papermill": {
     "duration": 5.802158,
     "end_time": "2023-08-14T21:19:54.286642",
     "exception": false,
     "start_time": "2023-08-14T21:19:48.484484",
     "status": "completed"
    },
    "tags": []
   },
   "outputs": [
    {
     "data": {
      "text/plain": [
       "34.09"
      ]
     },
     "execution_count": 25,
     "metadata": {},
     "output_type": "execute_result"
    }
   ],
   "source": [
    "arma_model=ARIMA(train.emission,order=(1,0,1)).fit()\n",
    "forecast = arma_model.predict(0,79023)\n",
    "get_mape(train.emission[0:79023] , forecast)"
   ]
  },
  {
   "cell_type": "code",
   "execution_count": 26,
   "id": "76e096ce",
   "metadata": {
    "execution": {
     "iopub.execute_input": "2023-08-14T21:19:54.376670Z",
     "iopub.status.busy": "2023-08-14T21:19:54.376245Z",
     "iopub.status.idle": "2023-08-14T21:19:54.384237Z",
     "shell.execute_reply": "2023-08-14T21:19:54.382972Z"
    },
    "papermill": {
     "duration": 0.049198,
     "end_time": "2023-08-14T21:19:54.387005",
     "exception": false,
     "start_time": "2023-08-14T21:19:54.337807",
     "status": "completed"
    },
    "tags": []
   },
   "outputs": [],
   "source": [
    "train['arma'] = forecast"
   ]
  },
  {
   "cell_type": "code",
   "execution_count": 27,
   "id": "c20bfbaa",
   "metadata": {
    "execution": {
     "iopub.execute_input": "2023-08-14T21:19:54.436740Z",
     "iopub.status.busy": "2023-08-14T21:19:54.436299Z",
     "iopub.status.idle": "2023-08-14T21:19:55.108571Z",
     "shell.execute_reply": "2023-08-14T21:19:55.107388Z"
    },
    "papermill": {
     "duration": 0.699962,
     "end_time": "2023-08-14T21:19:55.111012",
     "exception": false,
     "start_time": "2023-08-14T21:19:54.411050",
     "status": "completed"
    },
    "tags": []
   },
   "outputs": [
    {
     "data": {
      "image/png": "[encoded data removed]",
      "text/plain": [
       "<Figure size 1000x500 with 1 Axes>"
      ]
     },
     "metadata": {},
     "output_type": "display_data"
    }
   ],
   "source": [
    "plt.figure( figsize=(10,5)) \n",
    "plt.xlabel( \"Year\" ) \n",
    "plt.ylabel( \"Week\" ) \n",
    "plt.plot( train['emission'][1:] ); \n",
    "plt.plot( forecast, '.' ); \n",
    "plt.legend();"
   ]
  },
  {
   "cell_type": "markdown",
   "id": "f448164c",
   "metadata": {
    "papermill": {
     "duration": 0.023897,
     "end_time": "2023-08-14T21:19:55.158674",
     "exception": false,
     "start_time": "2023-08-14T21:19:55.134777",
     "status": "completed"
    },
    "tags": []
   },
   "source": [
    "## `adfuller` test"
   ]
  },
  {
   "cell_type": "code",
   "execution_count": 28,
   "id": "179a2479",
   "metadata": {
    "execution": {
     "iopub.execute_input": "2023-08-14T21:19:55.210039Z",
     "iopub.status.busy": "2023-08-14T21:19:55.209635Z",
     "iopub.status.idle": "2023-08-14T21:19:55.215784Z",
     "shell.execute_reply": "2023-08-14T21:19:55.214584Z"
    },
    "papermill": {
     "duration": 0.035004,
     "end_time": "2023-08-14T21:19:55.218378",
     "exception": false,
     "start_time": "2023-08-14T21:19:55.183374",
     "status": "completed"
    },
    "tags": []
   },
   "outputs": [],
   "source": [
    "from statsmodels.tsa.stattools import adfuller\n",
    "def adfuller_test( ts ): \n",
    "    adfuller_result = adfuller( ts, autolag=None ) \n",
    "    adfuller_out = pd.Series(adfuller_result[0:4], \n",
    "    index=['Test Statistic', 'p-value', 'Lags Used', 'Number of Observations Used']) \n",
    "    print( adfuller_out ) "
   ]
  },
  {
   "cell_type": "code",
   "execution_count": 29,
   "id": "df004f34",
   "metadata": {
    "execution": {
     "iopub.execute_input": "2023-08-14T21:19:55.270237Z",
     "iopub.status.busy": "2023-08-14T21:19:55.269154Z",
     "iopub.status.idle": "2023-08-14T21:19:56.016392Z",
     "shell.execute_reply": "2023-08-14T21:19:56.015250Z"
    },
    "papermill": {
     "duration": 0.778041,
     "end_time": "2023-08-14T21:19:56.020339",
     "exception": false,
     "start_time": "2023-08-14T21:19:55.242298",
     "status": "completed"
    },
    "tags": []
   },
   "outputs": [
    {
     "name": "stdout",
     "output_type": "stream",
     "text": [
      "Test Statistic                  -18.23\n",
      "p-value                           0.00\n",
      "Lags Used                        64.00\n",
      "Number of Observations Used   78958.00\n",
      "dtype: float64\n"
     ]
    }
   ],
   "source": [
    "adfuller_test(train.emission)"
   ]
  },
  {
   "cell_type": "code",
   "execution_count": 30,
   "id": "5c3267a2",
   "metadata": {
    "execution": {
     "iopub.execute_input": "2023-08-14T21:19:56.132028Z",
     "iopub.status.busy": "2023-08-14T21:19:56.131603Z",
     "iopub.status.idle": "2023-08-14T21:19:56.157734Z",
     "shell.execute_reply": "2023-08-14T21:19:56.156251Z"
    },
    "papermill": {
     "duration": 0.077198,
     "end_time": "2023-08-14T21:19:56.160441",
     "exception": false,
     "start_time": "2023-08-14T21:19:56.083243",
     "status": "completed"
    },
    "tags": []
   },
   "outputs": [],
   "source": [
    "train = train.drop(['ID_LAT_LON_YEAR_WEEK'],axis=1)"
   ]
  },
  {
   "cell_type": "code",
   "execution_count": 31,
   "id": "6124a695",
   "metadata": {
    "execution": {
     "iopub.execute_input": "2023-08-14T21:19:56.215778Z",
     "iopub.status.busy": "2023-08-14T21:19:56.215312Z",
     "iopub.status.idle": "2023-08-14T21:19:56.801513Z",
     "shell.execute_reply": "2023-08-14T21:19:56.800666Z"
    },
    "papermill": {
     "duration": 0.616808,
     "end_time": "2023-08-14T21:19:56.803854",
     "exception": false,
     "start_time": "2023-08-14T21:19:56.187046",
     "status": "completed"
    },
    "tags": []
   },
   "outputs": [
    {
     "data": {
      "image/png": "[encoded data removed]",
      "text/plain": [
       "<Figure size 640x480 with 1 Axes>"
      ]
     },
     "metadata": {},
     "output_type": "display_data"
    }
   ],
   "source": [
    "train.plot(kind=\"scatter\", x=\"longitude\", y=\"latitude\", grid=True)\n",
    "plt.show()"
   ]
  },
  {
   "cell_type": "code",
   "execution_count": 32,
   "id": "8acd34f2",
   "metadata": {
    "execution": {
     "iopub.execute_input": "2023-08-14T21:19:56.858601Z",
     "iopub.status.busy": "2023-08-14T21:19:56.857861Z",
     "iopub.status.idle": "2023-08-14T21:19:59.074895Z",
     "shell.execute_reply": "2023-08-14T21:19:59.073788Z"
    },
    "papermill": {
     "duration": 2.247537,
     "end_time": "2023-08-14T21:19:59.077664",
     "exception": false,
     "start_time": "2023-08-14T21:19:56.830127",
     "status": "completed"
    },
    "tags": []
   },
   "outputs": [
    {
     "data": {
      "image/png": "[encoded data removed]",
      "text/plain": [
       "<Figure size 1000x700 with 2 Axes>"
      ]
     },
     "metadata": {},
     "output_type": "display_data"
    }
   ],
   "source": [
    "train.plot(kind=\"scatter\", x=\"longitude\", y=\"latitude\", grid=True,\n",
    "             s=train[\"emission\"] / 100, label=\"emission\",\n",
    "             c=\"emission\", cmap=\"jet\", colorbar=True,\n",
    "             legend=True, sharex=False, figsize=(10, 7))\n",
    "plt.show()"
   ]
  },
  {
   "cell_type": "markdown",
   "id": "311f911c",
   "metadata": {
    "papermill": {
     "duration": 0.028174,
     "end_time": "2023-08-14T21:19:59.132906",
     "exception": false,
     "start_time": "2023-08-14T21:19:59.104732",
     "status": "completed"
    },
    "tags": []
   },
   "source": [
    "### Preprocessing"
   ]
  },
  {
   "cell_type": "code",
   "execution_count": 33,
   "id": "7c167f62",
   "metadata": {
    "execution": {
     "iopub.execute_input": "2023-08-14T21:19:59.188636Z",
     "iopub.status.busy": "2023-08-14T21:19:59.188193Z",
     "iopub.status.idle": "2023-08-14T21:19:59.209937Z",
     "shell.execute_reply": "2023-08-14T21:19:59.208748Z"
    },
    "papermill": {
     "duration": 0.052081,
     "end_time": "2023-08-14T21:19:59.212237",
     "exception": false,
     "start_time": "2023-08-14T21:19:59.160156",
     "status": "completed"
    },
    "tags": []
   },
   "outputs": [],
   "source": [
    "train_base = train_base.drop(['ID_LAT_LON_YEAR_WEEK', 'latitude', 'longitude', 'year', 'week_no','UvAerosolIndex_absorbing_aerosol_index',\n",
    "       'UvAerosolIndex_sensor_altitude', 'UvAerosolIndex_sensor_azimuth_angle',\n",
    "       'UvAerosolIndex_sensor_zenith_angle',\n",
    "       'UvAerosolIndex_solar_azimuth_angle',\n",
    "       'UvAerosolIndex_solar_zenith_angle',],axis=1)"
   ]
  },
  {
   "cell_type": "code",
   "execution_count": 34,
   "id": "ee141bca",
   "metadata": {
    "execution": {
     "iopub.execute_input": "2023-08-14T21:19:59.270067Z",
     "iopub.status.busy": "2023-08-14T21:19:59.269244Z",
     "iopub.status.idle": "2023-08-14T21:20:00.538208Z",
     "shell.execute_reply": "2023-08-14T21:20:00.537007Z"
    },
    "papermill": {
     "duration": 1.30134,
     "end_time": "2023-08-14T21:20:00.541169",
     "exception": false,
     "start_time": "2023-08-14T21:19:59.239829",
     "status": "completed"
    },
    "tags": []
   },
   "outputs": [],
   "source": [
    "from sklearn.impute import SimpleImputer\n",
    "imputer = SimpleImputer(missing_values=np.nan, strategy='median')\n",
    "train_base = imputer.fit_transform(train_base)"
   ]
  },
  {
   "cell_type": "code",
   "execution_count": 35,
   "id": "47103295",
   "metadata": {
    "execution": {
     "iopub.execute_input": "2023-08-14T21:20:00.599373Z",
     "iopub.status.busy": "2023-08-14T21:20:00.598575Z",
     "iopub.status.idle": "2023-08-14T21:20:01.037151Z",
     "shell.execute_reply": "2023-08-14T21:20:01.035483Z"
    },
    "papermill": {
     "duration": 0.474309,
     "end_time": "2023-08-14T21:20:01.042231",
     "exception": false,
     "start_time": "2023-08-14T21:20:00.567922",
     "status": "completed"
    },
    "tags": []
   },
   "outputs": [],
   "source": [
    "from sklearn.decomposition import PCA\n",
    "\n",
    "pca = PCA(n_components=0.95)\n",
    "train_scaled = pca.fit_transform(train_base)"
   ]
  },
  {
   "cell_type": "code",
   "execution_count": 36,
   "id": "d0dd2267",
   "metadata": {
    "execution": {
     "iopub.execute_input": "2023-08-14T21:20:01.143369Z",
     "iopub.status.busy": "2023-08-14T21:20:01.142917Z",
     "iopub.status.idle": "2023-08-14T21:20:01.150582Z",
     "shell.execute_reply": "2023-08-14T21:20:01.149344Z"
    },
    "papermill": {
     "duration": 0.040783,
     "end_time": "2023-08-14T21:20:01.153321",
     "exception": false,
     "start_time": "2023-08-14T21:20:01.112538",
     "status": "completed"
    },
    "tags": []
   },
   "outputs": [
    {
     "data": {
      "text/plain": [
       "array([[ -1881.12630134],\n",
       "       [-13103.28300395],\n",
       "       [ -2655.71980882],\n",
       "       ...,\n",
       "       [  4305.47922244],\n",
       "       [ 17721.36635712],\n",
       "       [ 16480.52020885]])"
      ]
     },
     "execution_count": 36,
     "metadata": {},
     "output_type": "execute_result"
    }
   ],
   "source": [
    "train_scaled"
   ]
  },
  {
   "cell_type": "code",
   "execution_count": 37,
   "id": "2191000d",
   "metadata": {
    "execution": {
     "iopub.execute_input": "2023-08-14T21:20:01.209169Z",
     "iopub.status.busy": "2023-08-14T21:20:01.207536Z",
     "iopub.status.idle": "2023-08-14T21:20:01.268747Z",
     "shell.execute_reply": "2023-08-14T21:20:01.267067Z"
    },
    "papermill": {
     "duration": 0.092154,
     "end_time": "2023-08-14T21:20:01.272281",
     "exception": false,
     "start_time": "2023-08-14T21:20:01.180127",
     "status": "completed"
    },
    "tags": []
   },
   "outputs": [
    {
     "data": {
      "text/html": [
       "<div>\n",
       "<style scoped>\n",
       "    .dataframe tbody tr th:only-of-type {\n",
       "        vertical-align: middle;\n",
       "    }\n",
       "\n",
       "    .dataframe tbody tr th {\n",
       "        vertical-align: top;\n",
       "    }\n",
       "\n",
       "    .dataframe thead th {\n",
       "        text-align: right;\n",
       "    }\n",
       "</style>\n",
       "<table border=\"1\" class=\"dataframe\">\n",
       "  <thead>\n",
       "    <tr style=\"text-align: right;\">\n",
       "      <th></th>\n",
       "      <th>ewm</th>\n",
       "      <th>ar</th>\n",
       "      <th>arma</th>\n",
       "      <th>emission</th>\n",
       "      <th>gasfeatures</th>\n",
       "    </tr>\n",
       "  </thead>\n",
       "  <tbody>\n",
       "    <tr>\n",
       "      <th>0</th>\n",
       "      <td>3.75</td>\n",
       "      <td>81.94</td>\n",
       "      <td>81.94</td>\n",
       "      <td>3.75</td>\n",
       "      <td>-1881.13</td>\n",
       "    </tr>\n",
       "    <tr>\n",
       "      <th>1</th>\n",
       "      <td>3.90</td>\n",
       "      <td>5.45</td>\n",
       "      <td>5.45</td>\n",
       "      <td>4.03</td>\n",
       "      <td>-13103.28</td>\n",
       "    </tr>\n",
       "    <tr>\n",
       "      <th>2</th>\n",
       "      <td>4.04</td>\n",
       "      <td>5.71</td>\n",
       "      <td>5.72</td>\n",
       "      <td>4.23</td>\n",
       "      <td>-2655.72</td>\n",
       "    </tr>\n",
       "    <tr>\n",
       "      <th>3</th>\n",
       "      <td>4.13</td>\n",
       "      <td>5.92</td>\n",
       "      <td>5.92</td>\n",
       "      <td>4.31</td>\n",
       "      <td>11731.11</td>\n",
       "    </tr>\n",
       "    <tr>\n",
       "      <th>4</th>\n",
       "      <td>4.19</td>\n",
       "      <td>5.99</td>\n",
       "      <td>6.00</td>\n",
       "      <td>4.35</td>\n",
       "      <td>-8067.51</td>\n",
       "    </tr>\n",
       "  </tbody>\n",
       "</table>\n",
       "</div>"
      ],
      "text/plain": [
       "   ewm    ar  arma  emission  gasfeatures\n",
       "0 3.75 81.94 81.94      3.75     -1881.13\n",
       "1 3.90  5.45  5.45      4.03    -13103.28\n",
       "2 4.04  5.71  5.72      4.23     -2655.72\n",
       "3 4.13  5.92  5.92      4.31     11731.11\n",
       "4 4.19  5.99  6.00      4.35     -8067.51"
      ]
     },
     "execution_count": 37,
     "metadata": {},
     "output_type": "execute_result"
    }
   ],
   "source": [
    "data=pd.concat([train[['ewm','ar','arma','emission']], pd.DataFrame({'gasfeatures':train_scaled.flatten()})], axis=1)\n",
    "data.head()"
   ]
  },
  {
   "cell_type": "code",
   "execution_count": 38,
   "id": "4e6606e7",
   "metadata": {
    "execution": {
     "iopub.execute_input": "2023-08-14T21:20:01.332584Z",
     "iopub.status.busy": "2023-08-14T21:20:01.332095Z",
     "iopub.status.idle": "2023-08-14T21:20:01.340463Z",
     "shell.execute_reply": "2023-08-14T21:20:01.338955Z"
    },
    "papermill": {
     "duration": 0.041541,
     "end_time": "2023-08-14T21:20:01.343603",
     "exception": false,
     "start_time": "2023-08-14T21:20:01.302062",
     "status": "completed"
    },
    "tags": []
   },
   "outputs": [],
   "source": [
    "X = data.drop(['emission'],axis=1)\n",
    "y = data['emission']"
   ]
  },
  {
   "cell_type": "code",
   "execution_count": 39,
   "id": "9cfd9d32",
   "metadata": {
    "execution": {
     "iopub.execute_input": "2023-08-14T21:20:01.402946Z",
     "iopub.status.busy": "2023-08-14T21:20:01.402465Z",
     "iopub.status.idle": "2023-08-14T21:20:01.421663Z",
     "shell.execute_reply": "2023-08-14T21:20:01.420337Z"
    },
    "papermill": {
     "duration": 0.052983,
     "end_time": "2023-08-14T21:20:01.424389",
     "exception": false,
     "start_time": "2023-08-14T21:20:01.371406",
     "status": "completed"
    },
    "tags": []
   },
   "outputs": [],
   "source": [
    "from sklearn.model_selection import train_test_split\n",
    "X_train ,X_valid , y_train , y_valid = train_test_split(X , y , test_size=0.2 , random_state=42)"
   ]
  },
  {
   "cell_type": "markdown",
   "id": "d32c65e1",
   "metadata": {
    "papermill": {
     "duration": 0.026751,
     "end_time": "2023-08-14T21:20:01.479443",
     "exception": false,
     "start_time": "2023-08-14T21:20:01.452692",
     "status": "completed"
    },
    "tags": []
   },
   "source": [
    "## Model fit"
   ]
  },
  {
   "cell_type": "code",
   "execution_count": 40,
   "id": "6a5c1046",
   "metadata": {
    "execution": {
     "iopub.execute_input": "2023-08-14T21:20:01.537974Z",
     "iopub.status.busy": "2023-08-14T21:20:01.537566Z",
     "iopub.status.idle": "2023-08-14T21:20:08.333363Z",
     "shell.execute_reply": "2023-08-14T21:20:08.332415Z"
    },
    "papermill": {
     "duration": 6.828909,
     "end_time": "2023-08-14T21:20:08.336069",
     "exception": false,
     "start_time": "2023-08-14T21:20:01.507160",
     "status": "completed"
    },
    "tags": []
   },
   "outputs": [
    {
     "name": "stdout",
     "output_type": "stream",
     "text": [
      "Root mean squared error of the model : 25.362499815717715 \n"
     ]
    }
   ],
   "source": [
    "import xgboost as xgb\n",
    "\n",
    "reg = xgb.XGBRegressor(n_estimators=100, max_depth=10 , random_state=42)\n",
    "reg.fit(X_train , y_train)\n",
    "y_pred = reg.predict(X_valid)\n",
    "\n",
    "rmse = np.sqrt(mean_squared_error(y_valid , y_pred))\n",
    "print(f\"Root mean squared error of the model : {rmse} \")"
   ]
  },
  {
   "cell_type": "code",
   "execution_count": 41,
   "id": "87b9de16",
   "metadata": {
    "execution": {
     "iopub.execute_input": "2023-08-14T21:20:08.391646Z",
     "iopub.status.busy": "2023-08-14T21:20:08.391223Z",
     "iopub.status.idle": "2023-08-14T21:20:10.566473Z",
     "shell.execute_reply": "2023-08-14T21:20:10.565223Z"
    },
    "papermill": {
     "duration": 2.205945,
     "end_time": "2023-08-14T21:20:10.569711",
     "exception": false,
     "start_time": "2023-08-14T21:20:08.363766",
     "status": "completed"
    },
    "tags": []
   },
   "outputs": [
    {
     "name": "stdout",
     "output_type": "stream",
     "text": [
      "Root mean squared error of the model : 37.65227987227667 \n"
     ]
    }
   ],
   "source": [
    "import lightgbm as lgbm\n",
    "\n",
    "reg = lgbm.LGBMRegressor(n_estimators=100, max_depth=10 , random_state=42)\n",
    "reg.fit(X_train , y_train)\n",
    "y_pred = reg.predict(X_valid)\n",
    "\n",
    "rmse = np.sqrt(mean_squared_error(y_valid , y_pred))\n",
    "print(f\"Root mean squared error of the model : {rmse} \")"
   ]
  },
  {
   "cell_type": "code",
   "execution_count": 42,
   "id": "53a0b1f5",
   "metadata": {
    "execution": {
     "iopub.execute_input": "2023-08-14T21:20:10.627825Z",
     "iopub.status.busy": "2023-08-14T21:20:10.627398Z",
     "iopub.status.idle": "2023-08-14T21:20:13.127868Z",
     "shell.execute_reply": "2023-08-14T21:20:13.126595Z"
    },
    "papermill": {
     "duration": 2.533395,
     "end_time": "2023-08-14T21:20:13.130435",
     "exception": false,
     "start_time": "2023-08-14T21:20:10.597040",
     "status": "completed"
    },
    "tags": []
   },
   "outputs": [
    {
     "name": "stdout",
     "output_type": "stream",
     "text": [
      "Root mean squared error of the model : 21.134996795470954 \n"
     ]
    }
   ],
   "source": [
    "from sklearn.ensemble import ExtraTreesRegressor\n",
    "\n",
    "reg = ExtraTreesRegressor(n_estimators=100, max_depth=10 , random_state=42)\n",
    "reg.fit(X_train , y_train)\n",
    "y_pred = reg.predict(X_valid)\n",
    "\n",
    "rmse = np.sqrt(mean_squared_error(y_valid , y_pred))\n",
    "print(f\"Root mean squared error of the model : {rmse} \")"
   ]
  },
  {
   "cell_type": "code",
   "execution_count": 43,
   "id": "defc4e09",
   "metadata": {
    "execution": {
     "iopub.execute_input": "2023-08-14T21:20:13.186188Z",
     "iopub.status.busy": "2023-08-14T21:20:13.184577Z",
     "iopub.status.idle": "2023-08-14T21:20:13.228379Z",
     "shell.execute_reply": "2023-08-14T21:20:13.226121Z"
    },
    "papermill": {
     "duration": 0.07533,
     "end_time": "2023-08-14T21:20:13.232355",
     "exception": false,
     "start_time": "2023-08-14T21:20:13.157025",
     "status": "completed"
    },
    "tags": []
   },
   "outputs": [
    {
     "name": "stdout",
     "output_type": "stream",
     "text": [
      "Root mean squared error of the model : 21.109941771427117 \n"
     ]
    }
   ],
   "source": [
    "from sklearn.linear_model import LinearRegression\n",
    "\n",
    "reg = LinearRegression()\n",
    "reg.fit(X_train , y_train)\n",
    "y_pred = reg.predict(X_valid)\n",
    "\n",
    "rmse = np.sqrt(mean_squared_error(y_valid , y_pred))\n",
    "print(f\"Root mean squared error of the model : {rmse} \")"
   ]
  },
  {
   "cell_type": "code",
   "execution_count": 44,
   "id": "ce1450ef",
   "metadata": {
    "execution": {
     "iopub.execute_input": "2023-08-14T21:20:13.340927Z",
     "iopub.status.busy": "2023-08-14T21:20:13.340534Z",
     "iopub.status.idle": "2023-08-14T21:20:13.402372Z",
     "shell.execute_reply": "2023-08-14T21:20:13.400742Z"
    },
    "papermill": {
     "duration": 0.119376,
     "end_time": "2023-08-14T21:20:13.407458",
     "exception": false,
     "start_time": "2023-08-14T21:20:13.288082",
     "status": "completed"
    },
    "tags": []
   },
   "outputs": [
    {
     "name": "stdout",
     "output_type": "stream",
     "text": [
      "Root mean squared error of the model : 21.374579623325822 \n"
     ]
    }
   ],
   "source": [
    "from sklearn.linear_model import ElasticNet\n",
    "\n",
    "reg = ElasticNet()\n",
    "reg.fit(X_train , y_train)\n",
    "y_pred = reg.predict(X_valid)\n",
    "\n",
    "rmse = np.sqrt(mean_squared_error(y_valid , y_pred))\n",
    "print(f\"Root mean squared error of the model : {rmse} \")"
   ]
  },
  {
   "cell_type": "markdown",
   "id": "d73ce5b3",
   "metadata": {
    "papermill": {
     "duration": 0.037237,
     "end_time": "2023-08-14T21:20:13.527245",
     "exception": false,
     "start_time": "2023-08-14T21:20:13.490008",
     "status": "completed"
    },
    "tags": []
   },
   "source": [
    "## Stacking `ensemble`"
   ]
  },
  {
   "cell_type": "code",
   "execution_count": 45,
   "id": "f1e97844",
   "metadata": {
    "execution": {
     "iopub.execute_input": "2023-08-14T21:20:13.581607Z",
     "iopub.status.busy": "2023-08-14T21:20:13.581182Z",
     "iopub.status.idle": "2023-08-14T21:21:59.009757Z",
     "shell.execute_reply": "2023-08-14T21:21:59.008819Z"
    },
    "papermill": {
     "duration": 105.487365,
     "end_time": "2023-08-14T21:21:59.041071",
     "exception": false,
     "start_time": "2023-08-14T21:20:13.553706",
     "status": "completed"
    },
    "tags": []
   },
   "outputs": [
    {
     "data": {
      "text/html": [
       "<style>#sk-container-id-1 {color: black;background-color: white;}#sk-container-id-1 pre{padding: 0;}#sk-container-id-1 div.sk-toggleable {background-color: white;}#sk-container-id-1 label.sk-toggleable__label {cursor: pointer;display: block;width: 100%;margin-bottom: 0;padding: 0.3em;box-sizing: border-box;text-align: center;}#sk-container-id-1 label.sk-toggleable__label-arrow:before {content: \"▸\";float: left;margin-right: 0.25em;color: #696969;}#sk-container-id-1 label.sk-toggleable__label-arrow:hover:before {color: black;}#sk-container-id-1 div.sk-estimator:hover label.sk-toggleable__label-arrow:before {color: black;}#sk-container-id-1 div.sk-toggleable__content {max-height: 0;max-width: 0;overflow: hidden;text-align: left;background-color: #f0f8ff;}#sk-container-id-1 div.sk-toggleable__content pre {margin: 0.2em;color: black;border-radius: 0.25em;background-color: #f0f8ff;}#sk-container-id-1 input.sk-toggleable__control:checked~div.sk-toggleable__content {max-height: 200px;max-width: 100%;overflow: auto;}#sk-container-id-1 input.sk-toggleable__control:checked~label.sk-toggleable__label-arrow:before {content: \"▾\";}#sk-container-id-1 div.sk-estimator input.sk-toggleable__control:checked~label.sk-toggleable__label {background-color: #d4ebff;}#sk-container-id-1 div.sk-label input.sk-toggleable__control:checked~label.sk-toggleable__label {background-color: #d4ebff;}#sk-container-id-1 input.sk-hidden--visually {border: 0;clip: rect(1px 1px 1px 1px);clip: rect(1px, 1px, 1px, 1px);height: 1px;margin: -1px;overflow: hidden;padding: 0;position: absolute;width: 1px;}#sk-container-id-1 div.sk-estimator {font-family: monospace;background-color: #f0f8ff;border: 1px dotted black;border-radius: 0.25em;box-sizing: border-box;margin-bottom: 0.5em;}#sk-container-id-1 div.sk-estimator:hover {background-color: #d4ebff;}#sk-container-id-1 div.sk-parallel-item::after {content: \"\";width: 100%;border-bottom: 1px solid gray;flex-grow: 1;}#sk-container-id-1 div.sk-label:hover label.sk-toggleable__label {background-color: #d4ebff;}#sk-container-id-1 div.sk-serial::before {content: \"\";position: absolute;border-left: 1px solid gray;box-sizing: border-box;top: 0;bottom: 0;left: 50%;z-index: 0;}#sk-container-id-1 div.sk-serial {display: flex;flex-direction: column;align-items: center;background-color: white;padding-right: 0.2em;padding-left: 0.2em;position: relative;}#sk-container-id-1 div.sk-item {position: relative;z-index: 1;}#sk-container-id-1 div.sk-parallel {display: flex;align-items: stretch;justify-content: center;background-color: white;position: relative;}#sk-container-id-1 div.sk-item::before, #sk-container-id-1 div.sk-parallel-item::before {content: \"\";position: absolute;border-left: 1px solid gray;box-sizing: border-box;top: 0;bottom: 0;left: 50%;z-index: -1;}#sk-container-id-1 div.sk-parallel-item {display: flex;flex-direction: column;z-index: 1;position: relative;background-color: white;}#sk-container-id-1 div.sk-parallel-item:first-child::after {align-self: flex-end;width: 50%;}#sk-container-id-1 div.sk-parallel-item:last-child::after {align-self: flex-start;width: 50%;}#sk-container-id-1 div.sk-parallel-item:only-child::after {width: 0;}#sk-container-id-1 div.sk-dashed-wrapped {border: 1px dashed gray;margin: 0 0.4em 0.5em 0.4em;box-sizing: border-box;padding-bottom: 0.4em;background-color: white;}#sk-container-id-1 div.sk-label label {font-family: monospace;font-weight: bold;display: inline-block;line-height: 1.2em;}#sk-container-id-1 div.sk-label-container {text-align: center;}#sk-container-id-1 div.sk-container {/* jupyter's `normalize.less` sets `[hidden] { display: none; }` but bootstrap.min.css set `[hidden] { display: none !important; }` so we also need the `!important` here to be able to override the default hidden behavior on the sphinx rendered scikit-learn.org. See: https://github.com/scikit-learn/scikit-learn/issues/21755 */display: inline-block !important;position: relative;}#sk-container-id-1 div.sk-text-repr-fallback {display: none;}</style><div id=\"sk-container-id-1\" class=\"sk-top-container\"><div class=\"sk-text-repr-fallback\"><pre>StackingRegressor(cv=5,\n",
       "                  estimators=[(&#x27;LinearRegression &#x27;, LinearRegression()),\n",
       "                              (&#x27;ExtraTreesRegressor&#x27;, ExtraTreesRegressor()),\n",
       "                              (&#x27;Elastic Net &#x27;, ElasticNet()),\n",
       "                              (&#x27;XGBoost&#x27;,\n",
       "                               XGBRegressor(base_score=None, booster=None,\n",
       "                                            callbacks=None,\n",
       "                                            colsample_bylevel=None,\n",
       "                                            colsample_bynode=None,\n",
       "                                            colsample_bytree=None,\n",
       "                                            early_stopping_rounds=None,\n",
       "                                            enable_categorical=False,\n",
       "                                            eval_metric=No...\n",
       "                                            importance_type=None,\n",
       "                                            interaction_constraints=None,\n",
       "                                            learning_rate=None, max_bin=None,\n",
       "                                            max_cat_threshold=None,\n",
       "                                            max_cat_to_onehot=None,\n",
       "                                            max_delta_step=None, max_depth=None,\n",
       "                                            max_leaves=None,\n",
       "                                            min_child_weight=None, missing=nan,\n",
       "                                            monotone_constraints=None,\n",
       "                                            n_estimators=100, n_jobs=None,\n",
       "                                            num_parallel_tree=None,\n",
       "                                            predictor=None, random_state=None, ...))],\n",
       "                  final_estimator=ExtraTreesRegressor())</pre><b>In a Jupyter environment, please rerun this cell to show the HTML representation or trust the notebook. <br />On GitHub, the HTML representation is unable to render, please try loading this page with nbviewer.org.</b></div><div class=\"sk-container\" hidden><div class=\"sk-item sk-dashed-wrapped\"><div class=\"sk-label-container\"><div class=\"sk-label sk-toggleable\"><input class=\"sk-toggleable__control sk-hidden--visually\" id=\"sk-estimator-id-1\" type=\"checkbox\" ><label for=\"sk-estimator-id-1\" class=\"sk-toggleable__label sk-toggleable__label-arrow\">StackingRegressor</label><div class=\"sk-toggleable__content\"><pre>StackingRegressor(cv=5,\n",
       "                  estimators=[(&#x27;LinearRegression &#x27;, LinearRegression()),\n",
       "                              (&#x27;ExtraTreesRegressor&#x27;, ExtraTreesRegressor()),\n",
       "                              (&#x27;Elastic Net &#x27;, ElasticNet()),\n",
       "                              (&#x27;XGBoost&#x27;,\n",
       "                               XGBRegressor(base_score=None, booster=None,\n",
       "                                            callbacks=None,\n",
       "                                            colsample_bylevel=None,\n",
       "                                            colsample_bynode=None,\n",
       "                                            colsample_bytree=None,\n",
       "                                            early_stopping_rounds=None,\n",
       "                                            enable_categorical=False,\n",
       "                                            eval_metric=No...\n",
       "                                            importance_type=None,\n",
       "                                            interaction_constraints=None,\n",
       "                                            learning_rate=None, max_bin=None,\n",
       "                                            max_cat_threshold=None,\n",
       "                                            max_cat_to_onehot=None,\n",
       "                                            max_delta_step=None, max_depth=None,\n",
       "                                            max_leaves=None,\n",
       "                                            min_child_weight=None, missing=nan,\n",
       "                                            monotone_constraints=None,\n",
       "                                            n_estimators=100, n_jobs=None,\n",
       "                                            num_parallel_tree=None,\n",
       "                                            predictor=None, random_state=None, ...))],\n",
       "                  final_estimator=ExtraTreesRegressor())</pre></div></div></div><div class=\"sk-serial\"><div class=\"sk-item\"><div class=\"sk-parallel\"><div class=\"sk-parallel-item\"><div class=\"sk-item\"><div class=\"sk-label-container\"><div class=\"sk-label sk-toggleable\"><label>LinearRegression </label></div></div><div class=\"sk-serial\"><div class=\"sk-item\"><div class=\"sk-estimator sk-toggleable\"><input class=\"sk-toggleable__control sk-hidden--visually\" id=\"sk-estimator-id-2\" type=\"checkbox\" ><label for=\"sk-estimator-id-2\" class=\"sk-toggleable__label sk-toggleable__label-arrow\">LinearRegression</label><div class=\"sk-toggleable__content\"><pre>LinearRegression()</pre></div></div></div></div></div></div><div class=\"sk-parallel-item\"><div class=\"sk-item\"><div class=\"sk-label-container\"><div class=\"sk-label sk-toggleable\"><label>ExtraTreesRegressor</label></div></div><div class=\"sk-serial\"><div class=\"sk-item\"><div class=\"sk-estimator sk-toggleable\"><input class=\"sk-toggleable__control sk-hidden--visually\" id=\"sk-estimator-id-3\" type=\"checkbox\" ><label for=\"sk-estimator-id-3\" class=\"sk-toggleable__label sk-toggleable__label-arrow\">ExtraTreesRegressor</label><div class=\"sk-toggleable__content\"><pre>ExtraTreesRegressor()</pre></div></div></div></div></div></div><div class=\"sk-parallel-item\"><div class=\"sk-item\"><div class=\"sk-label-container\"><div class=\"sk-label sk-toggleable\"><label>Elastic Net </label></div></div><div class=\"sk-serial\"><div class=\"sk-item\"><div class=\"sk-estimator sk-toggleable\"><input class=\"sk-toggleable__control sk-hidden--visually\" id=\"sk-estimator-id-4\" type=\"checkbox\" ><label for=\"sk-estimator-id-4\" class=\"sk-toggleable__label sk-toggleable__label-arrow\">ElasticNet</label><div class=\"sk-toggleable__content\"><pre>ElasticNet()</pre></div></div></div></div></div></div><div class=\"sk-parallel-item\"><div class=\"sk-item\"><div class=\"sk-label-container\"><div class=\"sk-label sk-toggleable\"><label>XGBoost</label></div></div><div class=\"sk-serial\"><div class=\"sk-item\"><div class=\"sk-estimator sk-toggleable\"><input class=\"sk-toggleable__control sk-hidden--visually\" id=\"sk-estimator-id-5\" type=\"checkbox\" ><label for=\"sk-estimator-id-5\" class=\"sk-toggleable__label sk-toggleable__label-arrow\">XGBRegressor</label><div class=\"sk-toggleable__content\"><pre>XGBRegressor(base_score=None, booster=None, callbacks=None,\n",
       "             colsample_bylevel=None, colsample_bynode=None,\n",
       "             colsample_bytree=None, early_stopping_rounds=None,\n",
       "             enable_categorical=False, eval_metric=None, feature_types=None,\n",
       "             gamma=None, gpu_id=None, grow_policy=None, importance_type=None,\n",
       "             interaction_constraints=None, learning_rate=None, max_bin=None,\n",
       "             max_cat_threshold=None, max_cat_to_onehot=None,\n",
       "             max_delta_step=None, max_depth=None, max_leaves=None,\n",
       "             min_child_weight=None, missing=nan, monotone_constraints=None,\n",
       "             n_estimators=100, n_jobs=None, num_parallel_tree=None,\n",
       "             predictor=None, random_state=None, ...)</pre></div></div></div></div></div></div></div></div><div class=\"sk-item\"><div class=\"sk-parallel\"><div class=\"sk-parallel-item\"><div class=\"sk-item\"><div class=\"sk-label-container\"><div class=\"sk-label sk-toggleable\"><label>final_estimator</label></div></div><div class=\"sk-serial\"><div class=\"sk-item\"><div class=\"sk-estimator sk-toggleable\"><input class=\"sk-toggleable__control sk-hidden--visually\" id=\"sk-estimator-id-6\" type=\"checkbox\" ><label for=\"sk-estimator-id-6\" class=\"sk-toggleable__label sk-toggleable__label-arrow\">ExtraTreesRegressor</label><div class=\"sk-toggleable__content\"><pre>ExtraTreesRegressor()</pre></div></div></div></div></div></div></div></div></div></div></div></div>"
      ],
      "text/plain": [
       "StackingRegressor(cv=5,\n",
       "                  estimators=[('LinearRegression ', LinearRegression()),\n",
       "                              ('ExtraTreesRegressor', ExtraTreesRegressor()),\n",
       "                              ('Elastic Net ', ElasticNet()),\n",
       "                              ('XGBoost',\n",
       "                               XGBRegressor(base_score=None, booster=None,\n",
       "                                            callbacks=None,\n",
       "                                            colsample_bylevel=None,\n",
       "                                            colsample_bynode=None,\n",
       "                                            colsample_bytree=None,\n",
       "                                            early_stopping_rounds=None,\n",
       "                                            enable_categorical=False,\n",
       "                                            eval_metric=No...\n",
       "                                            importance_type=None,\n",
       "                                            interaction_constraints=None,\n",
       "                                            learning_rate=None, max_bin=None,\n",
       "                                            max_cat_threshold=None,\n",
       "                                            max_cat_to_onehot=None,\n",
       "                                            max_delta_step=None, max_depth=None,\n",
       "                                            max_leaves=None,\n",
       "                                            min_child_weight=None, missing=nan,\n",
       "                                            monotone_constraints=None,\n",
       "                                            n_estimators=100, n_jobs=None,\n",
       "                                            num_parallel_tree=None,\n",
       "                                            predictor=None, random_state=None, ...))],\n",
       "                  final_estimator=ExtraTreesRegressor())"
      ]
     },
     "execution_count": 45,
     "metadata": {},
     "output_type": "execute_result"
    }
   ],
   "source": [
    "from sklearn.ensemble import StackingRegressor\n",
    "\n",
    "stacking_reg = StackingRegressor(\n",
    "    estimators = [\n",
    "        ('LinearRegression ',LinearRegression()),\n",
    "        ('ExtraTreesRegressor',ExtraTreesRegressor()),\n",
    "        ('Elastic Net ', ElasticNet()),\n",
    "        ('XGBoost' , xgb.XGBRegressor())\n",
    "    ],\n",
    "    final_estimator = ExtraTreesRegressor() , cv = 5\n",
    ")\n",
    "stacking_reg.fit(X_train , y_train)"
   ]
  },
  {
   "cell_type": "code",
   "execution_count": 46,
   "id": "7a349ed7",
   "metadata": {
    "execution": {
     "iopub.execute_input": "2023-08-14T21:21:59.105559Z",
     "iopub.status.busy": "2023-08-14T21:21:59.104969Z",
     "iopub.status.idle": "2023-08-14T21:22:01.177831Z",
     "shell.execute_reply": "2023-08-14T21:22:01.176576Z"
    },
    "papermill": {
     "duration": 2.110899,
     "end_time": "2023-08-14T21:22:01.180579",
     "exception": false,
     "start_time": "2023-08-14T21:21:59.069680",
     "status": "completed"
    },
    "tags": []
   },
   "outputs": [
    {
     "name": "stdout",
     "output_type": "stream",
     "text": [
      "Root mean squared error of the model : 21.511765341098208 \n"
     ]
    }
   ],
   "source": [
    "y_pred = stacking_reg.predict(X_valid)\n",
    "rmse = np.sqrt(mean_squared_error(y_valid , y_pred))\n",
    "print(f\"Root mean squared error of the model : {rmse} \")"
   ]
  },
  {
   "cell_type": "code",
   "execution_count": 47,
   "id": "1cd9cf77",
   "metadata": {
    "execution": {
     "iopub.execute_input": "2023-08-14T21:22:01.236534Z",
     "iopub.status.busy": "2023-08-14T21:22:01.235854Z",
     "iopub.status.idle": "2023-08-14T21:22:01.241475Z",
     "shell.execute_reply": "2023-08-14T21:22:01.240607Z"
    },
    "papermill": {
     "duration": 0.036538,
     "end_time": "2023-08-14T21:22:01.243953",
     "exception": false,
     "start_time": "2023-08-14T21:22:01.207415",
     "status": "completed"
    },
    "tags": []
   },
   "outputs": [],
   "source": [
    "import pickle\n",
    "pickle.dump(reg, open(\"predict_co2_emission.pkl\", \"wb\"))"
   ]
  }
 ],
 "metadata": {
  "kernelspec": {
   "display_name": "Python 3",
   "language": "python",
   "name": "python3"
  },
  "language_info": {
   "codemirror_mode": {
    "name": "ipython",
    "version": 3
   },
   "file_extension": ".py",
   "mimetype": "text/x-python",
   "name": "python",
   "nbconvert_exporter": "python",
   "pygments_lexer": "ipython3",
   "version": "3.10.12"
  },
  "papermill": {
   "default_parameters": {},
   "duration": 180.296551,
   "end_time": "2023-08-14T21:22:02.797276",
   "environment_variables": {},
   "exception": null,
   "input_path": "__notebook__.ipynb",
   "output_path": "__notebook__.ipynb",
   "parameters": {},
   "start_time": "2023-08-14T21:19:02.500725",
   "version": "2.4.0"
  }
 },
 "nbformat": 4,
 "nbformat_minor": 5
}
