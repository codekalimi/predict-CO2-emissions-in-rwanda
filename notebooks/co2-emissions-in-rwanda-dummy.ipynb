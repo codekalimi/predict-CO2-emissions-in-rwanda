{
 "cells": [
  {
   "source": [
    "<a href=\"https://www.kaggle.com/code/avd1729/co2-emissions-in-rwanda?scriptVersionId=139638799\" target=\"_blank\"><img align=\"left\" alt=\"Kaggle\" title=\"Open in Kaggle\" src=\"https://kaggle.com/static/images/open-in-kaggle.svg\"></a>"
   ],
   "metadata": {},
   "cell_type": "markdown",
   "id": "c2f63c3aa7cf0360"
  },
  {
   "cell_type": "markdown",
   "id": "66c0914f",
   "metadata": {
    "papermill": {
     "duration": 0.01207,
     "end_time": "2023-08-11T16:54:14.301732",
     "exception": false,
     "start_time": "2023-08-11T16:54:14.289662",
     "status": "completed"
    },
    "tags": []
   },
   "source": [
    "# **Setting up the environment**"
   ]
  },
  {
   "cell_type": "code",
   "execution_count": 1,
   "id": "39c0ce79",
   "metadata": {
    "execution": {
     "iopub.execute_input": "2023-08-11T16:54:14.327142Z",
     "iopub.status.busy": "2023-08-11T16:54:14.326503Z",
     "iopub.status.idle": "2023-08-11T16:54:14.335967Z",
     "shell.execute_reply": "2023-08-11T16:54:14.334851Z"
    },
    "papermill": {
     "duration": 0.024873,
     "end_time": "2023-08-11T16:54:14.338232",
     "exception": false,
     "start_time": "2023-08-11T16:54:14.313359",
     "status": "completed"
    },
    "tags": []
   },
   "outputs": [],
   "source": [
    "import numpy as np\n",
    "import pandas as pd"
   ]
  },
  {
   "cell_type": "code",
   "execution_count": 2,
   "id": "d33c57ee",
   "metadata": {
    "execution": {
     "iopub.execute_input": "2023-08-11T16:54:14.363844Z",
     "iopub.status.busy": "2023-08-11T16:54:14.363358Z",
     "iopub.status.idle": "2023-08-11T16:54:16.130604Z",
     "shell.execute_reply": "2023-08-11T16:54:16.129131Z"
    },
    "papermill": {
     "duration": 1.783006,
     "end_time": "2023-08-11T16:54:16.133175",
     "exception": false,
     "start_time": "2023-08-11T16:54:14.350169",
     "status": "completed"
    },
    "tags": []
   },
   "outputs": [],
   "source": [
    "train = pd.read_csv(\"/kaggle/input/playground-series-s3e20/train.csv\")"
   ]
  },
  {
   "cell_type": "code",
   "execution_count": 3,
   "id": "20f15656",
   "metadata": {
    "execution": {
     "iopub.execute_input": "2023-08-11T16:54:16.158738Z",
     "iopub.status.busy": "2023-08-11T16:54:16.158295Z",
     "iopub.status.idle": "2023-08-11T16:54:16.169451Z",
     "shell.execute_reply": "2023-08-11T16:54:16.168349Z"
    },
    "papermill": {
     "duration": 0.027445,
     "end_time": "2023-08-11T16:54:16.172365",
     "exception": false,
     "start_time": "2023-08-11T16:54:16.14492",
     "status": "completed"
    },
    "tags": []
   },
   "outputs": [],
   "source": [
    "train_base = train.copy()"
   ]
  },
  {
   "cell_type": "markdown",
   "id": "be90c519",
   "metadata": {
    "papermill": {
     "duration": 0.011258,
     "end_time": "2023-08-11T16:54:16.195797",
     "exception": false,
     "start_time": "2023-08-11T16:54:16.184539",
     "status": "completed"
    },
    "tags": []
   },
   "source": [
    "# **Understanding the data**"
   ]
  },
  {
   "cell_type": "code",
   "execution_count": 4,
   "id": "9b5594ee",
   "metadata": {
    "execution": {
     "iopub.execute_input": "2023-08-11T16:54:16.221123Z",
     "iopub.status.busy": "2023-08-11T16:54:16.220784Z",
     "iopub.status.idle": "2023-08-11T16:54:16.275078Z",
     "shell.execute_reply": "2023-08-11T16:54:16.273933Z"
    },
    "papermill": {
     "duration": 0.069352,
     "end_time": "2023-08-11T16:54:16.277073",
     "exception": false,
     "start_time": "2023-08-11T16:54:16.207721",
     "status": "completed"
    },
    "tags": []
   },
   "outputs": [
    {
     "name": "stdout",
     "output_type": "stream",
     "text": [
      "<class 'pandas.core.frame.DataFrame'>\n",
      "RangeIndex: 79023 entries, 0 to 79022\n",
      "Data columns (total 76 columns):\n",
      " #   Column                                                    Non-Null Count  Dtype  \n",
      "---  ------                                                    --------------  -----  \n",
      " 0   ID_LAT_LON_YEAR_WEEK                                      79023 non-null  object \n",
      " 1   latitude                                                  79023 non-null  float64\n",
      " 2   longitude                                                 79023 non-null  float64\n",
      " 3   year                                                      79023 non-null  int64  \n",
      " 4   week_no                                                   79023 non-null  int64  \n",
      " 5   SulphurDioxide_SO2_column_number_density                  64414 non-null  float64\n",
      " 6   SulphurDioxide_SO2_column_number_density_amf              64414 non-null  float64\n",
      " 7   SulphurDioxide_SO2_slant_column_number_density            64414 non-null  float64\n",
      " 8   SulphurDioxide_cloud_fraction                             64414 non-null  float64\n",
      " 9   SulphurDioxide_sensor_azimuth_angle                       64414 non-null  float64\n",
      " 10  SulphurDioxide_sensor_zenith_angle                        64414 non-null  float64\n",
      " 11  SulphurDioxide_solar_azimuth_angle                        64414 non-null  float64\n",
      " 12  SulphurDioxide_solar_zenith_angle                         64414 non-null  float64\n",
      " 13  SulphurDioxide_SO2_column_number_density_15km             64414 non-null  float64\n",
      " 14  CarbonMonoxide_CO_column_number_density                   76901 non-null  float64\n",
      " 15  CarbonMonoxide_H2O_column_number_density                  76901 non-null  float64\n",
      " 16  CarbonMonoxide_cloud_height                               76901 non-null  float64\n",
      " 17  CarbonMonoxide_sensor_altitude                            76901 non-null  float64\n",
      " 18  CarbonMonoxide_sensor_azimuth_angle                       76901 non-null  float64\n",
      " 19  CarbonMonoxide_sensor_zenith_angle                        76901 non-null  float64\n",
      " 20  CarbonMonoxide_solar_azimuth_angle                        76901 non-null  float64\n",
      " 21  CarbonMonoxide_solar_zenith_angle                         76901 non-null  float64\n",
      " 22  NitrogenDioxide_NO2_column_number_density                 60703 non-null  float64\n",
      " 23  NitrogenDioxide_tropospheric_NO2_column_number_density    60703 non-null  float64\n",
      " 24  NitrogenDioxide_stratospheric_NO2_column_number_density   60703 non-null  float64\n",
      " 25  NitrogenDioxide_NO2_slant_column_number_density           60703 non-null  float64\n",
      " 26  NitrogenDioxide_tropopause_pressure                       60703 non-null  float64\n",
      " 27  NitrogenDioxide_absorbing_aerosol_index                   60703 non-null  float64\n",
      " 28  NitrogenDioxide_cloud_fraction                            60703 non-null  float64\n",
      " 29  NitrogenDioxide_sensor_altitude                           60703 non-null  float64\n",
      " 30  NitrogenDioxide_sensor_azimuth_angle                      60703 non-null  float64\n",
      " 31  NitrogenDioxide_sensor_zenith_angle                       60703 non-null  float64\n",
      " 32  NitrogenDioxide_solar_azimuth_angle                       60703 non-null  float64\n",
      " 33  NitrogenDioxide_solar_zenith_angle                        60703 non-null  float64\n",
      " 34  Formaldehyde_tropospheric_HCHO_column_number_density      71746 non-null  float64\n",
      " 35  Formaldehyde_tropospheric_HCHO_column_number_density_amf  71746 non-null  float64\n",
      " 36  Formaldehyde_HCHO_slant_column_number_density             71746 non-null  float64\n",
      " 37  Formaldehyde_cloud_fraction                               71746 non-null  float64\n",
      " 38  Formaldehyde_solar_zenith_angle                           71746 non-null  float64\n",
      " 39  Formaldehyde_solar_azimuth_angle                          71746 non-null  float64\n",
      " 40  Formaldehyde_sensor_zenith_angle                          71746 non-null  float64\n",
      " 41  Formaldehyde_sensor_azimuth_angle                         71746 non-null  float64\n",
      " 42  UvAerosolIndex_absorbing_aerosol_index                    78484 non-null  float64\n",
      " 43  UvAerosolIndex_sensor_altitude                            78484 non-null  float64\n",
      " 44  UvAerosolIndex_sensor_azimuth_angle                       78484 non-null  float64\n",
      " 45  UvAerosolIndex_sensor_zenith_angle                        78484 non-null  float64\n",
      " 46  UvAerosolIndex_solar_azimuth_angle                        78484 non-null  float64\n",
      " 47  UvAerosolIndex_solar_zenith_angle                         78484 non-null  float64\n",
      " 48  Ozone_O3_column_number_density                            78475 non-null  float64\n",
      " 49  Ozone_O3_column_number_density_amf                        78475 non-null  float64\n",
      " 50  Ozone_O3_slant_column_number_density                      78475 non-null  float64\n",
      " 51  Ozone_O3_effective_temperature                            78475 non-null  float64\n",
      " 52  Ozone_cloud_fraction                                      78475 non-null  float64\n",
      " 53  Ozone_sensor_azimuth_angle                                78475 non-null  float64\n",
      " 54  Ozone_sensor_zenith_angle                                 78475 non-null  float64\n",
      " 55  Ozone_solar_azimuth_angle                                 78475 non-null  float64\n",
      " 56  Ozone_solar_zenith_angle                                  78475 non-null  float64\n",
      " 57  UvAerosolLayerHeight_aerosol_height                       439 non-null    float64\n",
      " 58  UvAerosolLayerHeight_aerosol_pressure                     439 non-null    float64\n",
      " 59  UvAerosolLayerHeight_aerosol_optical_depth                439 non-null    float64\n",
      " 60  UvAerosolLayerHeight_sensor_zenith_angle                  439 non-null    float64\n",
      " 61  UvAerosolLayerHeight_sensor_azimuth_angle                 439 non-null    float64\n",
      " 62  UvAerosolLayerHeight_solar_azimuth_angle                  439 non-null    float64\n",
      " 63  UvAerosolLayerHeight_solar_zenith_angle                   439 non-null    float64\n",
      " 64  Cloud_cloud_fraction                                      78539 non-null  float64\n",
      " 65  Cloud_cloud_top_pressure                                  78539 non-null  float64\n",
      " 66  Cloud_cloud_top_height                                    78539 non-null  float64\n",
      " 67  Cloud_cloud_base_pressure                                 78539 non-null  float64\n",
      " 68  Cloud_cloud_base_height                                   78539 non-null  float64\n",
      " 69  Cloud_cloud_optical_depth                                 78539 non-null  float64\n",
      " 70  Cloud_surface_albedo                                      78539 non-null  float64\n",
      " 71  Cloud_sensor_azimuth_angle                                78539 non-null  float64\n",
      " 72  Cloud_sensor_zenith_angle                                 78539 non-null  float64\n",
      " 73  Cloud_solar_azimuth_angle                                 78539 non-null  float64\n",
      " 74  Cloud_solar_zenith_angle                                  78539 non-null  float64\n",
      " 75  emission                                                  79023 non-null  float64\n",
      "dtypes: float64(73), int64(2), object(1)\n",
      "memory usage: 45.8+ MB\n"
     ]
    }
   ],
   "source": [
    "train.info()"
   ]
  },
  {
   "cell_type": "code",
   "execution_count": 5,
   "id": "9d370e60",
   "metadata": {
    "execution": {
     "iopub.execute_input": "2023-08-11T16:54:16.302343Z",
     "iopub.status.busy": "2023-08-11T16:54:16.301947Z",
     "iopub.status.idle": "2023-08-11T16:54:16.336145Z",
     "shell.execute_reply": "2023-08-11T16:54:16.335415Z"
    },
    "papermill": {
     "duration": 0.049143,
     "end_time": "2023-08-11T16:54:16.337962",
     "exception": false,
     "start_time": "2023-08-11T16:54:16.288819",
     "status": "completed"
    },
    "tags": []
   },
   "outputs": [
    {
     "data": {
      "text/html": [
       "<div>\n",
       "<style scoped>\n",
       "    .dataframe tbody tr th:only-of-type {\n",
       "        vertical-align: middle;\n",
       "    }\n",
       "\n",
       "    .dataframe tbody tr th {\n",
       "        vertical-align: top;\n",
       "    }\n",
       "\n",
       "    .dataframe thead th {\n",
       "        text-align: right;\n",
       "    }\n",
       "</style>\n",
       "<table border=\"1\" class=\"dataframe\">\n",
       "  <thead>\n",
       "    <tr style=\"text-align: right;\">\n",
       "      <th></th>\n",
       "      <th>ID_LAT_LON_YEAR_WEEK</th>\n",
       "      <th>latitude</th>\n",
       "      <th>longitude</th>\n",
       "      <th>year</th>\n",
       "      <th>week_no</th>\n",
       "      <th>SulphurDioxide_SO2_column_number_density</th>\n",
       "      <th>SulphurDioxide_SO2_column_number_density_amf</th>\n",
       "      <th>SulphurDioxide_SO2_slant_column_number_density</th>\n",
       "      <th>SulphurDioxide_cloud_fraction</th>\n",
       "      <th>SulphurDioxide_sensor_azimuth_angle</th>\n",
       "      <th>...</th>\n",
       "      <th>Cloud_cloud_top_height</th>\n",
       "      <th>Cloud_cloud_base_pressure</th>\n",
       "      <th>Cloud_cloud_base_height</th>\n",
       "      <th>Cloud_cloud_optical_depth</th>\n",
       "      <th>Cloud_surface_albedo</th>\n",
       "      <th>Cloud_sensor_azimuth_angle</th>\n",
       "      <th>Cloud_sensor_zenith_angle</th>\n",
       "      <th>Cloud_solar_azimuth_angle</th>\n",
       "      <th>Cloud_solar_zenith_angle</th>\n",
       "      <th>emission</th>\n",
       "    </tr>\n",
       "  </thead>\n",
       "  <tbody>\n",
       "    <tr>\n",
       "      <th>0</th>\n",
       "      <td>ID_-0.510_29.290_2019_00</td>\n",
       "      <td>-0.51</td>\n",
       "      <td>29.29</td>\n",
       "      <td>2019</td>\n",
       "      <td>0</td>\n",
       "      <td>-0.000108</td>\n",
       "      <td>0.603019</td>\n",
       "      <td>-0.000065</td>\n",
       "      <td>0.255668</td>\n",
       "      <td>-98.593887</td>\n",
       "      <td>...</td>\n",
       "      <td>3664.436218</td>\n",
       "      <td>61085.809570</td>\n",
       "      <td>2615.120483</td>\n",
       "      <td>15.568533</td>\n",
       "      <td>0.272292</td>\n",
       "      <td>-12.628986</td>\n",
       "      <td>35.632416</td>\n",
       "      <td>-138.786423</td>\n",
       "      <td>30.752140</td>\n",
       "      <td>3.750994</td>\n",
       "    </tr>\n",
       "    <tr>\n",
       "      <th>1</th>\n",
       "      <td>ID_-0.510_29.290_2019_01</td>\n",
       "      <td>-0.51</td>\n",
       "      <td>29.29</td>\n",
       "      <td>2019</td>\n",
       "      <td>1</td>\n",
       "      <td>0.000021</td>\n",
       "      <td>0.728214</td>\n",
       "      <td>0.000014</td>\n",
       "      <td>0.130988</td>\n",
       "      <td>16.592861</td>\n",
       "      <td>...</td>\n",
       "      <td>3651.190311</td>\n",
       "      <td>66969.478735</td>\n",
       "      <td>3174.572424</td>\n",
       "      <td>8.690601</td>\n",
       "      <td>0.256830</td>\n",
       "      <td>30.359375</td>\n",
       "      <td>39.557633</td>\n",
       "      <td>-145.183930</td>\n",
       "      <td>27.251779</td>\n",
       "      <td>4.025176</td>\n",
       "    </tr>\n",
       "    <tr>\n",
       "      <th>2</th>\n",
       "      <td>ID_-0.510_29.290_2019_02</td>\n",
       "      <td>-0.51</td>\n",
       "      <td>29.29</td>\n",
       "      <td>2019</td>\n",
       "      <td>2</td>\n",
       "      <td>0.000514</td>\n",
       "      <td>0.748199</td>\n",
       "      <td>0.000385</td>\n",
       "      <td>0.110018</td>\n",
       "      <td>72.795837</td>\n",
       "      <td>...</td>\n",
       "      <td>4216.986492</td>\n",
       "      <td>60068.894448</td>\n",
       "      <td>3516.282669</td>\n",
       "      <td>21.103410</td>\n",
       "      <td>0.251101</td>\n",
       "      <td>15.377883</td>\n",
       "      <td>30.401823</td>\n",
       "      <td>-142.519545</td>\n",
       "      <td>26.193296</td>\n",
       "      <td>4.231381</td>\n",
       "    </tr>\n",
       "    <tr>\n",
       "      <th>3</th>\n",
       "      <td>ID_-0.510_29.290_2019_03</td>\n",
       "      <td>-0.51</td>\n",
       "      <td>29.29</td>\n",
       "      <td>2019</td>\n",
       "      <td>3</td>\n",
       "      <td>NaN</td>\n",
       "      <td>NaN</td>\n",
       "      <td>NaN</td>\n",
       "      <td>NaN</td>\n",
       "      <td>NaN</td>\n",
       "      <td>...</td>\n",
       "      <td>5228.507736</td>\n",
       "      <td>51064.547339</td>\n",
       "      <td>4180.973322</td>\n",
       "      <td>15.386899</td>\n",
       "      <td>0.262043</td>\n",
       "      <td>-11.293399</td>\n",
       "      <td>24.380357</td>\n",
       "      <td>-132.665828</td>\n",
       "      <td>28.829155</td>\n",
       "      <td>4.305286</td>\n",
       "    </tr>\n",
       "    <tr>\n",
       "      <th>4</th>\n",
       "      <td>ID_-0.510_29.290_2019_04</td>\n",
       "      <td>-0.51</td>\n",
       "      <td>29.29</td>\n",
       "      <td>2019</td>\n",
       "      <td>4</td>\n",
       "      <td>-0.000079</td>\n",
       "      <td>0.676296</td>\n",
       "      <td>-0.000048</td>\n",
       "      <td>0.121164</td>\n",
       "      <td>4.121269</td>\n",
       "      <td>...</td>\n",
       "      <td>3980.598120</td>\n",
       "      <td>63751.125781</td>\n",
       "      <td>3355.710107</td>\n",
       "      <td>8.114694</td>\n",
       "      <td>0.235847</td>\n",
       "      <td>38.532263</td>\n",
       "      <td>37.392979</td>\n",
       "      <td>-141.509805</td>\n",
       "      <td>22.204612</td>\n",
       "      <td>4.347317</td>\n",
       "    </tr>\n",
       "  </tbody>\n",
       "</table>\n",
       "<p>5 rows × 76 columns</p>\n",
       "</div>"
      ],
      "text/plain": [
       "       ID_LAT_LON_YEAR_WEEK  latitude  longitude  year  week_no  \\\n",
       "0  ID_-0.510_29.290_2019_00     -0.51      29.29  2019        0   \n",
       "1  ID_-0.510_29.290_2019_01     -0.51      29.29  2019        1   \n",
       "2  ID_-0.510_29.290_2019_02     -0.51      29.29  2019        2   \n",
       "3  ID_-0.510_29.290_2019_03     -0.51      29.29  2019        3   \n",
       "4  ID_-0.510_29.290_2019_04     -0.51      29.29  2019        4   \n",
       "\n",
       "   SulphurDioxide_SO2_column_number_density  \\\n",
       "0                                 -0.000108   \n",
       "1                                  0.000021   \n",
       "2                                  0.000514   \n",
       "3                                       NaN   \n",
       "4                                 -0.000079   \n",
       "\n",
       "   SulphurDioxide_SO2_column_number_density_amf  \\\n",
       "0                                      0.603019   \n",
       "1                                      0.728214   \n",
       "2                                      0.748199   \n",
       "3                                           NaN   \n",
       "4                                      0.676296   \n",
       "\n",
       "   SulphurDioxide_SO2_slant_column_number_density  \\\n",
       "0                                       -0.000065   \n",
       "1                                        0.000014   \n",
       "2                                        0.000385   \n",
       "3                                             NaN   \n",
       "4                                       -0.000048   \n",
       "\n",
       "   SulphurDioxide_cloud_fraction  SulphurDioxide_sensor_azimuth_angle  ...  \\\n",
       "0                       0.255668                           -98.593887  ...   \n",
       "1                       0.130988                            16.592861  ...   \n",
       "2                       0.110018                            72.795837  ...   \n",
       "3                            NaN                                  NaN  ...   \n",
       "4                       0.121164                             4.121269  ...   \n",
       "\n",
       "   Cloud_cloud_top_height  Cloud_cloud_base_pressure  Cloud_cloud_base_height  \\\n",
       "0             3664.436218               61085.809570              2615.120483   \n",
       "1             3651.190311               66969.478735              3174.572424   \n",
       "2             4216.986492               60068.894448              3516.282669   \n",
       "3             5228.507736               51064.547339              4180.973322   \n",
       "4             3980.598120               63751.125781              3355.710107   \n",
       "\n",
       "   Cloud_cloud_optical_depth  Cloud_surface_albedo  \\\n",
       "0                  15.568533              0.272292   \n",
       "1                   8.690601              0.256830   \n",
       "2                  21.103410              0.251101   \n",
       "3                  15.386899              0.262043   \n",
       "4                   8.114694              0.235847   \n",
       "\n",
       "   Cloud_sensor_azimuth_angle  Cloud_sensor_zenith_angle  \\\n",
       "0                  -12.628986                  35.632416   \n",
       "1                   30.359375                  39.557633   \n",
       "2                   15.377883                  30.401823   \n",
       "3                  -11.293399                  24.380357   \n",
       "4                   38.532263                  37.392979   \n",
       "\n",
       "   Cloud_solar_azimuth_angle  Cloud_solar_zenith_angle  emission  \n",
       "0                -138.786423                 30.752140  3.750994  \n",
       "1                -145.183930                 27.251779  4.025176  \n",
       "2                -142.519545                 26.193296  4.231381  \n",
       "3                -132.665828                 28.829155  4.305286  \n",
       "4                -141.509805                 22.204612  4.347317  \n",
       "\n",
       "[5 rows x 76 columns]"
      ]
     },
     "execution_count": 5,
     "metadata": {},
     "output_type": "execute_result"
    }
   ],
   "source": [
    "train.head()"
   ]
  },
  {
   "cell_type": "code",
   "execution_count": 6,
   "id": "79c450cf",
   "metadata": {
    "execution": {
     "iopub.execute_input": "2023-08-11T16:54:16.364354Z",
     "iopub.status.busy": "2023-08-11T16:54:16.363905Z",
     "iopub.status.idle": "2023-08-11T16:54:16.74366Z",
     "shell.execute_reply": "2023-08-11T16:54:16.742823Z"
    },
    "papermill": {
     "duration": 0.395358,
     "end_time": "2023-08-11T16:54:16.745483",
     "exception": false,
     "start_time": "2023-08-11T16:54:16.350125",
     "status": "completed"
    },
    "tags": []
   },
   "outputs": [
    {
     "data": {
      "text/html": [
       "<div>\n",
       "<style scoped>\n",
       "    .dataframe tbody tr th:only-of-type {\n",
       "        vertical-align: middle;\n",
       "    }\n",
       "\n",
       "    .dataframe tbody tr th {\n",
       "        vertical-align: top;\n",
       "    }\n",
       "\n",
       "    .dataframe thead th {\n",
       "        text-align: right;\n",
       "    }\n",
       "</style>\n",
       "<table border=\"1\" class=\"dataframe\">\n",
       "  <thead>\n",
       "    <tr style=\"text-align: right;\">\n",
       "      <th></th>\n",
       "      <th>latitude</th>\n",
       "      <th>longitude</th>\n",
       "      <th>year</th>\n",
       "      <th>week_no</th>\n",
       "      <th>SulphurDioxide_SO2_column_number_density</th>\n",
       "      <th>SulphurDioxide_SO2_column_number_density_amf</th>\n",
       "      <th>SulphurDioxide_SO2_slant_column_number_density</th>\n",
       "      <th>SulphurDioxide_cloud_fraction</th>\n",
       "      <th>SulphurDioxide_sensor_azimuth_angle</th>\n",
       "      <th>SulphurDioxide_sensor_zenith_angle</th>\n",
       "      <th>...</th>\n",
       "      <th>Cloud_cloud_top_height</th>\n",
       "      <th>Cloud_cloud_base_pressure</th>\n",
       "      <th>Cloud_cloud_base_height</th>\n",
       "      <th>Cloud_cloud_optical_depth</th>\n",
       "      <th>Cloud_surface_albedo</th>\n",
       "      <th>Cloud_sensor_azimuth_angle</th>\n",
       "      <th>Cloud_sensor_zenith_angle</th>\n",
       "      <th>Cloud_solar_azimuth_angle</th>\n",
       "      <th>Cloud_solar_zenith_angle</th>\n",
       "      <th>emission</th>\n",
       "    </tr>\n",
       "  </thead>\n",
       "  <tbody>\n",
       "    <tr>\n",
       "      <th>count</th>\n",
       "      <td>79023.000000</td>\n",
       "      <td>79023.000000</td>\n",
       "      <td>79023.000000</td>\n",
       "      <td>79023.000000</td>\n",
       "      <td>64414.000000</td>\n",
       "      <td>64414.000000</td>\n",
       "      <td>64414.000000</td>\n",
       "      <td>64414.000000</td>\n",
       "      <td>64414.000000</td>\n",
       "      <td>64414.000000</td>\n",
       "      <td>...</td>\n",
       "      <td>78539.000000</td>\n",
       "      <td>78539.000000</td>\n",
       "      <td>78539.000000</td>\n",
       "      <td>78539.000000</td>\n",
       "      <td>78539.000000</td>\n",
       "      <td>78539.000000</td>\n",
       "      <td>78539.000000</td>\n",
       "      <td>78539.000000</td>\n",
       "      <td>78539.000000</td>\n",
       "      <td>79023.000000</td>\n",
       "    </tr>\n",
       "    <tr>\n",
       "      <th>mean</th>\n",
       "      <td>-1.891072</td>\n",
       "      <td>29.880155</td>\n",
       "      <td>2020.000000</td>\n",
       "      <td>26.000000</td>\n",
       "      <td>0.000048</td>\n",
       "      <td>0.834848</td>\n",
       "      <td>0.000035</td>\n",
       "      <td>0.158418</td>\n",
       "      <td>-7.925870</td>\n",
       "      <td>37.436189</td>\n",
       "      <td>...</td>\n",
       "      <td>5592.377478</td>\n",
       "      <td>59420.297456</td>\n",
       "      <td>4670.430869</td>\n",
       "      <td>19.139241</td>\n",
       "      <td>0.271460</td>\n",
       "      <td>-10.784832</td>\n",
       "      <td>40.436976</td>\n",
       "      <td>-86.800583</td>\n",
       "      <td>27.925981</td>\n",
       "      <td>81.940552</td>\n",
       "    </tr>\n",
       "    <tr>\n",
       "      <th>std</th>\n",
       "      <td>0.694522</td>\n",
       "      <td>0.810375</td>\n",
       "      <td>0.816502</td>\n",
       "      <td>15.297155</td>\n",
       "      <td>0.000272</td>\n",
       "      <td>0.185382</td>\n",
       "      <td>0.000206</td>\n",
       "      <td>0.071364</td>\n",
       "      <td>64.263368</td>\n",
       "      <td>14.149950</td>\n",
       "      <td>...</td>\n",
       "      <td>1428.503002</td>\n",
       "      <td>9051.163609</td>\n",
       "      <td>1359.251583</td>\n",
       "      <td>13.547047</td>\n",
       "      <td>0.049434</td>\n",
       "      <td>30.374462</td>\n",
       "      <td>6.428216</td>\n",
       "      <td>37.837269</td>\n",
       "      <td>4.403835</td>\n",
       "      <td>144.299648</td>\n",
       "    </tr>\n",
       "    <tr>\n",
       "      <th>min</th>\n",
       "      <td>-3.299000</td>\n",
       "      <td>28.228000</td>\n",
       "      <td>2019.000000</td>\n",
       "      <td>0.000000</td>\n",
       "      <td>-0.000996</td>\n",
       "      <td>0.241822</td>\n",
       "      <td>-0.000887</td>\n",
       "      <td>0.000000</td>\n",
       "      <td>-179.537059</td>\n",
       "      <td>0.099237</td>\n",
       "      <td>...</td>\n",
       "      <td>1050.661782</td>\n",
       "      <td>24779.033704</td>\n",
       "      <td>1050.496816</td>\n",
       "      <td>1.844529</td>\n",
       "      <td>0.017697</td>\n",
       "      <td>-102.739731</td>\n",
       "      <td>2.998873</td>\n",
       "      <td>-153.464211</td>\n",
       "      <td>10.818288</td>\n",
       "      <td>0.000000</td>\n",
       "    </tr>\n",
       "    <tr>\n",
       "      <th>25%</th>\n",
       "      <td>-2.451000</td>\n",
       "      <td>29.262000</td>\n",
       "      <td>2019.000000</td>\n",
       "      <td>13.000000</td>\n",
       "      <td>-0.000096</td>\n",
       "      <td>0.705817</td>\n",
       "      <td>-0.000078</td>\n",
       "      <td>0.110535</td>\n",
       "      <td>-56.782383</td>\n",
       "      <td>28.844520</td>\n",
       "      <td>...</td>\n",
       "      <td>4595.400519</td>\n",
       "      <td>53175.779928</td>\n",
       "      <td>3680.856344</td>\n",
       "      <td>9.974574</td>\n",
       "      <td>0.241453</td>\n",
       "      <td>-30.309170</td>\n",
       "      <td>35.829907</td>\n",
       "      <td>-125.991158</td>\n",
       "      <td>24.686763</td>\n",
       "      <td>9.797995</td>\n",
       "    </tr>\n",
       "    <tr>\n",
       "      <th>50%</th>\n",
       "      <td>-1.882000</td>\n",
       "      <td>29.883000</td>\n",
       "      <td>2020.000000</td>\n",
       "      <td>26.000000</td>\n",
       "      <td>0.000024</td>\n",
       "      <td>0.809118</td>\n",
       "      <td>0.000019</td>\n",
       "      <td>0.161855</td>\n",
       "      <td>-12.441726</td>\n",
       "      <td>37.784299</td>\n",
       "      <td>...</td>\n",
       "      <td>5573.854309</td>\n",
       "      <td>59332.532548</td>\n",
       "      <td>4621.755170</td>\n",
       "      <td>15.130688</td>\n",
       "      <td>0.272747</td>\n",
       "      <td>-12.673914</td>\n",
       "      <td>41.119630</td>\n",
       "      <td>-84.644352</td>\n",
       "      <td>28.333630</td>\n",
       "      <td>45.593445</td>\n",
       "    </tr>\n",
       "    <tr>\n",
       "      <th>75%</th>\n",
       "      <td>-1.303000</td>\n",
       "      <td>30.471000</td>\n",
       "      <td>2021.000000</td>\n",
       "      <td>39.000000</td>\n",
       "      <td>0.000153</td>\n",
       "      <td>0.942792</td>\n",
       "      <td>0.000121</td>\n",
       "      <td>0.211824</td>\n",
       "      <td>72.059990</td>\n",
       "      <td>47.634875</td>\n",
       "      <td>...</td>\n",
       "      <td>6542.303642</td>\n",
       "      <td>65663.842684</td>\n",
       "      <td>5572.983223</td>\n",
       "      <td>23.785030</td>\n",
       "      <td>0.302892</td>\n",
       "      <td>9.402202</td>\n",
       "      <td>44.446272</td>\n",
       "      <td>-48.132701</td>\n",
       "      <td>31.499883</td>\n",
       "      <td>109.549595</td>\n",
       "    </tr>\n",
       "    <tr>\n",
       "      <th>max</th>\n",
       "      <td>-0.510000</td>\n",
       "      <td>31.532000</td>\n",
       "      <td>2021.000000</td>\n",
       "      <td>52.000000</td>\n",
       "      <td>0.004191</td>\n",
       "      <td>1.885239</td>\n",
       "      <td>0.004236</td>\n",
       "      <td>0.299998</td>\n",
       "      <td>122.095200</td>\n",
       "      <td>66.242012</td>\n",
       "      <td>...</td>\n",
       "      <td>12384.239458</td>\n",
       "      <td>89291.615576</td>\n",
       "      <td>11384.239458</td>\n",
       "      <td>250.000000</td>\n",
       "      <td>0.736514</td>\n",
       "      <td>78.223037</td>\n",
       "      <td>65.951248</td>\n",
       "      <td>-22.653170</td>\n",
       "      <td>42.060436</td>\n",
       "      <td>3167.768000</td>\n",
       "    </tr>\n",
       "  </tbody>\n",
       "</table>\n",
       "<p>8 rows × 75 columns</p>\n",
       "</div>"
      ],
      "text/plain": [
       "           latitude     longitude          year       week_no  \\\n",
       "count  79023.000000  79023.000000  79023.000000  79023.000000   \n",
       "mean      -1.891072     29.880155   2020.000000     26.000000   \n",
       "std        0.694522      0.810375      0.816502     15.297155   \n",
       "min       -3.299000     28.228000   2019.000000      0.000000   \n",
       "25%       -2.451000     29.262000   2019.000000     13.000000   \n",
       "50%       -1.882000     29.883000   2020.000000     26.000000   \n",
       "75%       -1.303000     30.471000   2021.000000     39.000000   \n",
       "max       -0.510000     31.532000   2021.000000     52.000000   \n",
       "\n",
       "       SulphurDioxide_SO2_column_number_density  \\\n",
       "count                              64414.000000   \n",
       "mean                                   0.000048   \n",
       "std                                    0.000272   \n",
       "min                                   -0.000996   \n",
       "25%                                   -0.000096   \n",
       "50%                                    0.000024   \n",
       "75%                                    0.000153   \n",
       "max                                    0.004191   \n",
       "\n",
       "       SulphurDioxide_SO2_column_number_density_amf  \\\n",
       "count                                  64414.000000   \n",
       "mean                                       0.834848   \n",
       "std                                        0.185382   \n",
       "min                                        0.241822   \n",
       "25%                                        0.705817   \n",
       "50%                                        0.809118   \n",
       "75%                                        0.942792   \n",
       "max                                        1.885239   \n",
       "\n",
       "       SulphurDioxide_SO2_slant_column_number_density  \\\n",
       "count                                    64414.000000   \n",
       "mean                                         0.000035   \n",
       "std                                          0.000206   \n",
       "min                                         -0.000887   \n",
       "25%                                         -0.000078   \n",
       "50%                                          0.000019   \n",
       "75%                                          0.000121   \n",
       "max                                          0.004236   \n",
       "\n",
       "       SulphurDioxide_cloud_fraction  SulphurDioxide_sensor_azimuth_angle  \\\n",
       "count                   64414.000000                         64414.000000   \n",
       "mean                        0.158418                            -7.925870   \n",
       "std                         0.071364                            64.263368   \n",
       "min                         0.000000                          -179.537059   \n",
       "25%                         0.110535                           -56.782383   \n",
       "50%                         0.161855                           -12.441726   \n",
       "75%                         0.211824                            72.059990   \n",
       "max                         0.299998                           122.095200   \n",
       "\n",
       "       SulphurDioxide_sensor_zenith_angle  ...  Cloud_cloud_top_height  \\\n",
       "count                        64414.000000  ...            78539.000000   \n",
       "mean                            37.436189  ...             5592.377478   \n",
       "std                             14.149950  ...             1428.503002   \n",
       "min                              0.099237  ...             1050.661782   \n",
       "25%                             28.844520  ...             4595.400519   \n",
       "50%                             37.784299  ...             5573.854309   \n",
       "75%                             47.634875  ...             6542.303642   \n",
       "max                             66.242012  ...            12384.239458   \n",
       "\n",
       "       Cloud_cloud_base_pressure  Cloud_cloud_base_height  \\\n",
       "count               78539.000000             78539.000000   \n",
       "mean                59420.297456              4670.430869   \n",
       "std                  9051.163609              1359.251583   \n",
       "min                 24779.033704              1050.496816   \n",
       "25%                 53175.779928              3680.856344   \n",
       "50%                 59332.532548              4621.755170   \n",
       "75%                 65663.842684              5572.983223   \n",
       "max                 89291.615576             11384.239458   \n",
       "\n",
       "       Cloud_cloud_optical_depth  Cloud_surface_albedo  \\\n",
       "count               78539.000000          78539.000000   \n",
       "mean                   19.139241              0.271460   \n",
       "std                    13.547047              0.049434   \n",
       "min                     1.844529              0.017697   \n",
       "25%                     9.974574              0.241453   \n",
       "50%                    15.130688              0.272747   \n",
       "75%                    23.785030              0.302892   \n",
       "max                   250.000000              0.736514   \n",
       "\n",
       "       Cloud_sensor_azimuth_angle  Cloud_sensor_zenith_angle  \\\n",
       "count                78539.000000               78539.000000   \n",
       "mean                   -10.784832                  40.436976   \n",
       "std                     30.374462                   6.428216   \n",
       "min                   -102.739731                   2.998873   \n",
       "25%                    -30.309170                  35.829907   \n",
       "50%                    -12.673914                  41.119630   \n",
       "75%                      9.402202                  44.446272   \n",
       "max                     78.223037                  65.951248   \n",
       "\n",
       "       Cloud_solar_azimuth_angle  Cloud_solar_zenith_angle      emission  \n",
       "count               78539.000000              78539.000000  79023.000000  \n",
       "mean                  -86.800583                 27.925981     81.940552  \n",
       "std                    37.837269                  4.403835    144.299648  \n",
       "min                  -153.464211                 10.818288      0.000000  \n",
       "25%                  -125.991158                 24.686763      9.797995  \n",
       "50%                   -84.644352                 28.333630     45.593445  \n",
       "75%                   -48.132701                 31.499883    109.549595  \n",
       "max                   -22.653170                 42.060436   3167.768000  \n",
       "\n",
       "[8 rows x 75 columns]"
      ]
     },
     "execution_count": 6,
     "metadata": {},
     "output_type": "execute_result"
    }
   ],
   "source": [
    "train.describe()"
   ]
  },
  {
   "cell_type": "code",
   "execution_count": 7,
   "id": "f63b55f2",
   "metadata": {
    "execution": {
     "iopub.execute_input": "2023-08-11T16:54:16.772142Z",
     "iopub.status.busy": "2023-08-11T16:54:16.77183Z",
     "iopub.status.idle": "2023-08-11T16:54:16.780571Z",
     "shell.execute_reply": "2023-08-11T16:54:16.779688Z"
    },
    "papermill": {
     "duration": 0.02495,
     "end_time": "2023-08-11T16:54:16.78306",
     "exception": false,
     "start_time": "2023-08-11T16:54:16.75811",
     "status": "completed"
    },
    "tags": []
   },
   "outputs": [
    {
     "data": {
      "text/plain": [
       "2019    26341\n",
       "2020    26341\n",
       "2021    26341\n",
       "Name: year, dtype: int64"
      ]
     },
     "execution_count": 7,
     "metadata": {},
     "output_type": "execute_result"
    }
   ],
   "source": [
    "train['year'].value_counts()"
   ]
  },
  {
   "cell_type": "code",
   "execution_count": 8,
   "id": "2ca3ef2a",
   "metadata": {
    "execution": {
     "iopub.execute_input": "2023-08-11T16:54:16.81001Z",
     "iopub.status.busy": "2023-08-11T16:54:16.809643Z",
     "iopub.status.idle": "2023-08-11T16:54:17.084632Z",
     "shell.execute_reply": "2023-08-11T16:54:17.083428Z"
    },
    "papermill": {
     "duration": 0.290974,
     "end_time": "2023-08-11T16:54:17.086836",
     "exception": false,
     "start_time": "2023-08-11T16:54:16.795862",
     "status": "completed"
    },
    "tags": []
   },
   "outputs": [
    {
     "data": {
      "text/plain": [
       "[<matplotlib.lines.Line2D at 0x784ea4b63c70>]"
      ]
     },
     "execution_count": 8,
     "metadata": {},
     "output_type": "execute_result"
    },
    {
     "data": {
      "image/png": "[encoded data removed]",
      "text/plain": [
       "<Figure size 1000x400 with 1 Axes>"
      ]
     },
     "metadata": {},
     "output_type": "display_data"
    }
   ],
   "source": [
    "import matplotlib.pyplot as plt\n",
    "plt.figure(figsize=(10,4))\n",
    "plt.xlabel(\"Year\")\n",
    "plt.ylabel(\"Week\")\n",
    "plt.plot(train['emission'])"
   ]
  },
  {
   "cell_type": "markdown",
   "id": "cbe9f437",
   "metadata": {
    "papermill": {
     "duration": 0.012353,
     "end_time": "2023-08-11T16:54:17.112432",
     "exception": false,
     "start_time": "2023-08-11T16:54:17.100079",
     "status": "completed"
    },
    "tags": []
   },
   "source": [
    "# **Moving average**"
   ]
  },
  {
   "cell_type": "code",
   "execution_count": 9,
   "id": "b3069506",
   "metadata": {
    "execution": {
     "iopub.execute_input": "2023-08-11T16:54:17.139359Z",
     "iopub.status.busy": "2023-08-11T16:54:17.139Z",
     "iopub.status.idle": "2023-08-11T16:54:17.149804Z",
     "shell.execute_reply": "2023-08-11T16:54:17.148824Z"
    },
    "papermill": {
     "duration": 0.027078,
     "end_time": "2023-08-11T16:54:17.151973",
     "exception": false,
     "start_time": "2023-08-11T16:54:17.124895",
     "status": "completed"
    },
    "tags": []
   },
   "outputs": [],
   "source": [
    "train['mavg12'] = train['emission'].rolling(window=12).mean().shift(1) "
   ]
  },
  {
   "cell_type": "code",
   "execution_count": 10,
   "id": "bca37764",
   "metadata": {
    "execution": {
     "iopub.execute_input": "2023-08-11T16:54:17.179148Z",
     "iopub.status.busy": "2023-08-11T16:54:17.17878Z",
     "iopub.status.idle": "2023-08-11T16:54:17.204607Z",
     "shell.execute_reply": "2023-08-11T16:54:17.203352Z"
    },
    "papermill": {
     "duration": 0.041731,
     "end_time": "2023-08-11T16:54:17.206602",
     "exception": false,
     "start_time": "2023-08-11T16:54:17.164871",
     "status": "completed"
    },
    "tags": []
   },
   "outputs": [
    {
     "data": {
      "text/html": [
       "<div>\n",
       "<style scoped>\n",
       "    .dataframe tbody tr th:only-of-type {\n",
       "        vertical-align: middle;\n",
       "    }\n",
       "\n",
       "    .dataframe tbody tr th {\n",
       "        vertical-align: top;\n",
       "    }\n",
       "\n",
       "    .dataframe thead th {\n",
       "        text-align: right;\n",
       "    }\n",
       "</style>\n",
       "<table border=\"1\" class=\"dataframe\">\n",
       "  <thead>\n",
       "    <tr style=\"text-align: right;\">\n",
       "      <th></th>\n",
       "      <th>emission</th>\n",
       "      <th>mavg12</th>\n",
       "    </tr>\n",
       "  </thead>\n",
       "  <tbody>\n",
       "    <tr>\n",
       "      <th>0</th>\n",
       "      <td>3.75</td>\n",
       "      <td>NaN</td>\n",
       "    </tr>\n",
       "    <tr>\n",
       "      <th>1</th>\n",
       "      <td>4.03</td>\n",
       "      <td>NaN</td>\n",
       "    </tr>\n",
       "    <tr>\n",
       "      <th>2</th>\n",
       "      <td>4.23</td>\n",
       "      <td>NaN</td>\n",
       "    </tr>\n",
       "    <tr>\n",
       "      <th>3</th>\n",
       "      <td>4.31</td>\n",
       "      <td>NaN</td>\n",
       "    </tr>\n",
       "    <tr>\n",
       "      <th>4</th>\n",
       "      <td>4.35</td>\n",
       "      <td>NaN</td>\n",
       "    </tr>\n",
       "    <tr>\n",
       "      <th>...</th>\n",
       "      <td>...</td>\n",
       "      <td>...</td>\n",
       "    </tr>\n",
       "    <tr>\n",
       "      <th>79018</th>\n",
       "      <td>29.40</td>\n",
       "      <td>29.63</td>\n",
       "    </tr>\n",
       "    <tr>\n",
       "      <th>79019</th>\n",
       "      <td>29.19</td>\n",
       "      <td>29.63</td>\n",
       "    </tr>\n",
       "    <tr>\n",
       "      <th>79020</th>\n",
       "      <td>29.13</td>\n",
       "      <td>29.54</td>\n",
       "    </tr>\n",
       "    <tr>\n",
       "      <th>79021</th>\n",
       "      <td>28.13</td>\n",
       "      <td>29.42</td>\n",
       "    </tr>\n",
       "    <tr>\n",
       "      <th>79022</th>\n",
       "      <td>27.24</td>\n",
       "      <td>29.37</td>\n",
       "    </tr>\n",
       "  </tbody>\n",
       "</table>\n",
       "<p>79023 rows × 2 columns</p>\n",
       "</div>"
      ],
      "text/plain": [
       "       emission  mavg12\n",
       "0          3.75     NaN\n",
       "1          4.03     NaN\n",
       "2          4.23     NaN\n",
       "3          4.31     NaN\n",
       "4          4.35     NaN\n",
       "...         ...     ...\n",
       "79018     29.40   29.63\n",
       "79019     29.19   29.63\n",
       "79020     29.13   29.54\n",
       "79021     28.13   29.42\n",
       "79022     27.24   29.37\n",
       "\n",
       "[79023 rows x 2 columns]"
      ]
     },
     "execution_count": 10,
     "metadata": {},
     "output_type": "execute_result"
    }
   ],
   "source": [
    "pd.set_option('display.float_format', lambda x: '%.2f' % x) \n",
    "train[['emission', 'mavg12']][0:] "
   ]
  },
  {
   "cell_type": "code",
   "execution_count": 11,
   "id": "5b2ce073",
   "metadata": {
    "execution": {
     "iopub.execute_input": "2023-08-11T16:54:17.234963Z",
     "iopub.status.busy": "2023-08-11T16:54:17.234609Z",
     "iopub.status.idle": "2023-08-11T16:54:17.691988Z",
     "shell.execute_reply": "2023-08-11T16:54:17.69081Z"
    },
    "papermill": {
     "duration": 0.474181,
     "end_time": "2023-08-11T16:54:17.694176",
     "exception": false,
     "start_time": "2023-08-11T16:54:17.219995",
     "status": "completed"
    },
    "tags": []
   },
   "outputs": [
    {
     "data": {
      "text/plain": [
       "<matplotlib.legend.Legend at 0x784ea496dd50>"
      ]
     },
     "execution_count": 11,
     "metadata": {},
     "output_type": "execute_result"
    },
    {
     "data": {
      "image/png": "[encoded data removed]",
      "text/plain": [
       "<Figure size 1000x400 with 1 Axes>"
      ]
     },
     "metadata": {},
     "output_type": "display_data"
    }
   ],
   "source": [
    "plt.figure( figsize=(10,4)) \n",
    "plt.xlabel( \"Year\" ) \n",
    "plt.ylabel( \"Week\" ) \n",
    "plt.plot( train['emission'][12:] ); \n",
    "plt.plot( train['mavg12'][12:], '.' ); \n",
    "plt.legend()"
   ]
  },
  {
   "cell_type": "code",
   "execution_count": 12,
   "id": "b98badaf",
   "metadata": {
    "execution": {
     "iopub.execute_input": "2023-08-11T16:54:17.723626Z",
     "iopub.status.busy": "2023-08-11T16:54:17.723277Z",
     "iopub.status.idle": "2023-08-11T16:54:17.730159Z",
     "shell.execute_reply": "2023-08-11T16:54:17.728176Z"
    },
    "papermill": {
     "duration": 0.024677,
     "end_time": "2023-08-11T16:54:17.732771",
     "exception": false,
     "start_time": "2023-08-11T16:54:17.708094",
     "status": "completed"
    },
    "tags": []
   },
   "outputs": [],
   "source": [
    "def get_mape(actual , predicted):\n",
    "    y_true , y_pred = np.array(actual) , np.array(predicted)\n",
    "    return np.round(np.mean(np.abs((actual - predicted)/(actual+1)))*100 , 2)"
   ]
  },
  {
   "cell_type": "code",
   "execution_count": 13,
   "id": "0c11e890",
   "metadata": {
    "execution": {
     "iopub.execute_input": "2023-08-11T16:54:17.762522Z",
     "iopub.status.busy": "2023-08-11T16:54:17.762186Z",
     "iopub.status.idle": "2023-08-11T16:54:17.76987Z",
     "shell.execute_reply": "2023-08-11T16:54:17.769093Z"
    },
    "papermill": {
     "duration": 0.024921,
     "end_time": "2023-08-11T16:54:17.77165",
     "exception": false,
     "start_time": "2023-08-11T16:54:17.746729",
     "status": "completed"
    },
    "tags": []
   },
   "outputs": [
    {
     "data": {
      "text/plain": [
       "60.56"
      ]
     },
     "execution_count": 13,
     "metadata": {},
     "output_type": "execute_result"
    }
   ],
   "source": [
    "get_mape(train['emission'][36:].values , train['mavg12'][36:].values)"
   ]
  },
  {
   "cell_type": "code",
   "execution_count": 14,
   "id": "3f006b31",
   "metadata": {
    "execution": {
     "iopub.execute_input": "2023-08-11T16:54:17.800461Z",
     "iopub.status.busy": "2023-08-11T16:54:17.800139Z",
     "iopub.status.idle": "2023-08-11T16:54:18.997867Z",
     "shell.execute_reply": "2023-08-11T16:54:18.996065Z"
    },
    "papermill": {
     "duration": 1.215039,
     "end_time": "2023-08-11T16:54:19.000501",
     "exception": false,
     "start_time": "2023-08-11T16:54:17.785462",
     "status": "completed"
    },
    "tags": []
   },
   "outputs": [
    {
     "name": "stderr",
     "output_type": "stream",
     "text": [
      "/opt/conda/lib/python3.10/site-packages/scipy/__init__.py:146: UserWarning: A NumPy version >=1.16.5 and <1.23.0 is required for this version of SciPy (detected version 1.23.5\n",
      "  warnings.warn(f\"A NumPy version >={np_minversion} and <{np_maxversion}\"\n"
     ]
    },
    {
     "data": {
      "text/plain": [
       "57.15238785923444"
      ]
     },
     "execution_count": 14,
     "metadata": {},
     "output_type": "execute_result"
    }
   ],
   "source": [
    "from sklearn.metrics import mean_squared_error\n",
    "np.sqrt(mean_squared_error(train['emission'][36:].values , train['mavg12'][36:].values))"
   ]
  },
  {
   "cell_type": "markdown",
   "id": "65c1d6e7",
   "metadata": {
    "papermill": {
     "duration": 0.013843,
     "end_time": "2023-08-11T16:54:19.028398",
     "exception": false,
     "start_time": "2023-08-11T16:54:19.014555",
     "status": "completed"
    },
    "tags": []
   },
   "source": [
    "# **Exponential Smoothing**"
   ]
  },
  {
   "cell_type": "code",
   "execution_count": 15,
   "id": "e234c4be",
   "metadata": {
    "execution": {
     "iopub.execute_input": "2023-08-11T16:54:19.058768Z",
     "iopub.status.busy": "2023-08-11T16:54:19.058416Z",
     "iopub.status.idle": "2023-08-11T16:54:19.071197Z",
     "shell.execute_reply": "2023-08-11T16:54:19.069398Z"
    },
    "papermill": {
     "duration": 0.03066,
     "end_time": "2023-08-11T16:54:19.073957",
     "exception": false,
     "start_time": "2023-08-11T16:54:19.043297",
     "status": "completed"
    },
    "tags": []
   },
   "outputs": [],
   "source": [
    "train['ewm'] = train['emission'].ewm(alpha = 0.2).mean()"
   ]
  },
  {
   "cell_type": "code",
   "execution_count": 16,
   "id": "03b5c1c7",
   "metadata": {
    "execution": {
     "iopub.execute_input": "2023-08-11T16:54:19.103819Z",
     "iopub.status.busy": "2023-08-11T16:54:19.103462Z",
     "iopub.status.idle": "2023-08-11T16:54:19.129881Z",
     "shell.execute_reply": "2023-08-11T16:54:19.128997Z"
    },
    "papermill": {
     "duration": 0.043622,
     "end_time": "2023-08-11T16:54:19.131867",
     "exception": false,
     "start_time": "2023-08-11T16:54:19.088245",
     "status": "completed"
    },
    "tags": []
   },
   "outputs": [
    {
     "data": {
      "text/html": [
       "<div>\n",
       "<style scoped>\n",
       "    .dataframe tbody tr th:only-of-type {\n",
       "        vertical-align: middle;\n",
       "    }\n",
       "\n",
       "    .dataframe tbody tr th {\n",
       "        vertical-align: top;\n",
       "    }\n",
       "\n",
       "    .dataframe thead th {\n",
       "        text-align: right;\n",
       "    }\n",
       "</style>\n",
       "<table border=\"1\" class=\"dataframe\">\n",
       "  <thead>\n",
       "    <tr style=\"text-align: right;\">\n",
       "      <th></th>\n",
       "      <th>emission</th>\n",
       "      <th>ewm</th>\n",
       "    </tr>\n",
       "  </thead>\n",
       "  <tbody>\n",
       "    <tr>\n",
       "      <th>0</th>\n",
       "      <td>3.75</td>\n",
       "      <td>3.75</td>\n",
       "    </tr>\n",
       "    <tr>\n",
       "      <th>1</th>\n",
       "      <td>4.03</td>\n",
       "      <td>3.90</td>\n",
       "    </tr>\n",
       "    <tr>\n",
       "      <th>2</th>\n",
       "      <td>4.23</td>\n",
       "      <td>4.04</td>\n",
       "    </tr>\n",
       "    <tr>\n",
       "      <th>3</th>\n",
       "      <td>4.31</td>\n",
       "      <td>4.13</td>\n",
       "    </tr>\n",
       "    <tr>\n",
       "      <th>4</th>\n",
       "      <td>4.35</td>\n",
       "      <td>4.19</td>\n",
       "    </tr>\n",
       "    <tr>\n",
       "      <th>...</th>\n",
       "      <td>...</td>\n",
       "      <td>...</td>\n",
       "    </tr>\n",
       "    <tr>\n",
       "      <th>79018</th>\n",
       "      <td>29.40</td>\n",
       "      <td>29.52</td>\n",
       "    </tr>\n",
       "    <tr>\n",
       "      <th>79019</th>\n",
       "      <td>29.19</td>\n",
       "      <td>29.45</td>\n",
       "    </tr>\n",
       "    <tr>\n",
       "      <th>79020</th>\n",
       "      <td>29.13</td>\n",
       "      <td>29.39</td>\n",
       "    </tr>\n",
       "    <tr>\n",
       "      <th>79021</th>\n",
       "      <td>28.13</td>\n",
       "      <td>29.14</td>\n",
       "    </tr>\n",
       "    <tr>\n",
       "      <th>79022</th>\n",
       "      <td>27.24</td>\n",
       "      <td>28.76</td>\n",
       "    </tr>\n",
       "  </tbody>\n",
       "</table>\n",
       "<p>79023 rows × 2 columns</p>\n",
       "</div>"
      ],
      "text/plain": [
       "       emission   ewm\n",
       "0          3.75  3.75\n",
       "1          4.03  3.90\n",
       "2          4.23  4.04\n",
       "3          4.31  4.13\n",
       "4          4.35  4.19\n",
       "...         ...   ...\n",
       "79018     29.40 29.52\n",
       "79019     29.19 29.45\n",
       "79020     29.13 29.39\n",
       "79021     28.13 29.14\n",
       "79022     27.24 28.76\n",
       "\n",
       "[79023 rows x 2 columns]"
      ]
     },
     "execution_count": 16,
     "metadata": {},
     "output_type": "execute_result"
    }
   ],
   "source": [
    "pd.set_option('display.float_format', lambda x: '%.2f' % x) \n",
    "train[['emission', 'ewm']][0:] "
   ]
  },
  {
   "cell_type": "code",
   "execution_count": 17,
   "id": "0c0772a1",
   "metadata": {
    "execution": {
     "iopub.execute_input": "2023-08-11T16:54:19.161002Z",
     "iopub.status.busy": "2023-08-11T16:54:19.160673Z",
     "iopub.status.idle": "2023-08-11T16:54:19.618283Z",
     "shell.execute_reply": "2023-08-11T16:54:19.617449Z"
    },
    "papermill": {
     "duration": 0.474339,
     "end_time": "2023-08-11T16:54:19.620095",
     "exception": false,
     "start_time": "2023-08-11T16:54:19.145756",
     "status": "completed"
    },
    "tags": []
   },
   "outputs": [
    {
     "data": {
      "text/plain": [
       "<matplotlib.legend.Legend at 0x784e88ab47c0>"
      ]
     },
     "execution_count": 17,
     "metadata": {},
     "output_type": "execute_result"
    },
    {
     "data": {
      "image/png": "[encoded data removed]",
      "text/plain": [
       "<Figure size 1000x400 with 1 Axes>"
      ]
     },
     "metadata": {},
     "output_type": "display_data"
    }
   ],
   "source": [
    "plt.figure( figsize=(10,4)) \n",
    "plt.xlabel( \"Year\" ) \n",
    "plt.ylabel( \"Week\" ) \n",
    "plt.plot( train['emission'][0:] ); \n",
    "plt.plot( train['ewm'][0:], '.' ); \n",
    "plt.legend()"
   ]
  },
  {
   "cell_type": "code",
   "execution_count": 18,
   "id": "85a09b9f",
   "metadata": {
    "execution": {
     "iopub.execute_input": "2023-08-11T16:54:19.652106Z",
     "iopub.status.busy": "2023-08-11T16:54:19.651749Z",
     "iopub.status.idle": "2023-08-11T16:54:19.660603Z",
     "shell.execute_reply": "2023-08-11T16:54:19.659234Z"
    },
    "papermill": {
     "duration": 0.027772,
     "end_time": "2023-08-11T16:54:19.66258",
     "exception": false,
     "start_time": "2023-08-11T16:54:19.634808",
     "status": "completed"
    },
    "tags": []
   },
   "outputs": [
    {
     "data": {
      "text/plain": [
       "37.11"
      ]
     },
     "execution_count": 18,
     "metadata": {},
     "output_type": "execute_result"
    }
   ],
   "source": [
    "get_mape(train['emission'][1:].values , train['ewm'][1:].values)"
   ]
  },
  {
   "cell_type": "code",
   "execution_count": 19,
   "id": "3382fa61",
   "metadata": {
    "execution": {
     "iopub.execute_input": "2023-08-11T16:54:19.694248Z",
     "iopub.status.busy": "2023-08-11T16:54:19.693165Z",
     "iopub.status.idle": "2023-08-11T16:54:19.700846Z",
     "shell.execute_reply": "2023-08-11T16:54:19.699801Z"
    },
    "papermill": {
     "duration": 0.025057,
     "end_time": "2023-08-11T16:54:19.702774",
     "exception": false,
     "start_time": "2023-08-11T16:54:19.677717",
     "status": "completed"
    },
    "tags": []
   },
   "outputs": [
    {
     "data": {
      "text/plain": [
       "36.264506358315224"
      ]
     },
     "execution_count": 19,
     "metadata": {},
     "output_type": "execute_result"
    }
   ],
   "source": [
    "np.sqrt(mean_squared_error(train['emission'][1:].values , train['ewm'][1:].values))"
   ]
  },
  {
   "cell_type": "markdown",
   "id": "19bfc3b0",
   "metadata": {
    "papermill": {
     "duration": 0.015328,
     "end_time": "2023-08-11T16:54:19.732753",
     "exception": false,
     "start_time": "2023-08-11T16:54:19.717425",
     "status": "completed"
    },
    "tags": []
   },
   "source": [
    "# **Auto-Regressive (AR) Models**"
   ]
  },
  {
   "cell_type": "markdown",
   "id": "3a183db9",
   "metadata": {
    "papermill": {
     "duration": 0.014693,
     "end_time": "2023-08-11T16:54:19.762351",
     "exception": false,
     "start_time": "2023-08-11T16:54:19.747658",
     "status": "completed"
    },
    "tags": []
   },
   "source": [
    "# **ARIMA**"
   ]
  },
  {
   "cell_type": "code",
   "execution_count": 20,
   "id": "dafbda32",
   "metadata": {
    "execution": {
     "iopub.execute_input": "2023-08-11T16:54:19.793752Z",
     "iopub.status.busy": "2023-08-11T16:54:19.793398Z",
     "iopub.status.idle": "2023-08-11T16:54:22.672144Z",
     "shell.execute_reply": "2023-08-11T16:54:22.671283Z"
    },
    "papermill": {
     "duration": 2.896974,
     "end_time": "2023-08-11T16:54:22.674045",
     "exception": false,
     "start_time": "2023-08-11T16:54:19.777071",
     "status": "completed"
    },
    "tags": []
   },
   "outputs": [
    {
     "data": {
      "text/html": [
       "<table class=\"simpletable\">\n",
       "<caption>SARIMAX Results</caption>\n",
       "<tr>\n",
       "  <th>Dep. Variable:</th>       <td>emission</td>     <th>  No. Observations:  </th>    <td>79023</td>   \n",
       "</tr>\n",
       "<tr>\n",
       "  <th>Model:</th>            <td>ARIMA(1, 0, 0)</td>  <th>  Log Likelihood     </th> <td>-380607.108</td>\n",
       "</tr>\n",
       "<tr>\n",
       "  <th>Date:</th>            <td>Fri, 11 Aug 2023</td> <th>  AIC                </th> <td>761220.217</td> \n",
       "</tr>\n",
       "<tr>\n",
       "  <th>Time:</th>                <td>16:54:21</td>     <th>  BIC                </th> <td>761248.049</td> \n",
       "</tr>\n",
       "<tr>\n",
       "  <th>Sample:</th>                  <td>0</td>        <th>  HQIC               </th> <td>761228.753</td> \n",
       "</tr>\n",
       "<tr>\n",
       "  <th></th>                     <td> - 79023</td>     <th>                     </th>      <td> </td>     \n",
       "</tr>\n",
       "<tr>\n",
       "  <th>Covariance Type:</th>        <td>opg</td>       <th>                     </th>      <td> </td>     \n",
       "</tr>\n",
       "</table>\n",
       "<table class=\"simpletable\">\n",
       "<tr>\n",
       "     <td></td>       <th>coef</th>     <th>std err</th>      <th>z</th>      <th>P>|z|</th>  <th>[0.025</th>    <th>0.975]</th>  \n",
       "</tr>\n",
       "<tr>\n",
       "  <th>const</th>  <td>   81.9406</td> <td>    7.446</td> <td>   11.005</td> <td> 0.000</td> <td>   67.347</td> <td>   96.534</td>\n",
       "</tr>\n",
       "<tr>\n",
       "  <th>ar.L1</th>  <td>    0.9783</td> <td>    0.000</td> <td> 7032.072</td> <td> 0.000</td> <td>    0.978</td> <td>    0.979</td>\n",
       "</tr>\n",
       "<tr>\n",
       "  <th>sigma2</th> <td>  893.2893</td> <td>    0.184</td> <td> 4867.497</td> <td> 0.000</td> <td>  892.930</td> <td>  893.649</td>\n",
       "</tr>\n",
       "</table>\n",
       "<table class=\"simpletable\">\n",
       "<tr>\n",
       "  <th>Ljung-Box (L1) (Q):</th>     <td>1.43</td> <th>  Jarque-Bera (JB):  </th> <td>20633062797.00</td>\n",
       "</tr>\n",
       "<tr>\n",
       "  <th>Prob(Q):</th>                <td>0.23</td> <th>  Prob(JB):          </th>      <td>0.00</td>     \n",
       "</tr>\n",
       "<tr>\n",
       "  <th>Heteroskedasticity (H):</th> <td>2.46</td> <th>  Skew:              </th>      <td>4.01</td>     \n",
       "</tr>\n",
       "<tr>\n",
       "  <th>Prob(H) (two-sided):</th>    <td>0.00</td> <th>  Kurtosis:          </th>     <td>2506.27</td>   \n",
       "</tr>\n",
       "</table><br/><br/>Warnings:<br/>[1] Covariance matrix calculated using the outer product of gradients (complex-step)."
      ],
      "text/latex": [
       "\\begin{center}\n",
       "\\begin{tabular}{lclc}\n",
       "\\toprule\n",
       "\\textbf{Dep. Variable:}          &     emission     & \\textbf{  No. Observations:  } &     79023       \\\\\n",
       "\\textbf{Model:}                  &  ARIMA(1, 0, 0)  & \\textbf{  Log Likelihood     } &  -380607.108    \\\\\n",
       "\\textbf{Date:}                   & Fri, 11 Aug 2023 & \\textbf{  AIC                } &   761220.217    \\\\\n",
       "\\textbf{Time:}                   &     16:54:21     & \\textbf{  BIC                } &   761248.049    \\\\\n",
       "\\textbf{Sample:}                 &        0         & \\textbf{  HQIC               } &   761228.753    \\\\\n",
       "\\textbf{}                        &      - 79023     & \\textbf{                     } &                 \\\\\n",
       "\\textbf{Covariance Type:}        &       opg        & \\textbf{                     } &                 \\\\\n",
       "\\bottomrule\n",
       "\\end{tabular}\n",
       "\\begin{tabular}{lcccccc}\n",
       "                & \\textbf{coef} & \\textbf{std err} & \\textbf{z} & \\textbf{P$> |$z$|$} & \\textbf{[0.025} & \\textbf{0.975]}  \\\\\n",
       "\\midrule\n",
       "\\textbf{const}  &      81.9406  &        7.446     &    11.005  &         0.000        &       67.347    &       96.534     \\\\\n",
       "\\textbf{ar.L1}  &       0.9783  &        0.000     &  7032.072  &         0.000        &        0.978    &        0.979     \\\\\n",
       "\\textbf{sigma2} &     893.2893  &        0.184     &  4867.497  &         0.000        &      892.930    &      893.649     \\\\\n",
       "\\bottomrule\n",
       "\\end{tabular}\n",
       "\\begin{tabular}{lclc}\n",
       "\\textbf{Ljung-Box (L1) (Q):}     & 1.43 & \\textbf{  Jarque-Bera (JB):  } & 20633062797.00  \\\\\n",
       "\\textbf{Prob(Q):}                & 0.23 & \\textbf{  Prob(JB):          } &      0.00       \\\\\n",
       "\\textbf{Heteroskedasticity (H):} & 2.46 & \\textbf{  Skew:              } &      4.01       \\\\\n",
       "\\textbf{Prob(H) (two-sided):}    & 0.00 & \\textbf{  Kurtosis:          } &    2506.27      \\\\\n",
       "\\bottomrule\n",
       "\\end{tabular}\n",
       "%\\caption{SARIMAX Results}\n",
       "\\end{center}\n",
       "\n",
       "Warnings: \\newline\n",
       " [1] Covariance matrix calculated using the outer product of gradients (complex-step)."
      ],
      "text/plain": [
       "<class 'statsmodels.iolib.summary.Summary'>\n",
       "\"\"\"\n",
       "                               SARIMAX Results                                \n",
       "==============================================================================\n",
       "Dep. Variable:               emission   No. Observations:                79023\n",
       "Model:                 ARIMA(1, 0, 0)   Log Likelihood             -380607.108\n",
       "Date:                Fri, 11 Aug 2023   AIC                         761220.217\n",
       "Time:                        16:54:21   BIC                         761248.049\n",
       "Sample:                             0   HQIC                        761228.753\n",
       "                              - 79023                                         \n",
       "Covariance Type:                  opg                                         \n",
       "==============================================================================\n",
       "                 coef    std err          z      P>|z|      [0.025      0.975]\n",
       "------------------------------------------------------------------------------\n",
       "const         81.9406      7.446     11.005      0.000      67.347      96.534\n",
       "ar.L1          0.9783      0.000   7032.072      0.000       0.978       0.979\n",
       "sigma2       893.2893      0.184   4867.497      0.000     892.930     893.649\n",
       "===================================================================================\n",
       "Ljung-Box (L1) (Q):                   1.43   Jarque-Bera (JB):       20633062797.00\n",
       "Prob(Q):                              0.23   Prob(JB):                         0.00\n",
       "Heteroskedasticity (H):               2.46   Skew:                             4.01\n",
       "Prob(H) (two-sided):                  0.00   Kurtosis:                      2506.27\n",
       "===================================================================================\n",
       "\n",
       "Warnings:\n",
       "[1] Covariance matrix calculated using the outer product of gradients (complex-step).\n",
       "\"\"\""
      ]
     },
     "execution_count": 20,
     "metadata": {},
     "output_type": "execute_result"
    }
   ],
   "source": [
    "from statsmodels.tsa.arima.model import ARIMA\n",
    "\n",
    "ar_model=ARIMA(train.emission,order=(1,0,0)).fit()\n",
    "ar_model.summary()"
   ]
  },
  {
   "cell_type": "code",
   "execution_count": 21,
   "id": "545ee33e",
   "metadata": {
    "execution": {
     "iopub.execute_input": "2023-08-11T16:54:22.714951Z",
     "iopub.status.busy": "2023-08-11T16:54:22.71462Z",
     "iopub.status.idle": "2023-08-11T16:54:22.727048Z",
     "shell.execute_reply": "2023-08-11T16:54:22.726293Z"
    },
    "papermill": {
     "duration": 0.035347,
     "end_time": "2023-08-11T16:54:22.728915",
     "exception": false,
     "start_time": "2023-08-11T16:54:22.693568",
     "status": "completed"
    },
    "tags": []
   },
   "outputs": [
    {
     "data": {
      "text/plain": [
       "0       81.94\n",
       "1        5.45\n",
       "2        5.71\n",
       "3        5.92\n",
       "4        5.99\n",
       "         ... \n",
       "79019   30.54\n",
       "79020   30.33\n",
       "79021   30.28\n",
       "79022   29.29\n",
       "79023   28.43\n",
       "Name: predicted_mean, Length: 79024, dtype: float64"
      ]
     },
     "execution_count": 21,
     "metadata": {},
     "output_type": "execute_result"
    }
   ],
   "source": [
    "forecast = ar_model.predict(0,79023)\n",
    "forecast"
   ]
  },
  {
   "cell_type": "code",
   "execution_count": 22,
   "id": "879cd6e2",
   "metadata": {
    "execution": {
     "iopub.execute_input": "2023-08-11T16:54:22.770077Z",
     "iopub.status.busy": "2023-08-11T16:54:22.769737Z",
     "iopub.status.idle": "2023-08-11T16:54:22.775777Z",
     "shell.execute_reply": "2023-08-11T16:54:22.774934Z"
    },
    "papermill": {
     "duration": 0.028545,
     "end_time": "2023-08-11T16:54:22.777584",
     "exception": false,
     "start_time": "2023-08-11T16:54:22.749039",
     "status": "completed"
    },
    "tags": []
   },
   "outputs": [],
   "source": [
    "train['ar'] = forecast"
   ]
  },
  {
   "cell_type": "code",
   "execution_count": 23,
   "id": "aa763db0",
   "metadata": {
    "execution": {
     "iopub.execute_input": "2023-08-11T16:54:22.817778Z",
     "iopub.status.busy": "2023-08-11T16:54:22.817454Z",
     "iopub.status.idle": "2023-08-11T16:54:22.835109Z",
     "shell.execute_reply": "2023-08-11T16:54:22.834302Z"
    },
    "papermill": {
     "duration": 0.040046,
     "end_time": "2023-08-11T16:54:22.836971",
     "exception": false,
     "start_time": "2023-08-11T16:54:22.796925",
     "status": "completed"
    },
    "tags": []
   },
   "outputs": [
    {
     "data": {
      "text/plain": [
       "34.0"
      ]
     },
     "execution_count": 23,
     "metadata": {},
     "output_type": "execute_result"
    }
   ],
   "source": [
    "get_mape(train.emission[0:79023] , forecast)"
   ]
  },
  {
   "cell_type": "code",
   "execution_count": 24,
   "id": "0ddf736b",
   "metadata": {
    "execution": {
     "iopub.execute_input": "2023-08-11T16:54:22.869777Z",
     "iopub.status.busy": "2023-08-11T16:54:22.869397Z",
     "iopub.status.idle": "2023-08-11T16:54:23.331072Z",
     "shell.execute_reply": "2023-08-11T16:54:23.329574Z"
    },
    "papermill": {
     "duration": 0.480921,
     "end_time": "2023-08-11T16:54:23.333368",
     "exception": false,
     "start_time": "2023-08-11T16:54:22.852447",
     "status": "completed"
    },
    "tags": []
   },
   "outputs": [
    {
     "data": {
      "text/plain": [
       "<matplotlib.legend.Legend at 0x784e93cf8af0>"
      ]
     },
     "execution_count": 24,
     "metadata": {},
     "output_type": "execute_result"
    },
    {
     "data": {
      "image/png": "[encoded data removed]",
      "text/plain": [
       "<Figure size 1000x400 with 1 Axes>"
      ]
     },
     "metadata": {},
     "output_type": "display_data"
    }
   ],
   "source": [
    "plt.figure( figsize=(10,4)) \n",
    "plt.xlabel( \"Year\" ) \n",
    "plt.ylabel( \"Week\" ) \n",
    "plt.plot( train['emission'][0:] ); \n",
    "plt.plot( forecast, '.' ); \n",
    "plt.legend()"
   ]
  },
  {
   "cell_type": "markdown",
   "id": "37b51968",
   "metadata": {
    "papermill": {
     "duration": 0.015624,
     "end_time": "2023-08-11T16:54:23.365172",
     "exception": false,
     "start_time": "2023-08-11T16:54:23.349548",
     "status": "completed"
    },
    "tags": []
   },
   "source": [
    "# **Moving-Average**"
   ]
  },
  {
   "cell_type": "code",
   "execution_count": 25,
   "id": "c52c03fb",
   "metadata": {
    "execution": {
     "iopub.execute_input": "2023-08-11T16:54:23.399352Z",
     "iopub.status.busy": "2023-08-11T16:54:23.398917Z",
     "iopub.status.idle": "2023-08-11T16:54:36.415747Z",
     "shell.execute_reply": "2023-08-11T16:54:36.415019Z"
    },
    "papermill": {
     "duration": 13.036206,
     "end_time": "2023-08-11T16:54:36.417607",
     "exception": false,
     "start_time": "2023-08-11T16:54:23.381401",
     "status": "completed"
    },
    "tags": []
   },
   "outputs": [
    {
     "data": {
      "text/html": [
       "<table class=\"simpletable\">\n",
       "<caption>SARIMAX Results</caption>\n",
       "<tr>\n",
       "  <th>Dep. Variable:</th>       <td>emission</td>     <th>  No. Observations:  </th>    <td>79023</td>   \n",
       "</tr>\n",
       "<tr>\n",
       "  <th>Model:</th>            <td>ARIMA(0, 0, 1)</td>  <th>  Log Likelihood     </th> <td>-461828.140</td>\n",
       "</tr>\n",
       "<tr>\n",
       "  <th>Date:</th>            <td>Fri, 11 Aug 2023</td> <th>  AIC                </th> <td>923662.280</td> \n",
       "</tr>\n",
       "<tr>\n",
       "  <th>Time:</th>                <td>16:54:35</td>     <th>  BIC                </th> <td>923690.113</td> \n",
       "</tr>\n",
       "<tr>\n",
       "  <th>Sample:</th>                  <td>0</td>        <th>  HQIC               </th> <td>923670.817</td> \n",
       "</tr>\n",
       "<tr>\n",
       "  <th></th>                     <td> - 79023</td>     <th>                     </th>      <td> </td>     \n",
       "</tr>\n",
       "<tr>\n",
       "  <th>Covariance Type:</th>        <td>opg</td>       <th>                     </th>      <td> </td>     \n",
       "</tr>\n",
       "</table>\n",
       "<table class=\"simpletable\">\n",
       "<tr>\n",
       "     <td></td>       <th>coef</th>     <th>std err</th>      <th>z</th>      <th>P>|z|</th>  <th>[0.025</th>    <th>0.975]</th>  \n",
       "</tr>\n",
       "<tr>\n",
       "  <th>const</th>  <td>   81.9404</td> <td>    0.867</td> <td>   94.533</td> <td> 0.000</td> <td>   80.242</td> <td>   83.639</td>\n",
       "</tr>\n",
       "<tr>\n",
       "  <th>ma.L1</th>  <td>    0.8542</td> <td>    0.000</td> <td> 3576.424</td> <td> 0.000</td> <td>    0.854</td> <td>    0.855</td>\n",
       "</tr>\n",
       "<tr>\n",
       "  <th>sigma2</th> <td> 6978.0932</td> <td>    5.800</td> <td> 1203.026</td> <td> 0.000</td> <td> 6966.725</td> <td> 6989.462</td>\n",
       "</tr>\n",
       "</table>\n",
       "<table class=\"simpletable\">\n",
       "<tr>\n",
       "  <th>Ljung-Box (L1) (Q):</th>     <td>42589.73</td> <th>  Jarque-Bera (JB):  </th> <td>112610439.71</td>\n",
       "</tr>\n",
       "<tr>\n",
       "  <th>Prob(Q):</th>                  <td>0.00</td>   <th>  Prob(JB):          </th>     <td>0.00</td>    \n",
       "</tr>\n",
       "<tr>\n",
       "  <th>Heteroskedasticity (H):</th>   <td>3.70</td>   <th>  Skew:              </th>     <td>10.42</td>   \n",
       "</tr>\n",
       "<tr>\n",
       "  <th>Prob(H) (two-sided):</th>      <td>0.00</td>   <th>  Kurtosis:          </th>    <td>186.76</td>   \n",
       "</tr>\n",
       "</table><br/><br/>Warnings:<br/>[1] Covariance matrix calculated using the outer product of gradients (complex-step)."
      ],
      "text/latex": [
       "\\begin{center}\n",
       "\\begin{tabular}{lclc}\n",
       "\\toprule\n",
       "\\textbf{Dep. Variable:}          &     emission     & \\textbf{  No. Observations:  } &    79023      \\\\\n",
       "\\textbf{Model:}                  &  ARIMA(0, 0, 1)  & \\textbf{  Log Likelihood     } & -461828.140   \\\\\n",
       "\\textbf{Date:}                   & Fri, 11 Aug 2023 & \\textbf{  AIC                } &  923662.280   \\\\\n",
       "\\textbf{Time:}                   &     16:54:35     & \\textbf{  BIC                } &  923690.113   \\\\\n",
       "\\textbf{Sample:}                 &        0         & \\textbf{  HQIC               } &  923670.817   \\\\\n",
       "\\textbf{}                        &      - 79023     & \\textbf{                     } &               \\\\\n",
       "\\textbf{Covariance Type:}        &       opg        & \\textbf{                     } &               \\\\\n",
       "\\bottomrule\n",
       "\\end{tabular}\n",
       "\\begin{tabular}{lcccccc}\n",
       "                & \\textbf{coef} & \\textbf{std err} & \\textbf{z} & \\textbf{P$> |$z$|$} & \\textbf{[0.025} & \\textbf{0.975]}  \\\\\n",
       "\\midrule\n",
       "\\textbf{const}  &      81.9404  &        0.867     &    94.533  &         0.000        &       80.242    &       83.639     \\\\\n",
       "\\textbf{ma.L1}  &       0.8542  &        0.000     &  3576.424  &         0.000        &        0.854    &        0.855     \\\\\n",
       "\\textbf{sigma2} &    6978.0932  &        5.800     &  1203.026  &         0.000        &     6966.725    &     6989.462     \\\\\n",
       "\\bottomrule\n",
       "\\end{tabular}\n",
       "\\begin{tabular}{lclc}\n",
       "\\textbf{Ljung-Box (L1) (Q):}     & 42589.73 & \\textbf{  Jarque-Bera (JB):  } & 112610439.71  \\\\\n",
       "\\textbf{Prob(Q):}                &   0.00   & \\textbf{  Prob(JB):          } &     0.00      \\\\\n",
       "\\textbf{Heteroskedasticity (H):} &   3.70   & \\textbf{  Skew:              } &    10.42      \\\\\n",
       "\\textbf{Prob(H) (two-sided):}    &   0.00   & \\textbf{  Kurtosis:          } &    186.76     \\\\\n",
       "\\bottomrule\n",
       "\\end{tabular}\n",
       "%\\caption{SARIMAX Results}\n",
       "\\end{center}\n",
       "\n",
       "Warnings: \\newline\n",
       " [1] Covariance matrix calculated using the outer product of gradients (complex-step)."
      ],
      "text/plain": [
       "<class 'statsmodels.iolib.summary.Summary'>\n",
       "\"\"\"\n",
       "                               SARIMAX Results                                \n",
       "==============================================================================\n",
       "Dep. Variable:               emission   No. Observations:                79023\n",
       "Model:                 ARIMA(0, 0, 1)   Log Likelihood             -461828.140\n",
       "Date:                Fri, 11 Aug 2023   AIC                         923662.280\n",
       "Time:                        16:54:35   BIC                         923690.113\n",
       "Sample:                             0   HQIC                        923670.817\n",
       "                              - 79023                                         \n",
       "Covariance Type:                  opg                                         \n",
       "==============================================================================\n",
       "                 coef    std err          z      P>|z|      [0.025      0.975]\n",
       "------------------------------------------------------------------------------\n",
       "const         81.9404      0.867     94.533      0.000      80.242      83.639\n",
       "ma.L1          0.8542      0.000   3576.424      0.000       0.854       0.855\n",
       "sigma2      6978.0932      5.800   1203.026      0.000    6966.725    6989.462\n",
       "===================================================================================\n",
       "Ljung-Box (L1) (Q):               42589.73   Jarque-Bera (JB):         112610439.71\n",
       "Prob(Q):                              0.00   Prob(JB):                         0.00\n",
       "Heteroskedasticity (H):               3.70   Skew:                            10.42\n",
       "Prob(H) (two-sided):                  0.00   Kurtosis:                       186.76\n",
       "===================================================================================\n",
       "\n",
       "Warnings:\n",
       "[1] Covariance matrix calculated using the outer product of gradients (complex-step).\n",
       "\"\"\""
      ]
     },
     "execution_count": 25,
     "metadata": {},
     "output_type": "execute_result"
    }
   ],
   "source": [
    "ma_model=ARIMA(train.emission,order=(0,0,1)).fit()\n",
    "ma_model.summary()"
   ]
  },
  {
   "cell_type": "code",
   "execution_count": 26,
   "id": "820086b2",
   "metadata": {
    "execution": {
     "iopub.execute_input": "2023-08-11T16:54:36.464727Z",
     "iopub.status.busy": "2023-08-11T16:54:36.464291Z",
     "iopub.status.idle": "2023-08-11T16:54:36.488435Z",
     "shell.execute_reply": "2023-08-11T16:54:36.487698Z"
    },
    "papermill": {
     "duration": 0.050408,
     "end_time": "2023-08-11T16:54:36.490503",
     "exception": false,
     "start_time": "2023-08-11T16:54:36.440095",
     "status": "completed"
    },
    "tags": []
   },
   "outputs": [
    {
     "data": {
      "text/plain": [
       "591.93"
      ]
     },
     "execution_count": 26,
     "metadata": {},
     "output_type": "execute_result"
    }
   ],
   "source": [
    "forecast = ma_model.predict(0,79023)\n",
    "get_mape(train.emission[0:79023] , forecast)"
   ]
  },
  {
   "cell_type": "code",
   "execution_count": 27,
   "id": "0f8f11e8",
   "metadata": {
    "execution": {
     "iopub.execute_input": "2023-08-11T16:54:36.534311Z",
     "iopub.status.busy": "2023-08-11T16:54:36.533919Z",
     "iopub.status.idle": "2023-08-11T16:54:37.003003Z",
     "shell.execute_reply": "2023-08-11T16:54:37.002033Z"
    },
    "papermill": {
     "duration": 0.493341,
     "end_time": "2023-08-11T16:54:37.004894",
     "exception": false,
     "start_time": "2023-08-11T16:54:36.511553",
     "status": "completed"
    },
    "tags": []
   },
   "outputs": [
    {
     "data": {
      "text/plain": [
       "<matplotlib.legend.Legend at 0x784e93b79fc0>"
      ]
     },
     "execution_count": 27,
     "metadata": {},
     "output_type": "execute_result"
    },
    {
     "data": {
      "image/png": "[encoded data removed]",
      "text/plain": [
       "<Figure size 1000x400 with 1 Axes>"
      ]
     },
     "metadata": {},
     "output_type": "display_data"
    }
   ],
   "source": [
    "plt.figure( figsize=(10,4)) \n",
    "plt.xlabel( \"Year\" ) \n",
    "plt.ylabel( \"Week\" ) \n",
    "plt.plot( train['emission'][1:] ); \n",
    "plt.plot( forecast, '.' ); \n",
    "plt.legend()"
   ]
  },
  {
   "cell_type": "markdown",
   "id": "02ffb541",
   "metadata": {
    "papermill": {
     "duration": 0.016333,
     "end_time": "2023-08-11T16:54:37.038963",
     "exception": false,
     "start_time": "2023-08-11T16:54:37.02263",
     "status": "completed"
    },
    "tags": []
   },
   "source": [
    "# **ARMA**"
   ]
  },
  {
   "cell_type": "code",
   "execution_count": 28,
   "id": "09788ea6",
   "metadata": {
    "execution": {
     "iopub.execute_input": "2023-08-11T16:54:37.073399Z",
     "iopub.status.busy": "2023-08-11T16:54:37.072714Z",
     "iopub.status.idle": "2023-08-11T16:54:41.11728Z",
     "shell.execute_reply": "2023-08-11T16:54:41.116552Z"
    },
    "papermill": {
     "duration": 4.064125,
     "end_time": "2023-08-11T16:54:41.119437",
     "exception": false,
     "start_time": "2023-08-11T16:54:37.055312",
     "status": "completed"
    },
    "tags": []
   },
   "outputs": [
    {
     "data": {
      "text/html": [
       "<table class=\"simpletable\">\n",
       "<caption>SARIMAX Results</caption>\n",
       "<tr>\n",
       "  <th>Dep. Variable:</th>       <td>emission</td>     <th>  No. Observations:  </th>    <td>79023</td>   \n",
       "</tr>\n",
       "<tr>\n",
       "  <th>Model:</th>            <td>ARIMA(1, 0, 1)</td>  <th>  Log Likelihood     </th> <td>-380606.393</td>\n",
       "</tr>\n",
       "<tr>\n",
       "  <th>Date:</th>            <td>Fri, 11 Aug 2023</td> <th>  AIC                </th> <td>761220.787</td> \n",
       "</tr>\n",
       "<tr>\n",
       "  <th>Time:</th>                <td>16:54:40</td>     <th>  BIC                </th> <td>761257.897</td> \n",
       "</tr>\n",
       "<tr>\n",
       "  <th>Sample:</th>                  <td>0</td>        <th>  HQIC               </th> <td>761232.169</td> \n",
       "</tr>\n",
       "<tr>\n",
       "  <th></th>                     <td> - 79023</td>     <th>                     </th>      <td> </td>     \n",
       "</tr>\n",
       "<tr>\n",
       "  <th>Covariance Type:</th>        <td>opg</td>       <th>                     </th>      <td> </td>     \n",
       "</tr>\n",
       "</table>\n",
       "<table class=\"simpletable\">\n",
       "<tr>\n",
       "     <td></td>       <th>coef</th>     <th>std err</th>      <th>z</th>      <th>P>|z|</th>  <th>[0.025</th>    <th>0.975]</th>  \n",
       "</tr>\n",
       "<tr>\n",
       "  <th>const</th>  <td>   81.9406</td> <td>    7.460</td> <td>   10.984</td> <td> 0.000</td> <td>   67.320</td> <td>   96.562</td>\n",
       "</tr>\n",
       "<tr>\n",
       "  <th>ar.L1</th>  <td>    0.9781</td> <td>    0.000</td> <td> 6890.042</td> <td> 0.000</td> <td>    0.978</td> <td>    0.978</td>\n",
       "</tr>\n",
       "<tr>\n",
       "  <th>ma.L1</th>  <td>    0.0042</td> <td>    0.001</td> <td>    5.339</td> <td> 0.000</td> <td>    0.003</td> <td>    0.006</td>\n",
       "</tr>\n",
       "<tr>\n",
       "  <th>sigma2</th> <td>  893.3069</td> <td>    0.186</td> <td> 4810.446</td> <td> 0.000</td> <td>  892.943</td> <td>  893.671</td>\n",
       "</tr>\n",
       "</table>\n",
       "<table class=\"simpletable\">\n",
       "<tr>\n",
       "  <th>Ljung-Box (L1) (Q):</th>     <td>0.00</td> <th>  Jarque-Bera (JB):  </th> <td>20617241673.98</td>\n",
       "</tr>\n",
       "<tr>\n",
       "  <th>Prob(Q):</th>                <td>0.98</td> <th>  Prob(JB):          </th>      <td>0.00</td>     \n",
       "</tr>\n",
       "<tr>\n",
       "  <th>Heteroskedasticity (H):</th> <td>2.46</td> <th>  Skew:              </th>      <td>4.03</td>     \n",
       "</tr>\n",
       "<tr>\n",
       "  <th>Prob(H) (two-sided):</th>    <td>0.00</td> <th>  Kurtosis:          </th>     <td>2505.31</td>   \n",
       "</tr>\n",
       "</table><br/><br/>Warnings:<br/>[1] Covariance matrix calculated using the outer product of gradients (complex-step)."
      ],
      "text/latex": [
       "\\begin{center}\n",
       "\\begin{tabular}{lclc}\n",
       "\\toprule\n",
       "\\textbf{Dep. Variable:}          &     emission     & \\textbf{  No. Observations:  } &     79023       \\\\\n",
       "\\textbf{Model:}                  &  ARIMA(1, 0, 1)  & \\textbf{  Log Likelihood     } &  -380606.393    \\\\\n",
       "\\textbf{Date:}                   & Fri, 11 Aug 2023 & \\textbf{  AIC                } &   761220.787    \\\\\n",
       "\\textbf{Time:}                   &     16:54:40     & \\textbf{  BIC                } &   761257.897    \\\\\n",
       "\\textbf{Sample:}                 &        0         & \\textbf{  HQIC               } &   761232.169    \\\\\n",
       "\\textbf{}                        &      - 79023     & \\textbf{                     } &                 \\\\\n",
       "\\textbf{Covariance Type:}        &       opg        & \\textbf{                     } &                 \\\\\n",
       "\\bottomrule\n",
       "\\end{tabular}\n",
       "\\begin{tabular}{lcccccc}\n",
       "                & \\textbf{coef} & \\textbf{std err} & \\textbf{z} & \\textbf{P$> |$z$|$} & \\textbf{[0.025} & \\textbf{0.975]}  \\\\\n",
       "\\midrule\n",
       "\\textbf{const}  &      81.9406  &        7.460     &    10.984  &         0.000        &       67.320    &       96.562     \\\\\n",
       "\\textbf{ar.L1}  &       0.9781  &        0.000     &  6890.042  &         0.000        &        0.978    &        0.978     \\\\\n",
       "\\textbf{ma.L1}  &       0.0042  &        0.001     &     5.339  &         0.000        &        0.003    &        0.006     \\\\\n",
       "\\textbf{sigma2} &     893.3069  &        0.186     &  4810.446  &         0.000        &      892.943    &      893.671     \\\\\n",
       "\\bottomrule\n",
       "\\end{tabular}\n",
       "\\begin{tabular}{lclc}\n",
       "\\textbf{Ljung-Box (L1) (Q):}     & 0.00 & \\textbf{  Jarque-Bera (JB):  } & 20617241673.98  \\\\\n",
       "\\textbf{Prob(Q):}                & 0.98 & \\textbf{  Prob(JB):          } &      0.00       \\\\\n",
       "\\textbf{Heteroskedasticity (H):} & 2.46 & \\textbf{  Skew:              } &      4.03       \\\\\n",
       "\\textbf{Prob(H) (two-sided):}    & 0.00 & \\textbf{  Kurtosis:          } &    2505.31      \\\\\n",
       "\\bottomrule\n",
       "\\end{tabular}\n",
       "%\\caption{SARIMAX Results}\n",
       "\\end{center}\n",
       "\n",
       "Warnings: \\newline\n",
       " [1] Covariance matrix calculated using the outer product of gradients (complex-step)."
      ],
      "text/plain": [
       "<class 'statsmodels.iolib.summary.Summary'>\n",
       "\"\"\"\n",
       "                               SARIMAX Results                                \n",
       "==============================================================================\n",
       "Dep. Variable:               emission   No. Observations:                79023\n",
       "Model:                 ARIMA(1, 0, 1)   Log Likelihood             -380606.393\n",
       "Date:                Fri, 11 Aug 2023   AIC                         761220.787\n",
       "Time:                        16:54:40   BIC                         761257.897\n",
       "Sample:                             0   HQIC                        761232.169\n",
       "                              - 79023                                         \n",
       "Covariance Type:                  opg                                         \n",
       "==============================================================================\n",
       "                 coef    std err          z      P>|z|      [0.025      0.975]\n",
       "------------------------------------------------------------------------------\n",
       "const         81.9406      7.460     10.984      0.000      67.320      96.562\n",
       "ar.L1          0.9781      0.000   6890.042      0.000       0.978       0.978\n",
       "ma.L1          0.0042      0.001      5.339      0.000       0.003       0.006\n",
       "sigma2       893.3069      0.186   4810.446      0.000     892.943     893.671\n",
       "===================================================================================\n",
       "Ljung-Box (L1) (Q):                   0.00   Jarque-Bera (JB):       20617241673.98\n",
       "Prob(Q):                              0.98   Prob(JB):                         0.00\n",
       "Heteroskedasticity (H):               2.46   Skew:                             4.03\n",
       "Prob(H) (two-sided):                  0.00   Kurtosis:                      2505.31\n",
       "===================================================================================\n",
       "\n",
       "Warnings:\n",
       "[1] Covariance matrix calculated using the outer product of gradients (complex-step).\n",
       "\"\"\""
      ]
     },
     "execution_count": 28,
     "metadata": {},
     "output_type": "execute_result"
    }
   ],
   "source": [
    "arma_model=ARIMA(train.emission,order=(1,0,1)).fit()\n",
    "arma_model.summary()"
   ]
  },
  {
   "cell_type": "code",
   "execution_count": 29,
   "id": "b4cce661",
   "metadata": {
    "execution": {
     "iopub.execute_input": "2023-08-11T16:54:41.166956Z",
     "iopub.status.busy": "2023-08-11T16:54:41.166121Z",
     "iopub.status.idle": "2023-08-11T16:54:41.191464Z",
     "shell.execute_reply": "2023-08-11T16:54:41.190717Z"
    },
    "papermill": {
     "duration": 0.051057,
     "end_time": "2023-08-11T16:54:41.193546",
     "exception": false,
     "start_time": "2023-08-11T16:54:41.142489",
     "status": "completed"
    },
    "tags": []
   },
   "outputs": [
    {
     "data": {
      "text/plain": [
       "34.09"
      ]
     },
     "execution_count": 29,
     "metadata": {},
     "output_type": "execute_result"
    }
   ],
   "source": [
    "forecast = arma_model.predict(0,79023)\n",
    "get_mape(train.emission[0:79023] , forecast)"
   ]
  },
  {
   "cell_type": "code",
   "execution_count": 30,
   "id": "77983fba",
   "metadata": {
    "execution": {
     "iopub.execute_input": "2023-08-11T16:54:41.239929Z",
     "iopub.status.busy": "2023-08-11T16:54:41.239109Z",
     "iopub.status.idle": "2023-08-11T16:54:41.24557Z",
     "shell.execute_reply": "2023-08-11T16:54:41.244716Z"
    },
    "papermill": {
     "duration": 0.032262,
     "end_time": "2023-08-11T16:54:41.248318",
     "exception": false,
     "start_time": "2023-08-11T16:54:41.216056",
     "status": "completed"
    },
    "tags": []
   },
   "outputs": [],
   "source": [
    "train['arma'] = forecast"
   ]
  },
  {
   "cell_type": "code",
   "execution_count": 31,
   "id": "48c85e12",
   "metadata": {
    "execution": {
     "iopub.execute_input": "2023-08-11T16:54:41.293981Z",
     "iopub.status.busy": "2023-08-11T16:54:41.293687Z",
     "iopub.status.idle": "2023-08-11T16:54:41.773323Z",
     "shell.execute_reply": "2023-08-11T16:54:41.771559Z"
    },
    "papermill": {
     "duration": 0.504931,
     "end_time": "2023-08-11T16:54:41.776009",
     "exception": false,
     "start_time": "2023-08-11T16:54:41.271078",
     "status": "completed"
    },
    "tags": []
   },
   "outputs": [
    {
     "data": {
      "text/plain": [
       "<matplotlib.legend.Legend at 0x784e93ca94e0>"
      ]
     },
     "execution_count": 31,
     "metadata": {},
     "output_type": "execute_result"
    },
    {
     "data": {
      "image/png": "[encoded data removed]",
      "text/plain": [
       "<Figure size 1000x400 with 1 Axes>"
      ]
     },
     "metadata": {},
     "output_type": "display_data"
    }
   ],
   "source": [
    "plt.figure( figsize=(10,4)) \n",
    "plt.xlabel( \"Year\" ) \n",
    "plt.ylabel( \"Week\" ) \n",
    "plt.plot( train['emission'][1:] ); \n",
    "plt.plot( forecast, '.' ); \n",
    "plt.legend()"
   ]
  },
  {
   "cell_type": "markdown",
   "id": "3501ae9e",
   "metadata": {
    "papermill": {
     "duration": 0.019315,
     "end_time": "2023-08-11T16:54:41.813624",
     "exception": false,
     "start_time": "2023-08-11T16:54:41.794309",
     "status": "completed"
    },
    "tags": []
   },
   "source": [
    "# **Dicky-fuller test**"
   ]
  },
  {
   "cell_type": "code",
   "execution_count": 32,
   "id": "5d9f615d",
   "metadata": {
    "execution": {
     "iopub.execute_input": "2023-08-11T16:54:41.851052Z",
     "iopub.status.busy": "2023-08-11T16:54:41.850742Z",
     "iopub.status.idle": "2023-08-11T16:54:41.856659Z",
     "shell.execute_reply": "2023-08-11T16:54:41.855286Z"
    },
    "papermill": {
     "duration": 0.027383,
     "end_time": "2023-08-11T16:54:41.858962",
     "exception": false,
     "start_time": "2023-08-11T16:54:41.831579",
     "status": "completed"
    },
    "tags": []
   },
   "outputs": [],
   "source": [
    "from statsmodels.tsa.stattools import adfuller\n",
    "def adfuller_test( ts ): \n",
    "    adfuller_result = adfuller( ts, autolag=None ) \n",
    "    adfuller_out = pd.Series(adfuller_result[0:4], \n",
    "    index=['Test Statistic', 'p-value', 'Lags Used', 'Number of Observations Used']) \n",
    "    print( adfuller_out ) "
   ]
  },
  {
   "cell_type": "code",
   "execution_count": 33,
   "id": "7d7b77f4",
   "metadata": {
    "execution": {
     "iopub.execute_input": "2023-08-11T16:54:41.897423Z",
     "iopub.status.busy": "2023-08-11T16:54:41.896745Z",
     "iopub.status.idle": "2023-08-11T16:54:42.204858Z",
     "shell.execute_reply": "2023-08-11T16:54:42.204146Z"
    },
    "papermill": {
     "duration": 0.329533,
     "end_time": "2023-08-11T16:54:42.206742",
     "exception": false,
     "start_time": "2023-08-11T16:54:41.877209",
     "status": "completed"
    },
    "tags": []
   },
   "outputs": [
    {
     "name": "stdout",
     "output_type": "stream",
     "text": [
      "Test Statistic                  -18.23\n",
      "p-value                           0.00\n",
      "Lags Used                        64.00\n",
      "Number of Observations Used   78958.00\n",
      "dtype: float64\n"
     ]
    }
   ],
   "source": [
    "adfuller_test(train.emission)"
   ]
  },
  {
   "cell_type": "code",
   "execution_count": 34,
   "id": "2373678d",
   "metadata": {
    "execution": {
     "iopub.execute_input": "2023-08-11T16:54:42.255402Z",
     "iopub.status.busy": "2023-08-11T16:54:42.25441Z",
     "iopub.status.idle": "2023-08-11T16:54:42.270032Z",
     "shell.execute_reply": "2023-08-11T16:54:42.269288Z"
    },
    "papermill": {
     "duration": 0.042258,
     "end_time": "2023-08-11T16:54:42.272232",
     "exception": false,
     "start_time": "2023-08-11T16:54:42.229974",
     "status": "completed"
    },
    "tags": []
   },
   "outputs": [],
   "source": [
    "train = train.drop(['ID_LAT_LON_YEAR_WEEK'],axis=1)"
   ]
  },
  {
   "cell_type": "markdown",
   "id": "e9c47788",
   "metadata": {
    "papermill": {
     "duration": 0.02261,
     "end_time": "2023-08-11T16:54:42.318204",
     "exception": false,
     "start_time": "2023-08-11T16:54:42.295594",
     "status": "completed"
    },
    "tags": []
   },
   "source": [
    "# **Visualizing geographical features**"
   ]
  },
  {
   "cell_type": "code",
   "execution_count": 35,
   "id": "6e4f36d8",
   "metadata": {
    "execution": {
     "iopub.execute_input": "2023-08-11T16:54:42.354475Z",
     "iopub.status.busy": "2023-08-11T16:54:42.354143Z",
     "iopub.status.idle": "2023-08-11T16:54:42.681581Z",
     "shell.execute_reply": "2023-08-11T16:54:42.679968Z"
    },
    "papermill": {
     "duration": 0.348227,
     "end_time": "2023-08-11T16:54:42.684055",
     "exception": false,
     "start_time": "2023-08-11T16:54:42.335828",
     "status": "completed"
    },
    "tags": []
   },
   "outputs": [
    {
     "data": {
      "image/png": "[encoded data removed]",
      "text/plain": [
       "<Figure size 640x480 with 1 Axes>"
      ]
     },
     "metadata": {},
     "output_type": "display_data"
    }
   ],
   "source": [
    "train.plot(kind=\"scatter\", x=\"longitude\", y=\"latitude\", grid=True)\n",
    "plt.show()"
   ]
  },
  {
   "cell_type": "code",
   "execution_count": 36,
   "id": "cd957fe1",
   "metadata": {
    "execution": {
     "iopub.execute_input": "2023-08-11T16:54:42.722681Z",
     "iopub.status.busy": "2023-08-11T16:54:42.722234Z",
     "iopub.status.idle": "2023-08-11T16:54:44.001681Z",
     "shell.execute_reply": "2023-08-11T16:54:44.000426Z"
    },
    "papermill": {
     "duration": 1.301483,
     "end_time": "2023-08-11T16:54:44.004226",
     "exception": false,
     "start_time": "2023-08-11T16:54:42.702743",
     "status": "completed"
    },
    "tags": []
   },
   "outputs": [
    {
     "data": {
      "image/png": "[encoded data removed]",
      "text/plain": [
       "<Figure size 1000x700 with 2 Axes>"
      ]
     },
     "metadata": {},
     "output_type": "display_data"
    }
   ],
   "source": [
    "train.plot(kind=\"scatter\", x=\"longitude\", y=\"latitude\", grid=True,\n",
    "             s=train[\"emission\"] / 100, label=\"emission\",\n",
    "             c=\"emission\", cmap=\"jet\", colorbar=True,\n",
    "             legend=True, sharex=False, figsize=(10, 7))\n",
    "plt.show()"
   ]
  },
  {
   "cell_type": "markdown",
   "id": "c8335af8",
   "metadata": {
    "papermill": {
     "duration": 0.01844,
     "end_time": "2023-08-11T16:54:44.041657",
     "exception": false,
     "start_time": "2023-08-11T16:54:44.023217",
     "status": "completed"
    },
    "tags": []
   },
   "source": [
    "# **Data-preprocessing & Feature Engineering**"
   ]
  },
  {
   "cell_type": "code",
   "execution_count": 37,
   "id": "5f53f3d4",
   "metadata": {
    "execution": {
     "iopub.execute_input": "2023-08-11T16:54:44.080533Z",
     "iopub.status.busy": "2023-08-11T16:54:44.080156Z",
     "iopub.status.idle": "2023-08-11T16:54:44.09429Z",
     "shell.execute_reply": "2023-08-11T16:54:44.093111Z"
    },
    "papermill": {
     "duration": 0.037014,
     "end_time": "2023-08-11T16:54:44.09702",
     "exception": false,
     "start_time": "2023-08-11T16:54:44.060006",
     "status": "completed"
    },
    "tags": []
   },
   "outputs": [],
   "source": [
    "train_base = train_base.drop(['ID_LAT_LON_YEAR_WEEK', 'latitude', 'longitude', 'year', 'week_no','UvAerosolIndex_absorbing_aerosol_index',\n",
    "       'UvAerosolIndex_sensor_altitude', 'UvAerosolIndex_sensor_azimuth_angle',\n",
    "       'UvAerosolIndex_sensor_zenith_angle',\n",
    "       'UvAerosolIndex_solar_azimuth_angle',\n",
    "       'UvAerosolIndex_solar_zenith_angle',],axis=1)"
   ]
  },
  {
   "cell_type": "code",
   "execution_count": 38,
   "id": "ee6927d2",
   "metadata": {
    "execution": {
     "iopub.execute_input": "2023-08-11T16:54:44.136718Z",
     "iopub.status.busy": "2023-08-11T16:54:44.136389Z",
     "iopub.status.idle": "2023-08-11T16:54:45.150073Z",
     "shell.execute_reply": "2023-08-11T16:54:45.148588Z"
    },
    "papermill": {
     "duration": 1.037041,
     "end_time": "2023-08-11T16:54:45.152821",
     "exception": false,
     "start_time": "2023-08-11T16:54:44.11578",
     "status": "completed"
    },
    "tags": []
   },
   "outputs": [],
   "source": [
    "from sklearn.impute import SimpleImputer\n",
    "imputer = SimpleImputer(missing_values=np.nan, strategy='median')\n",
    "train_base = imputer.fit_transform(train_base)"
   ]
  },
  {
   "cell_type": "code",
   "execution_count": 39,
   "id": "8949dfea",
   "metadata": {
    "execution": {
     "iopub.execute_input": "2023-08-11T16:54:45.194494Z",
     "iopub.status.busy": "2023-08-11T16:54:45.194136Z",
     "iopub.status.idle": "2023-08-11T16:54:45.363032Z",
     "shell.execute_reply": "2023-08-11T16:54:45.362141Z"
    },
    "papermill": {
     "duration": 0.191611,
     "end_time": "2023-08-11T16:54:45.365295",
     "exception": false,
     "start_time": "2023-08-11T16:54:45.173684",
     "status": "completed"
    },
    "tags": []
   },
   "outputs": [],
   "source": [
    "from sklearn.decomposition import PCA\n",
    "\n",
    "pca = PCA(n_components=0.95)\n",
    "train_scaled = pca.fit_transform(train_base)"
   ]
  },
  {
   "cell_type": "code",
   "execution_count": 40,
   "id": "24b5f09c",
   "metadata": {
    "execution": {
     "iopub.execute_input": "2023-08-11T16:54:45.415792Z",
     "iopub.status.busy": "2023-08-11T16:54:45.415409Z",
     "iopub.status.idle": "2023-08-11T16:54:45.423746Z",
     "shell.execute_reply": "2023-08-11T16:54:45.422962Z"
    },
    "papermill": {
     "duration": 0.036121,
     "end_time": "2023-08-11T16:54:45.42593",
     "exception": false,
     "start_time": "2023-08-11T16:54:45.389809",
     "status": "completed"
    },
    "tags": []
   },
   "outputs": [
    {
     "data": {
      "text/plain": [
       "1"
      ]
     },
     "execution_count": 40,
     "metadata": {},
     "output_type": "execute_result"
    }
   ],
   "source": [
    "pca.n_components_"
   ]
  },
  {
   "cell_type": "code",
   "execution_count": 41,
   "id": "7dbc1813",
   "metadata": {
    "execution": {
     "iopub.execute_input": "2023-08-11T16:54:45.473989Z",
     "iopub.status.busy": "2023-08-11T16:54:45.473693Z",
     "iopub.status.idle": "2023-08-11T16:54:45.479417Z",
     "shell.execute_reply": "2023-08-11T16:54:45.4786Z"
    },
    "papermill": {
     "duration": 0.030161,
     "end_time": "2023-08-11T16:54:45.481226",
     "exception": false,
     "start_time": "2023-08-11T16:54:45.451065",
     "status": "completed"
    },
    "tags": []
   },
   "outputs": [
    {
     "data": {
      "text/plain": [
       "array([[ -1881.12630134],\n",
       "       [-13103.28300395],\n",
       "       [ -2655.71980882],\n",
       "       ...,\n",
       "       [  4305.47922244],\n",
       "       [ 17721.36635712],\n",
       "       [ 16480.52020885]])"
      ]
     },
     "execution_count": 41,
     "metadata": {},
     "output_type": "execute_result"
    }
   ],
   "source": [
    "train_scaled"
   ]
  },
  {
   "cell_type": "markdown",
   "id": "ea8f1aec",
   "metadata": {
    "papermill": {
     "duration": 0.018364,
     "end_time": "2023-08-11T16:54:45.517785",
     "exception": false,
     "start_time": "2023-08-11T16:54:45.499421",
     "status": "completed"
    },
    "tags": []
   },
   "source": [
    "# **Creating new dataset with the required features**"
   ]
  },
  {
   "cell_type": "code",
   "execution_count": 42,
   "id": "ff3ed8e8",
   "metadata": {
    "execution": {
     "iopub.execute_input": "2023-08-11T16:54:45.557869Z",
     "iopub.status.busy": "2023-08-11T16:54:45.557514Z",
     "iopub.status.idle": "2023-08-11T16:54:45.586487Z",
     "shell.execute_reply": "2023-08-11T16:54:45.585504Z"
    },
    "papermill": {
     "duration": 0.050935,
     "end_time": "2023-08-11T16:54:45.588173",
     "exception": false,
     "start_time": "2023-08-11T16:54:45.537238",
     "status": "completed"
    },
    "tags": []
   },
   "outputs": [
    {
     "data": {
      "text/html": [
       "<div>\n",
       "<style scoped>\n",
       "    .dataframe tbody tr th:only-of-type {\n",
       "        vertical-align: middle;\n",
       "    }\n",
       "\n",
       "    .dataframe tbody tr th {\n",
       "        vertical-align: top;\n",
       "    }\n",
       "\n",
       "    .dataframe thead th {\n",
       "        text-align: right;\n",
       "    }\n",
       "</style>\n",
       "<table border=\"1\" class=\"dataframe\">\n",
       "  <thead>\n",
       "    <tr style=\"text-align: right;\">\n",
       "      <th></th>\n",
       "      <th>ewm</th>\n",
       "      <th>ar</th>\n",
       "      <th>arma</th>\n",
       "      <th>emission</th>\n",
       "      <th>gasfeatures</th>\n",
       "    </tr>\n",
       "  </thead>\n",
       "  <tbody>\n",
       "    <tr>\n",
       "      <th>0</th>\n",
       "      <td>3.75</td>\n",
       "      <td>81.94</td>\n",
       "      <td>81.94</td>\n",
       "      <td>3.75</td>\n",
       "      <td>-1881.13</td>\n",
       "    </tr>\n",
       "    <tr>\n",
       "      <th>1</th>\n",
       "      <td>3.90</td>\n",
       "      <td>5.45</td>\n",
       "      <td>5.45</td>\n",
       "      <td>4.03</td>\n",
       "      <td>-13103.28</td>\n",
       "    </tr>\n",
       "    <tr>\n",
       "      <th>2</th>\n",
       "      <td>4.04</td>\n",
       "      <td>5.71</td>\n",
       "      <td>5.72</td>\n",
       "      <td>4.23</td>\n",
       "      <td>-2655.72</td>\n",
       "    </tr>\n",
       "    <tr>\n",
       "      <th>3</th>\n",
       "      <td>4.13</td>\n",
       "      <td>5.92</td>\n",
       "      <td>5.92</td>\n",
       "      <td>4.31</td>\n",
       "      <td>11731.11</td>\n",
       "    </tr>\n",
       "    <tr>\n",
       "      <th>4</th>\n",
       "      <td>4.19</td>\n",
       "      <td>5.99</td>\n",
       "      <td>6.00</td>\n",
       "      <td>4.35</td>\n",
       "      <td>-8067.51</td>\n",
       "    </tr>\n",
       "  </tbody>\n",
       "</table>\n",
       "</div>"
      ],
      "text/plain": [
       "   ewm    ar  arma  emission  gasfeatures\n",
       "0 3.75 81.94 81.94      3.75     -1881.13\n",
       "1 3.90  5.45  5.45      4.03    -13103.28\n",
       "2 4.04  5.71  5.72      4.23     -2655.72\n",
       "3 4.13  5.92  5.92      4.31     11731.11\n",
       "4 4.19  5.99  6.00      4.35     -8067.51"
      ]
     },
     "execution_count": 42,
     "metadata": {},
     "output_type": "execute_result"
    }
   ],
   "source": [
    "data=pd.concat([train[['ewm','ar','arma','emission']], pd.DataFrame({'gasfeatures':train_scaled.flatten()})], axis=1)\n",
    "data.head()"
   ]
  },
  {
   "cell_type": "code",
   "execution_count": 43,
   "id": "9d980aa3",
   "metadata": {
    "execution": {
     "iopub.execute_input": "2023-08-11T16:54:45.628882Z",
     "iopub.status.busy": "2023-08-11T16:54:45.62831Z",
     "iopub.status.idle": "2023-08-11T16:54:45.639724Z",
     "shell.execute_reply": "2023-08-11T16:54:45.638563Z"
    },
    "papermill": {
     "duration": 0.034822,
     "end_time": "2023-08-11T16:54:45.641725",
     "exception": false,
     "start_time": "2023-08-11T16:54:45.606903",
     "status": "completed"
    },
    "tags": []
   },
   "outputs": [
    {
     "name": "stdout",
     "output_type": "stream",
     "text": [
      "<class 'pandas.core.frame.DataFrame'>\n",
      "RangeIndex: 79023 entries, 0 to 79022\n",
      "Data columns (total 5 columns):\n",
      " #   Column       Non-Null Count  Dtype  \n",
      "---  ------       --------------  -----  \n",
      " 0   ewm          79023 non-null  float64\n",
      " 1   ar           79023 non-null  float64\n",
      " 2   arma         79023 non-null  float64\n",
      " 3   emission     79023 non-null  float64\n",
      " 4   gasfeatures  79023 non-null  float64\n",
      "dtypes: float64(5)\n",
      "memory usage: 3.0 MB\n"
     ]
    }
   ],
   "source": [
    "data.info()"
   ]
  },
  {
   "cell_type": "markdown",
   "id": "e14a0f08",
   "metadata": {
    "papermill": {
     "duration": 0.018392,
     "end_time": "2023-08-11T16:54:45.678624",
     "exception": false,
     "start_time": "2023-08-11T16:54:45.660232",
     "status": "completed"
    },
    "tags": []
   },
   "source": [
    "# **Train-valid split**"
   ]
  },
  {
   "cell_type": "code",
   "execution_count": 44,
   "id": "716d8543",
   "metadata": {
    "execution": {
     "iopub.execute_input": "2023-08-11T16:54:45.718354Z",
     "iopub.status.busy": "2023-08-11T16:54:45.716844Z",
     "iopub.status.idle": "2023-08-11T16:54:45.72391Z",
     "shell.execute_reply": "2023-08-11T16:54:45.722593Z"
    },
    "papermill": {
     "duration": 0.028621,
     "end_time": "2023-08-11T16:54:45.725694",
     "exception": false,
     "start_time": "2023-08-11T16:54:45.697073",
     "status": "completed"
    },
    "tags": []
   },
   "outputs": [],
   "source": [
    "X = data.drop(['emission'],axis=1)\n",
    "y = data['emission']"
   ]
  },
  {
   "cell_type": "code",
   "execution_count": 45,
   "id": "433df0c5",
   "metadata": {
    "execution": {
     "iopub.execute_input": "2023-08-11T16:54:45.764852Z",
     "iopub.status.busy": "2023-08-11T16:54:45.764468Z",
     "iopub.status.idle": "2023-08-11T16:54:45.777408Z",
     "shell.execute_reply": "2023-08-11T16:54:45.776316Z"
    },
    "papermill": {
     "duration": 0.034751,
     "end_time": "2023-08-11T16:54:45.779513",
     "exception": false,
     "start_time": "2023-08-11T16:54:45.744762",
     "status": "completed"
    },
    "tags": []
   },
   "outputs": [],
   "source": [
    "from sklearn.model_selection import train_test_split\n",
    "X_train ,X_valid , y_train , y_valid = train_test_split(X , y , test_size=0.2 , random_state=42)"
   ]
  },
  {
   "cell_type": "markdown",
   "id": "ffbb5900",
   "metadata": {
    "papermill": {
     "duration": 0.017783,
     "end_time": "2023-08-11T16:54:45.815937",
     "exception": false,
     "start_time": "2023-08-11T16:54:45.798154",
     "status": "completed"
    },
    "tags": []
   },
   "source": [
    "# **Model training**"
   ]
  },
  {
   "cell_type": "code",
   "execution_count": 46,
   "id": "7815c5f6",
   "metadata": {
    "execution": {
     "iopub.execute_input": "2023-08-11T16:54:45.853716Z",
     "iopub.status.busy": "2023-08-11T16:54:45.853409Z",
     "iopub.status.idle": "2023-08-11T16:54:50.773247Z",
     "shell.execute_reply": "2023-08-11T16:54:50.772357Z"
    },
    "papermill": {
     "duration": 4.941279,
     "end_time": "2023-08-11T16:54:50.775131",
     "exception": false,
     "start_time": "2023-08-11T16:54:45.833852",
     "status": "completed"
    },
    "tags": []
   },
   "outputs": [
    {
     "name": "stdout",
     "output_type": "stream",
     "text": [
      "Root mean squared error of the model : 25.362499815717715 \n"
     ]
    }
   ],
   "source": [
    "import xgboost as xgb\n",
    "\n",
    "reg = xgb.XGBRegressor(n_estimators=100, max_depth=10 , random_state=42)\n",
    "reg.fit(X_train , y_train)\n",
    "y_pred = reg.predict(X_valid)\n",
    "\n",
    "rmse = np.sqrt(mean_squared_error(y_valid , y_pred))\n",
    "print(f\"Root mean squared error of the model : {rmse} \")"
   ]
  },
  {
   "cell_type": "code",
   "execution_count": 47,
   "id": "f74ab229",
   "metadata": {
    "execution": {
     "iopub.execute_input": "2023-08-11T16:54:50.818086Z",
     "iopub.status.busy": "2023-08-11T16:54:50.817034Z",
     "iopub.status.idle": "2023-08-11T16:54:53.055043Z",
     "shell.execute_reply": "2023-08-11T16:54:53.053892Z"
    },
    "papermill": {
     "duration": 2.261337,
     "end_time": "2023-08-11T16:54:53.05721",
     "exception": false,
     "start_time": "2023-08-11T16:54:50.795873",
     "status": "completed"
    },
    "tags": []
   },
   "outputs": [
    {
     "name": "stdout",
     "output_type": "stream",
     "text": [
      "Root mean squared error of the model : 37.65227987227667 \n"
     ]
    }
   ],
   "source": [
    "import lightgbm as lgbm\n",
    "\n",
    "reg = lgbm.LGBMRegressor(n_estimators=100, max_depth=10 , random_state=42)\n",
    "reg.fit(X_train , y_train)\n",
    "y_pred = reg.predict(X_valid)\n",
    "\n",
    "rmse = np.sqrt(mean_squared_error(y_valid , y_pred))\n",
    "print(f\"Root mean squared error of the model : {rmse} \")"
   ]
  },
  {
   "cell_type": "code",
   "execution_count": 48,
   "id": "b326b87d",
   "metadata": {
    "execution": {
     "iopub.execute_input": "2023-08-11T16:54:53.09673Z",
     "iopub.status.busy": "2023-08-11T16:54:53.096219Z",
     "iopub.status.idle": "2023-08-11T16:54:55.187651Z",
     "shell.execute_reply": "2023-08-11T16:54:55.186781Z"
    },
    "papermill": {
     "duration": 2.113759,
     "end_time": "2023-08-11T16:54:55.189578",
     "exception": false,
     "start_time": "2023-08-11T16:54:53.075819",
     "status": "completed"
    },
    "tags": []
   },
   "outputs": [
    {
     "name": "stdout",
     "output_type": "stream",
     "text": [
      "Root mean squared error of the model : 21.134996795470954 \n"
     ]
    }
   ],
   "source": [
    "from sklearn.ensemble import ExtraTreesRegressor\n",
    "\n",
    "reg = ExtraTreesRegressor(n_estimators=100, max_depth=10 , random_state=42)\n",
    "reg.fit(X_train , y_train)\n",
    "y_pred = reg.predict(X_valid)\n",
    "\n",
    "rmse = np.sqrt(mean_squared_error(y_valid , y_pred))\n",
    "print(f\"Root mean squared error of the model : {rmse} \")"
   ]
  },
  {
   "cell_type": "code",
   "execution_count": 49,
   "id": "c1270fec",
   "metadata": {
    "execution": {
     "iopub.execute_input": "2023-08-11T16:54:55.228867Z",
     "iopub.status.busy": "2023-08-11T16:54:55.228561Z",
     "iopub.status.idle": "2023-08-11T16:54:55.261183Z",
     "shell.execute_reply": "2023-08-11T16:54:55.259928Z"
    },
    "papermill": {
     "duration": 0.054823,
     "end_time": "2023-08-11T16:54:55.263235",
     "exception": false,
     "start_time": "2023-08-11T16:54:55.208412",
     "status": "completed"
    },
    "tags": []
   },
   "outputs": [
    {
     "name": "stdout",
     "output_type": "stream",
     "text": [
      "Root mean squared error of the model : 21.109941771427117 \n"
     ]
    }
   ],
   "source": [
    "from sklearn.linear_model import LinearRegression\n",
    "\n",
    "reg = LinearRegression()\n",
    "reg.fit(X_train , y_train)\n",
    "y_pred = reg.predict(X_valid)\n",
    "\n",
    "rmse = np.sqrt(mean_squared_error(y_valid , y_pred))\n",
    "print(f\"Root mean squared error of the model : {rmse} \")"
   ]
  },
  {
   "cell_type": "code",
   "execution_count": 50,
   "id": "c9b89e72",
   "metadata": {
    "execution": {
     "iopub.execute_input": "2023-08-11T16:54:55.315505Z",
     "iopub.status.busy": "2023-08-11T16:54:55.315131Z",
     "iopub.status.idle": "2023-08-11T16:54:55.390738Z",
     "shell.execute_reply": "2023-08-11T16:54:55.389833Z"
    },
    "papermill": {
     "duration": 0.103752,
     "end_time": "2023-08-11T16:54:55.392629",
     "exception": false,
     "start_time": "2023-08-11T16:54:55.288877",
     "status": "completed"
    },
    "tags": []
   },
   "outputs": [
    {
     "name": "stdout",
     "output_type": "stream",
     "text": [
      "Root mean squared error of the model : 21.374579623325822 \n"
     ]
    }
   ],
   "source": [
    "from sklearn.linear_model import ElasticNet\n",
    "\n",
    "reg = ElasticNet()\n",
    "reg.fit(X_train , y_train)\n",
    "y_pred = reg.predict(X_valid)\n",
    "\n",
    "rmse = np.sqrt(mean_squared_error(y_valid , y_pred))\n",
    "print(f\"Root mean squared error of the model : {rmse} \")"
   ]
  },
  {
   "cell_type": "markdown",
   "id": "1e4e8d8e",
   "metadata": {
    "papermill": {
     "duration": 0.046874,
     "end_time": "2023-08-11T16:54:55.48241",
     "exception": false,
     "start_time": "2023-08-11T16:54:55.435536",
     "status": "completed"
    },
    "tags": []
   },
   "source": [
    "# **Stacking ensemble**"
   ]
  },
  {
   "cell_type": "code",
   "execution_count": 51,
   "id": "e114545f",
   "metadata": {
    "execution": {
     "iopub.execute_input": "2023-08-11T16:54:55.530546Z",
     "iopub.status.busy": "2023-08-11T16:54:55.530233Z",
     "iopub.status.idle": "2023-08-11T16:56:14.642536Z",
     "shell.execute_reply": "2023-08-11T16:56:14.641625Z"
    },
    "papermill": {
     "duration": 79.153254,
     "end_time": "2023-08-11T16:56:14.663919",
     "exception": false,
     "start_time": "2023-08-11T16:54:55.510665",
     "status": "completed"
    },
    "tags": []
   },
   "outputs": [
    {
     "data": {
      "text/html": [
       "<style>#sk-container-id-1 {color: black;background-color: white;}#sk-container-id-1 pre{padding: 0;}#sk-container-id-1 div.sk-toggleable {background-color: white;}#sk-container-id-1 label.sk-toggleable__label {cursor: pointer;display: block;width: 100%;margin-bottom: 0;padding: 0.3em;box-sizing: border-box;text-align: center;}#sk-container-id-1 label.sk-toggleable__label-arrow:before {content: \"▸\";float: left;margin-right: 0.25em;color: #696969;}#sk-container-id-1 label.sk-toggleable__label-arrow:hover:before {color: black;}#sk-container-id-1 div.sk-estimator:hover label.sk-toggleable__label-arrow:before {color: black;}#sk-container-id-1 div.sk-toggleable__content {max-height: 0;max-width: 0;overflow: hidden;text-align: left;background-color: #f0f8ff;}#sk-container-id-1 div.sk-toggleable__content pre {margin: 0.2em;color: black;border-radius: 0.25em;background-color: #f0f8ff;}#sk-container-id-1 input.sk-toggleable__control:checked~div.sk-toggleable__content {max-height: 200px;max-width: 100%;overflow: auto;}#sk-container-id-1 input.sk-toggleable__control:checked~label.sk-toggleable__label-arrow:before {content: \"▾\";}#sk-container-id-1 div.sk-estimator input.sk-toggleable__control:checked~label.sk-toggleable__label {background-color: #d4ebff;}#sk-container-id-1 div.sk-label input.sk-toggleable__control:checked~label.sk-toggleable__label {background-color: #d4ebff;}#sk-container-id-1 input.sk-hidden--visually {border: 0;clip: rect(1px 1px 1px 1px);clip: rect(1px, 1px, 1px, 1px);height: 1px;margin: -1px;overflow: hidden;padding: 0;position: absolute;width: 1px;}#sk-container-id-1 div.sk-estimator {font-family: monospace;background-color: #f0f8ff;border: 1px dotted black;border-radius: 0.25em;box-sizing: border-box;margin-bottom: 0.5em;}#sk-container-id-1 div.sk-estimator:hover {background-color: #d4ebff;}#sk-container-id-1 div.sk-parallel-item::after {content: \"\";width: 100%;border-bottom: 1px solid gray;flex-grow: 1;}#sk-container-id-1 div.sk-label:hover label.sk-toggleable__label {background-color: #d4ebff;}#sk-container-id-1 div.sk-serial::before {content: \"\";position: absolute;border-left: 1px solid gray;box-sizing: border-box;top: 0;bottom: 0;left: 50%;z-index: 0;}#sk-container-id-1 div.sk-serial {display: flex;flex-direction: column;align-items: center;background-color: white;padding-right: 0.2em;padding-left: 0.2em;position: relative;}#sk-container-id-1 div.sk-item {position: relative;z-index: 1;}#sk-container-id-1 div.sk-parallel {display: flex;align-items: stretch;justify-content: center;background-color: white;position: relative;}#sk-container-id-1 div.sk-item::before, #sk-container-id-1 div.sk-parallel-item::before {content: \"\";position: absolute;border-left: 1px solid gray;box-sizing: border-box;top: 0;bottom: 0;left: 50%;z-index: -1;}#sk-container-id-1 div.sk-parallel-item {display: flex;flex-direction: column;z-index: 1;position: relative;background-color: white;}#sk-container-id-1 div.sk-parallel-item:first-child::after {align-self: flex-end;width: 50%;}#sk-container-id-1 div.sk-parallel-item:last-child::after {align-self: flex-start;width: 50%;}#sk-container-id-1 div.sk-parallel-item:only-child::after {width: 0;}#sk-container-id-1 div.sk-dashed-wrapped {border: 1px dashed gray;margin: 0 0.4em 0.5em 0.4em;box-sizing: border-box;padding-bottom: 0.4em;background-color: white;}#sk-container-id-1 div.sk-label label {font-family: monospace;font-weight: bold;display: inline-block;line-height: 1.2em;}#sk-container-id-1 div.sk-label-container {text-align: center;}#sk-container-id-1 div.sk-container {/* jupyter's `normalize.less` sets `[hidden] { display: none; }` but bootstrap.min.css set `[hidden] { display: none !important; }` so we also need the `!important` here to be able to override the default hidden behavior on the sphinx rendered scikit-learn.org. See: https://github.com/scikit-learn/scikit-learn/issues/21755 */display: inline-block !important;position: relative;}#sk-container-id-1 div.sk-text-repr-fallback {display: none;}</style><div id=\"sk-container-id-1\" class=\"sk-top-container\"><div class=\"sk-text-repr-fallback\"><pre>StackingRegressor(cv=5,\n",
       "                  estimators=[(&#x27;LinearRegression &#x27;, LinearRegression()),\n",
       "                              (&#x27;ExtraTreesRegressor&#x27;, ExtraTreesRegressor()),\n",
       "                              (&#x27;Elastic Net &#x27;, ElasticNet()),\n",
       "                              (&#x27;XGBoost&#x27;,\n",
       "                               XGBRegressor(base_score=None, booster=None,\n",
       "                                            callbacks=None,\n",
       "                                            colsample_bylevel=None,\n",
       "                                            colsample_bynode=None,\n",
       "                                            colsample_bytree=None,\n",
       "                                            early_stopping_rounds=None,\n",
       "                                            enable_categorical=False,\n",
       "                                            eval_metric=No...\n",
       "                                            importance_type=None,\n",
       "                                            interaction_constraints=None,\n",
       "                                            learning_rate=None, max_bin=None,\n",
       "                                            max_cat_threshold=None,\n",
       "                                            max_cat_to_onehot=None,\n",
       "                                            max_delta_step=None, max_depth=None,\n",
       "                                            max_leaves=None,\n",
       "                                            min_child_weight=None, missing=nan,\n",
       "                                            monotone_constraints=None,\n",
       "                                            n_estimators=100, n_jobs=None,\n",
       "                                            num_parallel_tree=None,\n",
       "                                            predictor=None, random_state=None, ...))],\n",
       "                  final_estimator=ExtraTreesRegressor())</pre><b>In a Jupyter environment, please rerun this cell to show the HTML representation or trust the notebook. <br />On GitHub, the HTML representation is unable to render, please try loading this page with nbviewer.org.</b></div><div class=\"sk-container\" hidden><div class=\"sk-item sk-dashed-wrapped\"><div class=\"sk-label-container\"><div class=\"sk-label sk-toggleable\"><input class=\"sk-toggleable__control sk-hidden--visually\" id=\"sk-estimator-id-1\" type=\"checkbox\" ><label for=\"sk-estimator-id-1\" class=\"sk-toggleable__label sk-toggleable__label-arrow\">StackingRegressor</label><div class=\"sk-toggleable__content\"><pre>StackingRegressor(cv=5,\n",
       "                  estimators=[(&#x27;LinearRegression &#x27;, LinearRegression()),\n",
       "                              (&#x27;ExtraTreesRegressor&#x27;, ExtraTreesRegressor()),\n",
       "                              (&#x27;Elastic Net &#x27;, ElasticNet()),\n",
       "                              (&#x27;XGBoost&#x27;,\n",
       "                               XGBRegressor(base_score=None, booster=None,\n",
       "                                            callbacks=None,\n",
       "                                            colsample_bylevel=None,\n",
       "                                            colsample_bynode=None,\n",
       "                                            colsample_bytree=None,\n",
       "                                            early_stopping_rounds=None,\n",
       "                                            enable_categorical=False,\n",
       "                                            eval_metric=No...\n",
       "                                            importance_type=None,\n",
       "                                            interaction_constraints=None,\n",
       "                                            learning_rate=None, max_bin=None,\n",
       "                                            max_cat_threshold=None,\n",
       "                                            max_cat_to_onehot=None,\n",
       "                                            max_delta_step=None, max_depth=None,\n",
       "                                            max_leaves=None,\n",
       "                                            min_child_weight=None, missing=nan,\n",
       "                                            monotone_constraints=None,\n",
       "                                            n_estimators=100, n_jobs=None,\n",
       "                                            num_parallel_tree=None,\n",
       "                                            predictor=None, random_state=None, ...))],\n",
       "                  final_estimator=ExtraTreesRegressor())</pre></div></div></div><div class=\"sk-serial\"><div class=\"sk-item\"><div class=\"sk-parallel\"><div class=\"sk-parallel-item\"><div class=\"sk-item\"><div class=\"sk-label-container\"><div class=\"sk-label sk-toggleable\"><label>LinearRegression </label></div></div><div class=\"sk-serial\"><div class=\"sk-item\"><div class=\"sk-estimator sk-toggleable\"><input class=\"sk-toggleable__control sk-hidden--visually\" id=\"sk-estimator-id-2\" type=\"checkbox\" ><label for=\"sk-estimator-id-2\" class=\"sk-toggleable__label sk-toggleable__label-arrow\">LinearRegression</label><div class=\"sk-toggleable__content\"><pre>LinearRegression()</pre></div></div></div></div></div></div><div class=\"sk-parallel-item\"><div class=\"sk-item\"><div class=\"sk-label-container\"><div class=\"sk-label sk-toggleable\"><label>ExtraTreesRegressor</label></div></div><div class=\"sk-serial\"><div class=\"sk-item\"><div class=\"sk-estimator sk-toggleable\"><input class=\"sk-toggleable__control sk-hidden--visually\" id=\"sk-estimator-id-3\" type=\"checkbox\" ><label for=\"sk-estimator-id-3\" class=\"sk-toggleable__label sk-toggleable__label-arrow\">ExtraTreesRegressor</label><div class=\"sk-toggleable__content\"><pre>ExtraTreesRegressor()</pre></div></div></div></div></div></div><div class=\"sk-parallel-item\"><div class=\"sk-item\"><div class=\"sk-label-container\"><div class=\"sk-label sk-toggleable\"><label>Elastic Net </label></div></div><div class=\"sk-serial\"><div class=\"sk-item\"><div class=\"sk-estimator sk-toggleable\"><input class=\"sk-toggleable__control sk-hidden--visually\" id=\"sk-estimator-id-4\" type=\"checkbox\" ><label for=\"sk-estimator-id-4\" class=\"sk-toggleable__label sk-toggleable__label-arrow\">ElasticNet</label><div class=\"sk-toggleable__content\"><pre>ElasticNet()</pre></div></div></div></div></div></div><div class=\"sk-parallel-item\"><div class=\"sk-item\"><div class=\"sk-label-container\"><div class=\"sk-label sk-toggleable\"><label>XGBoost</label></div></div><div class=\"sk-serial\"><div class=\"sk-item\"><div class=\"sk-estimator sk-toggleable\"><input class=\"sk-toggleable__control sk-hidden--visually\" id=\"sk-estimator-id-5\" type=\"checkbox\" ><label for=\"sk-estimator-id-5\" class=\"sk-toggleable__label sk-toggleable__label-arrow\">XGBRegressor</label><div class=\"sk-toggleable__content\"><pre>XGBRegressor(base_score=None, booster=None, callbacks=None,\n",
       "             colsample_bylevel=None, colsample_bynode=None,\n",
       "             colsample_bytree=None, early_stopping_rounds=None,\n",
       "             enable_categorical=False, eval_metric=None, feature_types=None,\n",
       "             gamma=None, gpu_id=None, grow_policy=None, importance_type=None,\n",
       "             interaction_constraints=None, learning_rate=None, max_bin=None,\n",
       "             max_cat_threshold=None, max_cat_to_onehot=None,\n",
       "             max_delta_step=None, max_depth=None, max_leaves=None,\n",
       "             min_child_weight=None, missing=nan, monotone_constraints=None,\n",
       "             n_estimators=100, n_jobs=None, num_parallel_tree=None,\n",
       "             predictor=None, random_state=None, ...)</pre></div></div></div></div></div></div></div></div><div class=\"sk-item\"><div class=\"sk-parallel\"><div class=\"sk-parallel-item\"><div class=\"sk-item\"><div class=\"sk-label-container\"><div class=\"sk-label sk-toggleable\"><label>final_estimator</label></div></div><div class=\"sk-serial\"><div class=\"sk-item\"><div class=\"sk-estimator sk-toggleable\"><input class=\"sk-toggleable__control sk-hidden--visually\" id=\"sk-estimator-id-6\" type=\"checkbox\" ><label for=\"sk-estimator-id-6\" class=\"sk-toggleable__label sk-toggleable__label-arrow\">ExtraTreesRegressor</label><div class=\"sk-toggleable__content\"><pre>ExtraTreesRegressor()</pre></div></div></div></div></div></div></div></div></div></div></div></div>"
      ],
      "text/plain": [
       "StackingRegressor(cv=5,\n",
       "                  estimators=[('LinearRegression ', LinearRegression()),\n",
       "                              ('ExtraTreesRegressor', ExtraTreesRegressor()),\n",
       "                              ('Elastic Net ', ElasticNet()),\n",
       "                              ('XGBoost',\n",
       "                               XGBRegressor(base_score=None, booster=None,\n",
       "                                            callbacks=None,\n",
       "                                            colsample_bylevel=None,\n",
       "                                            colsample_bynode=None,\n",
       "                                            colsample_bytree=None,\n",
       "                                            early_stopping_rounds=None,\n",
       "                                            enable_categorical=False,\n",
       "                                            eval_metric=No...\n",
       "                                            importance_type=None,\n",
       "                                            interaction_constraints=None,\n",
       "                                            learning_rate=None, max_bin=None,\n",
       "                                            max_cat_threshold=None,\n",
       "                                            max_cat_to_onehot=None,\n",
       "                                            max_delta_step=None, max_depth=None,\n",
       "                                            max_leaves=None,\n",
       "                                            min_child_weight=None, missing=nan,\n",
       "                                            monotone_constraints=None,\n",
       "                                            n_estimators=100, n_jobs=None,\n",
       "                                            num_parallel_tree=None,\n",
       "                                            predictor=None, random_state=None, ...))],\n",
       "                  final_estimator=ExtraTreesRegressor())"
      ]
     },
     "execution_count": 51,
     "metadata": {},
     "output_type": "execute_result"
    }
   ],
   "source": [
    "from sklearn.ensemble import StackingRegressor\n",
    "\n",
    "stacking_reg = StackingRegressor(\n",
    "    estimators = [\n",
    "        ('LinearRegression ',LinearRegression()),\n",
    "        ('ExtraTreesRegressor',ExtraTreesRegressor()),\n",
    "        ('Elastic Net ', ElasticNet()),\n",
    "        ('XGBoost' , xgb.XGBRegressor())\n",
    "    ],\n",
    "    final_estimator = ExtraTreesRegressor() , cv = 5\n",
    ")\n",
    "stacking_reg.fit(X_train , y_train)"
   ]
  },
  {
   "cell_type": "code",
   "execution_count": 52,
   "id": "24b4c46d",
   "metadata": {
    "execution": {
     "iopub.execute_input": "2023-08-11T16:56:14.70596Z",
     "iopub.status.busy": "2023-08-11T16:56:14.705614Z",
     "iopub.status.idle": "2023-08-11T16:56:16.110521Z",
     "shell.execute_reply": "2023-08-11T16:56:16.109318Z"
    },
    "papermill": {
     "duration": 1.428772,
     "end_time": "2023-08-11T16:56:16.112557",
     "exception": false,
     "start_time": "2023-08-11T16:56:14.683785",
     "status": "completed"
    },
    "tags": []
   },
   "outputs": [
    {
     "name": "stdout",
     "output_type": "stream",
     "text": [
      "Root mean squared error of the model : 22.244591549316787 \n"
     ]
    }
   ],
   "source": [
    "y_pred = stacking_reg.predict(X_valid)\n",
    "rmse = np.sqrt(mean_squared_error(y_valid , y_pred))\n",
    "print(f\"Root mean squared error of the model : {rmse} \")"
   ]
  }
 ],
 "metadata": {
  "kernelspec": {
   "display_name": "Python 3",
   "language": "python",
   "name": "python3"
  },
  "language_info": {
   "codemirror_mode": {
    "name": "ipython",
    "version": 3
   },
   "file_extension": ".py",
   "mimetype": "text/x-python",
   "name": "python",
   "nbconvert_exporter": "python",
   "pygments_lexer": "ipython3",
   "version": "3.10.12"
  },
  "papermill": {
   "default_parameters": {},
   "duration": 131.476471,
   "end_time": "2023-08-11T16:56:17.355692",
   "environment_variables": {},
   "exception": null,
   "input_path": "__notebook__.ipynb",
   "output_path": "__notebook__.ipynb",
   "parameters": {},
   "start_time": "2023-08-11T16:54:05.879221",
   "version": "2.4.0"
  }
 },
 "nbformat": 4,
 "nbformat_minor": 5
}
